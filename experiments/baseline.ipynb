{
 "cells": [
  {
   "cell_type": "code",
   "execution_count": 168,
   "id": "16f033e5",
   "metadata": {},
   "outputs": [
    {
     "name": "stdout",
     "output_type": "stream",
     "text": [
      "The autoreload extension is already loaded. To reload it, use:\n",
      "  %reload_ext autoreload\n"
     ]
    }
   ],
   "source": [
    "%load_ext autoreload\n",
    "%autoreload 2"
   ]
  },
  {
   "cell_type": "code",
   "execution_count": 169,
   "id": "a31c2d6c",
   "metadata": {},
   "outputs": [],
   "source": [
    "import os, sys\n",
    "# compute the absolute path to your project root:\n",
    "root = os.path.abspath(os.path.join(os.getcwd(), '..'))\n",
    "# insert it at the front of Python’s module search path:\n",
    "sys.path.insert(0, root)"
   ]
  },
  {
   "cell_type": "code",
   "execution_count": null,
   "id": "9f588d97",
   "metadata": {},
   "outputs": [],
   "source": [
    "import matplotlib.pyplot as plt\n",
    "from torch.utils.data import DataLoader\n",
    "\n",
    "import torch\n",
    "from torch.nn import functional as F\n",
    "import torch.optim as optim\n",
    "\n",
    "# Data pipeline\n",
    "from data_utils.preprocess import (\n",
    "    load_movielens, clean_and_filter,\n",
    "    get_user_sequences, split_sequences,\n",
    "    build_examples, pad_sequences,\n",
    "    build_user_table, build_movie_table\n",
    ")\n",
    "\n",
    "# Dataset wrapper\n",
    "from data_utils.datasets import MFTrainDataset\n",
    "\n",
    "# Model and evaluation\n",
    "from models.matrix_factorization import MatrixFactorization, DeepMF\n",
    "from evaluation import evaluate_ranking_model"
   ]
  },
  {
   "cell_type": "code",
   "execution_count": 172,
   "id": "c943a8cc",
   "metadata": {},
   "outputs": [
    {
     "name": "stdout",
     "output_type": "stream",
     "text": [
      "Running on mps\n"
     ]
    }
   ],
   "source": [
    "device = torch.device(\"mps\") if torch.backends.mps.is_available() else torch.device(\"cpu\")\n",
    "print(\"Running on\", device)"
   ]
  },
  {
   "cell_type": "markdown",
   "id": "c5ee0eab",
   "metadata": {},
   "source": [
    "## Data preprocessing\n",
    "\n",
    "1.\tLoad raw data\n",
    "Reads MovieLens “ratings”, “users” and “movies” files into pandas DataFrames.\n",
    "2.\tClean & filter\n",
    "• Drops ratings for nonexistent movies\n",
    "• Keeps only ratings ≥ threshold (default 4)\n",
    "• Converts Unix timestamps to datetime\n",
    "3.\tBuild user timelines\n",
    "Sorts each user’s interactions by time and collects their movie‑ID sequence.\n",
    "4.\tSplit sequences\n",
    "For each user with ≥ 3 events, chops their list into train, validation and test segments (by ratios 0.8/0.1/0.1).\n",
    "5.\tConstruct training examples\n",
    "For every prefix of length ≥ 2 in each user’s train split, emits one example comprising:\n",
    "    - the prefix\n",
    "    - the next (positive) item\n",
    "    - K randomly sampled negatives (items the user never saw)\n",
    "6.\tPad & mask\n",
    "Right‐pad each prefix to a fixed length (max_len, default 50) with 0s, and build a matching binary mask.\n",
    "7.\tBuild side‐feature tables\n",
    "    - Users: bucket ages, drop ZIP, one‐hot encode gender & occupation\n",
    "    - Movies: one‐hot encode genres, extract release year from title\n",
    "\n",
    "At the end you have:\n",
    "- A list of prefix / positive / negative examples, all padded for model input\n",
    "- Dense user and movie feature tables for any tabular model components."
   ]
  },
  {
   "cell_type": "code",
   "execution_count": 173,
   "id": "7b9267dd",
   "metadata": {},
   "outputs": [
    {
     "name": "stdout",
     "output_type": "stream",
     "text": [
      "Train examples: 445746,  Val examples: 51222\n"
     ]
    }
   ],
   "source": [
    "data_dir = \"../data\"\n",
    "# 1) load & filter\n",
    "ratings, users, movies = load_movielens(data_dir)\n",
    "ratings, users, movies = clean_and_filter(ratings, users, movies, rating_threshold=4)\n",
    "\n",
    "# 2) build per-user sequences & splits\n",
    "user_seqs   = get_user_sequences(ratings)\n",
    "user_splits = split_sequences(user_seqs, train_ratio=0.8, val_ratio=0.1)\n",
    "\n",
    "# 3) global item set\n",
    "all_movies = set(movies[\"MovieID\"].unique())\n",
    "\n",
    "# 4) build examples for train/val\n",
    "train_exs = build_examples(user_splits, all_movies, K=5, split=\"train\")\n",
    "val_exs   = build_examples(user_splits, all_movies, K=5, split=\"val\")\n",
    "test_exs   = build_examples(user_splits, all_movies, K=5, split=\"test\")\n",
    "\n",
    "# 5) pad to fixed length\n",
    "max_len   = 50\n",
    "train_exs = pad_sequences(train_exs, max_len=max_len)\n",
    "val_exs   = pad_sequences(val_exs, max_len=max_len)\n",
    "test_exs  = pad_sequences(test_exs, max_len=max_len)\n",
    "\n",
    "print(f\"Train examples: {len(train_exs)},  Val examples: {len(val_exs)}\")"
   ]
  },
  {
   "cell_type": "code",
   "execution_count": 174,
   "id": "30c1d9d6",
   "metadata": {},
   "outputs": [
    {
     "data": {
      "text/html": [
       "<div>\n",
       "<style scoped>\n",
       "    .dataframe tbody tr th:only-of-type {\n",
       "        vertical-align: middle;\n",
       "    }\n",
       "\n",
       "    .dataframe tbody tr th {\n",
       "        vertical-align: top;\n",
       "    }\n",
       "\n",
       "    .dataframe thead th {\n",
       "        text-align: right;\n",
       "    }\n",
       "</style>\n",
       "<table border=\"1\" class=\"dataframe\">\n",
       "  <thead>\n",
       "    <tr style=\"text-align: right;\">\n",
       "      <th></th>\n",
       "      <th>MovieID</th>\n",
       "      <th>Title</th>\n",
       "      <th>Genres</th>\n",
       "    </tr>\n",
       "  </thead>\n",
       "  <tbody>\n",
       "    <tr>\n",
       "      <th>0</th>\n",
       "      <td>0</td>\n",
       "      <td>Toy Story (1995)</td>\n",
       "      <td>Animation|Children's|Comedy</td>\n",
       "    </tr>\n",
       "    <tr>\n",
       "      <th>1</th>\n",
       "      <td>1</td>\n",
       "      <td>Jumanji (1995)</td>\n",
       "      <td>Adventure|Children's|Fantasy</td>\n",
       "    </tr>\n",
       "    <tr>\n",
       "      <th>2</th>\n",
       "      <td>2</td>\n",
       "      <td>Grumpier Old Men (1995)</td>\n",
       "      <td>Comedy|Romance</td>\n",
       "    </tr>\n",
       "    <tr>\n",
       "      <th>3</th>\n",
       "      <td>3</td>\n",
       "      <td>Waiting to Exhale (1995)</td>\n",
       "      <td>Comedy|Drama</td>\n",
       "    </tr>\n",
       "    <tr>\n",
       "      <th>4</th>\n",
       "      <td>4</td>\n",
       "      <td>Father of the Bride Part II (1995)</td>\n",
       "      <td>Comedy</td>\n",
       "    </tr>\n",
       "  </tbody>\n",
       "</table>\n",
       "</div>"
      ],
      "text/plain": [
       "   MovieID                               Title                        Genres\n",
       "0        0                    Toy Story (1995)   Animation|Children's|Comedy\n",
       "1        1                      Jumanji (1995)  Adventure|Children's|Fantasy\n",
       "2        2             Grumpier Old Men (1995)                Comedy|Romance\n",
       "3        3            Waiting to Exhale (1995)                  Comedy|Drama\n",
       "4        4  Father of the Bride Part II (1995)                        Comedy"
      ]
     },
     "execution_count": 174,
     "metadata": {},
     "output_type": "execute_result"
    }
   ],
   "source": [
    "movies.head()"
   ]
  },
  {
   "cell_type": "markdown",
   "id": "cd8b36c7",
   "metadata": {},
   "source": [
    "Each example in train_exs now has:\n",
    "- `ex[\"padded_prefix\"]` → np.array of shape (max_len,)\n",
    "- `ex[\"mask\"]`          → np.array of 0/1 mask of shape (max_len,)\n",
    "- `ex[\"positive\"]`      → scalar item ID\n",
    "- `ex[\"negatives\"]`     → list of K sampled negatives that are dense movie_ids"
   ]
  },
  {
   "cell_type": "code",
   "execution_count": null,
   "id": "54dfc4b3",
   "metadata": {},
   "outputs": [],
   "source": [
    "\n",
    "# These take your raw `users` and `movies` DataFrames\n",
    "user_tab  = build_user_table(users)\n",
    "movie_tab = build_movie_table(movies)\n",
    "\n",
    "# `user_tab` will have one‑hot cols for Gender & Occupation, plus AgeBucket.\n",
    "# `movie_tab` will have multi‑hot genre columns and a Year column, plus Title."
   ]
  },
  {
   "cell_type": "code",
   "execution_count": 175,
   "id": "9e669910",
   "metadata": {},
   "outputs": [
    {
     "data": {
      "text/html": [
       "<div>\n",
       "<style scoped>\n",
       "    .dataframe tbody tr th:only-of-type {\n",
       "        vertical-align: middle;\n",
       "    }\n",
       "\n",
       "    .dataframe tbody tr th {\n",
       "        vertical-align: top;\n",
       "    }\n",
       "\n",
       "    .dataframe thead th {\n",
       "        text-align: right;\n",
       "    }\n",
       "</style>\n",
       "<table border=\"1\" class=\"dataframe\">\n",
       "  <thead>\n",
       "    <tr style=\"text-align: right;\">\n",
       "      <th></th>\n",
       "      <th>MovieID</th>\n",
       "      <th>Title</th>\n",
       "      <th>Action</th>\n",
       "      <th>Adventure</th>\n",
       "      <th>Animation</th>\n",
       "      <th>Children's</th>\n",
       "      <th>Comedy</th>\n",
       "      <th>Crime</th>\n",
       "      <th>Documentary</th>\n",
       "      <th>Drama</th>\n",
       "      <th>...</th>\n",
       "      <th>Film-Noir</th>\n",
       "      <th>Horror</th>\n",
       "      <th>Musical</th>\n",
       "      <th>Mystery</th>\n",
       "      <th>Romance</th>\n",
       "      <th>Sci-Fi</th>\n",
       "      <th>Thriller</th>\n",
       "      <th>War</th>\n",
       "      <th>Western</th>\n",
       "      <th>Year</th>\n",
       "    </tr>\n",
       "  </thead>\n",
       "  <tbody>\n",
       "    <tr>\n",
       "      <th>0</th>\n",
       "      <td>0</td>\n",
       "      <td>Toy Story</td>\n",
       "      <td>0</td>\n",
       "      <td>0</td>\n",
       "      <td>1</td>\n",
       "      <td>1</td>\n",
       "      <td>1</td>\n",
       "      <td>0</td>\n",
       "      <td>0</td>\n",
       "      <td>0</td>\n",
       "      <td>...</td>\n",
       "      <td>0</td>\n",
       "      <td>0</td>\n",
       "      <td>0</td>\n",
       "      <td>0</td>\n",
       "      <td>0</td>\n",
       "      <td>0</td>\n",
       "      <td>0</td>\n",
       "      <td>0</td>\n",
       "      <td>0</td>\n",
       "      <td>1995</td>\n",
       "    </tr>\n",
       "    <tr>\n",
       "      <th>1</th>\n",
       "      <td>1</td>\n",
       "      <td>Jumanji</td>\n",
       "      <td>0</td>\n",
       "      <td>1</td>\n",
       "      <td>0</td>\n",
       "      <td>1</td>\n",
       "      <td>0</td>\n",
       "      <td>0</td>\n",
       "      <td>0</td>\n",
       "      <td>0</td>\n",
       "      <td>...</td>\n",
       "      <td>0</td>\n",
       "      <td>0</td>\n",
       "      <td>0</td>\n",
       "      <td>0</td>\n",
       "      <td>0</td>\n",
       "      <td>0</td>\n",
       "      <td>0</td>\n",
       "      <td>0</td>\n",
       "      <td>0</td>\n",
       "      <td>1995</td>\n",
       "    </tr>\n",
       "    <tr>\n",
       "      <th>2</th>\n",
       "      <td>2</td>\n",
       "      <td>Grumpier Old Men</td>\n",
       "      <td>0</td>\n",
       "      <td>0</td>\n",
       "      <td>0</td>\n",
       "      <td>0</td>\n",
       "      <td>1</td>\n",
       "      <td>0</td>\n",
       "      <td>0</td>\n",
       "      <td>0</td>\n",
       "      <td>...</td>\n",
       "      <td>0</td>\n",
       "      <td>0</td>\n",
       "      <td>0</td>\n",
       "      <td>0</td>\n",
       "      <td>1</td>\n",
       "      <td>0</td>\n",
       "      <td>0</td>\n",
       "      <td>0</td>\n",
       "      <td>0</td>\n",
       "      <td>1995</td>\n",
       "    </tr>\n",
       "    <tr>\n",
       "      <th>3</th>\n",
       "      <td>3</td>\n",
       "      <td>Waiting to Exhale</td>\n",
       "      <td>0</td>\n",
       "      <td>0</td>\n",
       "      <td>0</td>\n",
       "      <td>0</td>\n",
       "      <td>1</td>\n",
       "      <td>0</td>\n",
       "      <td>0</td>\n",
       "      <td>1</td>\n",
       "      <td>...</td>\n",
       "      <td>0</td>\n",
       "      <td>0</td>\n",
       "      <td>0</td>\n",
       "      <td>0</td>\n",
       "      <td>0</td>\n",
       "      <td>0</td>\n",
       "      <td>0</td>\n",
       "      <td>0</td>\n",
       "      <td>0</td>\n",
       "      <td>1995</td>\n",
       "    </tr>\n",
       "    <tr>\n",
       "      <th>4</th>\n",
       "      <td>4</td>\n",
       "      <td>Father of the Bride Part II</td>\n",
       "      <td>0</td>\n",
       "      <td>0</td>\n",
       "      <td>0</td>\n",
       "      <td>0</td>\n",
       "      <td>1</td>\n",
       "      <td>0</td>\n",
       "      <td>0</td>\n",
       "      <td>0</td>\n",
       "      <td>...</td>\n",
       "      <td>0</td>\n",
       "      <td>0</td>\n",
       "      <td>0</td>\n",
       "      <td>0</td>\n",
       "      <td>0</td>\n",
       "      <td>0</td>\n",
       "      <td>0</td>\n",
       "      <td>0</td>\n",
       "      <td>0</td>\n",
       "      <td>1995</td>\n",
       "    </tr>\n",
       "  </tbody>\n",
       "</table>\n",
       "<p>5 rows × 21 columns</p>\n",
       "</div>"
      ],
      "text/plain": [
       "   MovieID                        Title  Action  Adventure  Animation  \\\n",
       "0        0                    Toy Story       0          0          1   \n",
       "1        1                      Jumanji       0          1          0   \n",
       "2        2             Grumpier Old Men       0          0          0   \n",
       "3        3            Waiting to Exhale       0          0          0   \n",
       "4        4  Father of the Bride Part II       0          0          0   \n",
       "\n",
       "   Children's  Comedy  Crime  Documentary  Drama  ...  Film-Noir  Horror  \\\n",
       "0           1       1      0            0      0  ...          0       0   \n",
       "1           1       0      0            0      0  ...          0       0   \n",
       "2           0       1      0            0      0  ...          0       0   \n",
       "3           0       1      0            0      1  ...          0       0   \n",
       "4           0       1      0            0      0  ...          0       0   \n",
       "\n",
       "   Musical  Mystery  Romance  Sci-Fi  Thriller  War  Western  Year  \n",
       "0        0        0        0       0         0    0        0  1995  \n",
       "1        0        0        0       0         0    0        0  1995  \n",
       "2        0        0        1       0         0    0        0  1995  \n",
       "3        0        0        0       0         0    0        0  1995  \n",
       "4        0        0        0       0         0    0        0  1995  \n",
       "\n",
       "[5 rows x 21 columns]"
      ]
     },
     "execution_count": 175,
     "metadata": {},
     "output_type": "execute_result"
    }
   ],
   "source": [
    "movie_tab.head()"
   ]
  },
  {
   "cell_type": "markdown",
   "id": "7d3f5d5c",
   "metadata": {},
   "source": [
    "- `user_tab` will have one‑hot cols for Gender & Occupation, plus AgeBucket.\n",
    "- `movie_tab` will have multi‑hot genre columns and a Year column, plus Title."
   ]
  },
  {
   "cell_type": "code",
   "execution_count": 176,
   "id": "119e42d7",
   "metadata": {},
   "outputs": [],
   "source": [
    "# These are lookup arrays that can be dropped in to your Dataset __getitem__:\n",
    "user_feat_mat  = user_tab.drop(\"UserID\", axis=1).values   # (n_users, n_user_feats)\n",
    "movie_feat_mat = movie_tab.drop([\"MovieID\",\"Title\"], axis=1).values  # (n_movies, n_movie_feats)\n",
    "# u_feats = torch.tensor(user_feat_mat[user_idx], dtype=torch.float)\n",
    "# i_feats = torch.tensor(movie_feat_mat[movie_idx], dtype=torch.float)"
   ]
  },
  {
   "cell_type": "markdown",
   "id": "1754ea00",
   "metadata": {},
   "source": [
    "## Matrix Factorization (MF)\n",
    "\n",
    "- **Goal**  \n",
    "  Approximate the user–item interaction matrix \\(R\\) by two low‑rank factors:  \n",
    "  $$R \\approx U\\,V^{T}$$\n",
    "\n",
    "- **Embeddings**  \n",
    "  - $U \\in \\mathbb{R}^{n_{\\text{users}}\\times k}$: each row $u_{i}$ is a $k$‑dimensional user vector  \n",
    "  - $V \\in \\mathbb{R}^{n_{\\text{items}}\\times k}$: each row $v_{j}$ is a $k$‑dimensional item vector  \n",
    "\n",
    "- **Prediction**  \n",
    "  $$\\hat r_{i,j} = u_{i}\\cdot v_{j}\n",
    "    = \\sum_{\\ell=1}^{k} U_{i,\\ell}\\,V_{j,\\ell}$$\n",
    "\n",
    "- **Training objectives**  \n",
    "  - **Pairwise (BPR)**  \n",
    "    $$\\min_{U,V}\\;\n",
    "      -\\sum_{(i,p,n)} \\ln\\sigma\\bigl(\\hat r_{i,p} - \\hat r_{i,n}\\bigr)$$\n",
    "\n",
    "- **Why it works**  \n",
    "  1. Learns compact “taste” factors without explicit features  \n",
    "  2. Compresses a large, sparse matrix into dense vectors  \n",
    "  3. Enables very fast inference via a simple dot‑product  "
   ]
  },
  {
   "cell_type": "code",
   "execution_count": 186,
   "id": "c6ecec6c",
   "metadata": {},
   "outputs": [
    {
     "name": "stdout",
     "output_type": "stream",
     "text": [
      "Batches per epoch: 436\n"
     ]
    }
   ],
   "source": [
    "batch_size = 1024\n",
    "\n",
    "train_ds = MFTrainDataset(train_exs, num_negatives=1)\n",
    "val_ds   = MFTrainDataset(val_exs,   num_negatives=1)\n",
    "\n",
    "train_loader = DataLoader(train_ds, batch_size=batch_size, shuffle=True,  num_workers=2)\n",
    "val_loader   = DataLoader(val_ds,   batch_size=batch_size, shuffle=False, num_workers=2)\n",
    "\n",
    "num_users = len(users)\n",
    "num_items = len(movies)\n",
    "\n",
    "mf        = MatrixFactorization(num_users, num_items, embedding_dim=32).to(device)\n",
    "optimizer = optim.Adam(mf.parameters(), lr=1e-3)\n",
    "\n",
    "def bpr_loss(pos_scores, neg_scores):\n",
    "    return -(pos_scores - neg_scores).sigmoid().log().mean()\n",
    "\n",
    "print(\"Batches per epoch:\", len(train_loader))\n"
   ]
  },
  {
   "cell_type": "code",
   "execution_count": 167,
   "id": "1a88ced1",
   "metadata": {},
   "outputs": [
    {
     "data": {
      "text/plain": [
       "(3883, 3882, 0)"
      ]
     },
     "execution_count": 167,
     "metadata": {},
     "output_type": "execute_result"
    }
   ],
   "source": [
    "unique_ids = {\n",
    "    int(ex[\"positive\"]) for ex in train_exs\n",
    "}.union({\n",
    "    int(ex[\"negatives\"][0]) for ex in train_exs\n",
    "})\n",
    "len(unique_ids), max(unique_ids), min(unique_ids)"
   ]
  },
  {
   "cell_type": "code",
   "execution_count": 184,
   "id": "0b2bd74d",
   "metadata": {},
   "outputs": [
    {
     "data": {
      "text/plain": [
       "(6035, 6039, 0)"
      ]
     },
     "execution_count": 184,
     "metadata": {},
     "output_type": "execute_result"
    }
   ],
   "source": [
    "unique_ids = {\n",
    "    int(ex[\"UserID\"]) for ex in train_exs\n",
    "}\n",
    "len(unique_ids), max(unique_ids), min(unique_ids)"
   ]
  },
  {
   "cell_type": "code",
   "execution_count": null,
   "id": "5e3b6f05",
   "metadata": {},
   "outputs": [
    {
     "name": "stdout",
     "output_type": "stream",
     "text": [
      "Epoch 1/50 — Train: 2.0749, Val: 2.4893\n",
      "Epoch 2/50 — Train: 1.9082, Val: 2.3821\n",
      "Epoch 3/50 — Train: 1.7545, Val: 2.2806\n",
      "Epoch 4/50 — Train: 1.6130, Val: 2.1835\n",
      "Epoch 5/50 — Train: 1.4814, Val: 2.0900\n",
      "Epoch 6/50 — Train: 1.3582, Val: 1.9989\n",
      "Epoch 7/50 — Train: 1.2425, Val: 1.9090\n",
      "Epoch 8/50 — Train: 1.1320, Val: 1.8186\n",
      "Epoch 9/50 — Train: 1.0261, Val: 1.7267\n",
      "Epoch 10/50 — Train: 0.9235, Val: 1.6329\n",
      "Epoch 11/50 — Train: 0.8249, Val: 1.5371\n",
      "Epoch 12/50 — Train: 0.7306, Val: 1.4412\n",
      "Epoch 13/50 — Train: 0.6425, Val: 1.3474\n",
      "Epoch 14/50 — Train: 0.5627, Val: 1.2584\n",
      "Epoch 15/50 — Train: 0.4924, Val: 1.1768\n",
      "Epoch 16/50 — Train: 0.4324, Val: 1.1045\n",
      "Epoch 17/50 — Train: 0.3816, Val: 1.0416\n",
      "Epoch 18/50 — Train: 0.3396, Val: 0.9882\n",
      "Epoch 19/50 — Train: 0.3048, Val: 0.9432\n",
      "Epoch 20/50 — Train: 0.2760, Val: 0.9058\n",
      "Epoch 21/50 — Train: 0.2520, Val: 0.8746\n",
      "Epoch 22/50 — Train: 0.2316, Val: 0.8485\n",
      "Epoch 23/50 — Train: 0.2142, Val: 0.8267\n",
      "Epoch 24/50 — Train: 0.1990, Val: 0.8084\n",
      "Epoch 25/50 — Train: 0.1857, Val: 0.7931\n",
      "Epoch 26/50 — Train: 0.1738, Val: 0.7803\n",
      "Epoch 27/50 — Train: 0.1631, Val: 0.7694\n",
      "Epoch 28/50 — Train: 0.1534, Val: 0.7606\n",
      "Epoch 29/50 — Train: 0.1446, Val: 0.7531\n",
      "Epoch 30/50 — Train: 0.1365, Val: 0.7470\n",
      "Epoch 31/50 — Train: 0.1289, Val: 0.7423\n",
      "Epoch 32/50 — Train: 0.1218, Val: 0.7386\n",
      "Epoch 33/50 — Train: 0.1153, Val: 0.7361\n",
      "Epoch 34/50 — Train: 0.1092, Val: 0.7345\n",
      "Epoch 35/50 — Train: 0.1034, Val: 0.7337\n",
      "Epoch 36/50 — Train: 0.0980, Val: 0.7337\n",
      "Epoch 37/50 — Train: 0.0929, Val: 0.7345\n",
      "Epoch 38/50 — Train: 0.0881, Val: 0.7359\n",
      "Epoch 39/50 — Train: 0.0836, Val: 0.7381\n",
      "Epoch 40/50 — Train: 0.0793, Val: 0.7407\n",
      "Epoch 41/50 — Train: 0.0752, Val: 0.7440\n",
      "Epoch 42/50 — Train: 0.0714, Val: 0.7479\n",
      "Epoch 43/50 — Train: 0.0677, Val: 0.7522\n",
      "Epoch 44/50 — Train: 0.0643, Val: 0.7570\n",
      "Epoch 45/50 — Train: 0.0609, Val: 0.7624\n",
      "Epoch 46/50 — Train: 0.0578, Val: 0.7681\n",
      "Epoch 47/50 — Train: 0.0548, Val: 0.7744\n",
      "Epoch 48/50 — Train: 0.0519, Val: 0.7809\n",
      "Epoch 49/50 — Train: 0.0492, Val: 0.7880\n",
      "Epoch 50/50 — Train: 0.0466, Val: 0.7955\n"
     ]
    },
    {
     "data": {
      "image/png": "[encoded data removed]",
      "text/plain": [
       "<Figure size 640x480 with 1 Axes>"
      ]
     },
     "metadata": {},
     "output_type": "display_data"
    }
   ],
   "source": [
    "epochs = 3\n",
    "train_losses, val_losses = [], []\n",
    "\n",
    "for epoch in range(1, epochs+1):\n",
    "    # ——— train ———\n",
    "    mf.train()\n",
    "    tot_train = 0.0\n",
    "    for user, pos, neg in train_loader:\n",
    "        user, pos, neg = user.to(device), pos.to(device), neg.to(device)\n",
    "        optimizer.zero_grad()\n",
    "        loss = bpr_loss(mf(user, pos), mf(user, neg))\n",
    "        loss.backward()\n",
    "        optimizer.step()\n",
    "        tot_train += loss.item()\n",
    "    avg_train = tot_train / len(train_loader)\n",
    "    train_losses.append(avg_train)\n",
    "\n",
    "    # ——— val ———\n",
    "    mf.eval()\n",
    "    tot_val = 0.0\n",
    "    with torch.no_grad():\n",
    "        for user, pos, neg in val_loader:\n",
    "            user, pos, neg = user.to(device), pos.to(device), neg.to(device)\n",
    "            tot_val += bpr_loss(mf(user, pos), mf(user, neg)).item()\n",
    "    avg_val = tot_val / len(val_loader)\n",
    "    val_losses.append(avg_val)\n",
    "\n",
    "    print(f\"Epoch {epoch}/{epochs} — Train: {avg_train:.4f}, Val: {avg_val:.4f}\")\n",
    "\n",
    "# Cell 6: plot curves\n",
    "plt.plot(range(1, epochs+1), train_losses, label=\"Train Loss\")\n",
    "plt.plot(range(1, epochs+1), val_losses,   label=\"Val Loss\")\n",
    "plt.xlabel(\"Epoch\")\n",
    "plt.ylabel(\"BPR Loss\")\n",
    "plt.title(\"Training & Validation Loss Curve\")\n",
    "plt.legend()\n",
    "plt.show()"
   ]
  },
  {
   "cell_type": "markdown",
   "id": "4f32502b",
   "metadata": {},
   "source": [
    "### Evaluation Procedure\n",
    "\n",
    "#### 1. Metrics definitions\n",
    "- **Hit@K**  \n",
    "  Returns 1 if the true (positive) item is ranked $\\le K$, else 0.\n",
    "- **NDCG@K**  \n",
    "  Returns $\\displaystyle \\frac{1}{\\log_{2}(\\mathrm{rank}+1)}$ if $\\mathrm{rank}\\le K$, else 0.\n",
    "- **MRR** (Mean Reciprocal Rank)  \n",
    "  $\\displaystyle \\mathrm{MRR} = \\frac{1}{\\mathrm{rank}}$\n",
    "- **MAP** (Mean Average Precision)  \n",
    "  For a single positive item, $\\mathrm{AP} = \\frac{1}{\\mathrm{rank}}$\n",
    "\n",
    "#### 2. Negative sampling\n",
    "Given a user prefix (items in train + validation) and the global item set, sample $(\\mathrm{candidate\\_size} - 1)$ negatives uniformly from items the user hasn’t seen.\n",
    "\n",
    "#### 3. Per‑user evaluation loop\n",
    "For each user with at least one test item:  \n",
    "1. **Build prefix** = `train_seq + val_seq`  \n",
    "2. **Held‑out positive** = `test_seq[0]`  \n",
    "3. **Sample negatives** (size = candidate_size – 1) excluding prefix & positive  \n",
    "4. **Candidates** = `[positive] + negatives`  \n",
    "5. **Score all candidates** in one forward pass:  \n",
    "   ```python\n",
    "   users_t = torch.tensor([user] * candidate_size, dtype=torch.long, device=device)\n",
    "   items_t = torch.tensor(candidates,         dtype=torch.long, device=device)\n",
    "   scores  = model(users_t, items_t).cpu().numpy()"
   ]
  },
  {
   "cell_type": "code",
   "execution_count": 202,
   "id": "a01d13b4",
   "metadata": {},
   "outputs": [
    {
     "name": "stdout",
     "output_type": "stream",
     "text": [
      "Evaluation Metrics:\n",
      "- Hit@10: 0.3688\n",
      "- NDCG@10: 0.1803\n",
      "- MRR: 0.1505\n",
      "- MAP: 0.1505\n"
     ]
    }
   ],
   "source": [
    "metrics = evaluate_ranking_model(\n",
    "    model=mf,\n",
    "    user_splits=user_splits,\n",
    "    global_items=all_movies,\n",
    "    device=device,\n",
    "    candidate_size=100,\n",
    "    k=10\n",
    ")\n",
    "\n",
    "print(\"Evaluation Metrics:\")\n",
    "for name, val in metrics.items():\n",
    "    print(f\"- {name}: {val:.4f}\")"
   ]
  },
  {
   "cell_type": "markdown",
   "id": "cc0ba196",
   "metadata": {},
   "source": [
    "Lets see which movies are similar to toy story"
   ]
  },
  {
   "cell_type": "code",
   "execution_count": null,
   "id": "6be22f35",
   "metadata": {},
   "outputs": [
    {
     "name": "stdout",
     "output_type": "stream",
     "text": [
      "      MovieID                                              Title  similarity\n",
      "0           0                                   Toy Story (1995)    1.000000\n",
      "33         33                                        Babe (1995)    0.815856\n",
      "1178     1178  Star Wars: Episode V - The Empire Strikes Back...    0.785615\n",
      "1179     1179                         Princess Bride, The (1987)    0.761110\n",
      "1250     1250                          Back to the Future (1985)    0.745720\n",
      "1373     1373                             Raising Arizona (1987)    0.742046\n",
      "1683     1683                           Big Lebowski, The (1998)    0.740851\n",
      "1854     1854                There's Something About Mary (1998)    0.739964\n",
      "1959     1959                         Saving Private Ryan (1998)    0.729612\n",
      "2789     2789                             American Beauty (1999)    0.725672\n",
      "3045     3045                                 Toy Story 2 (1999)    0.724703\n"
     ]
    },
    {
     "name": "stderr",
     "output_type": "stream",
     "text": [
      "/var/folders/pt/4cr2zr794g717_kmql57h7qw0000gn/T/ipykernel_67461/2216239250.py:12: SettingWithCopyWarning: \n",
      "A value is trying to be set on a copy of a slice from a DataFrame.\n",
      "Try using .loc[row_indexer,col_indexer] = value instead\n",
      "\n",
      "See the caveats in the documentation: https://pandas.pydata.org/pandas-docs/stable/user_guide/indexing.html#returning-a-view-versus-a-copy\n",
      "  similar_movies_df['similarity'] = scores\n"
     ]
    }
   ],
   "source": [
    "from torch.nn import functional as F\n",
    "toy_story_emb = mf.item_embeddings.weight[0]               # shape: [32]   \n",
    "item_embs = F.normalize(mf.item_embeddings.weight, dim=1)  # shape: [3883, 32]\n",
    "toy_story_emb = toy_story_emb / toy_story_emb.norm()       # shape: [32]\n",
    "similarities = item_embs @ toy_story_emb  # shape: [3883]\n",
    "# Step 4: Get top-k most similar item indices (excluding itself if needed)\n",
    "topk = torch.topk(similarities, k=10 + 1)\n",
    "indices = topk.indices.tolist()\n",
    "# Look them up in the movies DataFrame\n",
    "similar_movies_df = movies[movies['MovieID'].isin(indices)]\n",
    "# Optional: Sort by similarity score\n",
    "scores = similarities[indices].tolist()\n",
    "similar_movies_df['similarity'] = scores\n",
    "similar_movies_df = similar_movies_df.sort_values(by='similarity', ascending=False)\n",
    "\n",
    "print(similar_movies_df[['MovieID', 'Title', 'similarity']])"
   ]
  },
  {
   "cell_type": "markdown",
   "id": "9aea7dcf",
   "metadata": {},
   "source": [
    "## Fancier matrix factorization\n",
    "\n",
    "We're now going to use an MLP instead of dot product. This brings us into deepMF territory. The set up is nearly identical so we can reuse the same data objects as before."
   ]
  },
  {
   "cell_type": "code",
   "execution_count": null,
   "id": "013b5787",
   "metadata": {},
   "outputs": [
    {
     "name": "stdout",
     "output_type": "stream",
     "text": [
      "Epoch 1/5 | Train Loss: 0.4711 | Val Loss: 0.4227\n",
      "Epoch 2/5 | Train Loss: 0.3053 | Val Loss: 0.3844\n",
      "Epoch 3/5 | Train Loss: 0.2851 | Val Loss: 0.3741\n",
      "Epoch 4/5 | Train Loss: 0.2780 | Val Loss: 0.3758\n",
      "Epoch 5/5 | Train Loss: 0.2737 | Val Loss: 0.3733\n"
     ]
    },
    {
     "data": {
      "image/png": "[encoded data removed]",
      "text/plain": [
       "<Figure size 640x480 with 1 Axes>"
      ]
     },
     "metadata": {},
     "output_type": "display_data"
    }
   ],
   "source": [
    "emb_dim = 32\n",
    "\n",
    "train_losses, val_losses = [], []\n",
    "model = DeepMF(num_users, num_items, emb_dim).to(device)\n",
    "optimizer = torch.optim.Adam(model.parameters(), lr=1e-3)\n",
    "\n",
    "epochs = 3\n",
    "\n",
    "for epoch in range(epochs):\n",
    "    # --- Training ---\n",
    "    model.train()\n",
    "    total_train_loss = 0.0\n",
    "\n",
    "    for user, pos, neg in train_loader:\n",
    "        user, pos, neg = user.to(device), pos.to(device), neg.to(device)\n",
    "\n",
    "        optimizer.zero_grad()\n",
    "        pos_score = model(user, pos)\n",
    "        neg_score = model(user, neg)\n",
    "\n",
    "        loss = -F.logsigmoid(pos_score - neg_score).mean()\n",
    "        loss.backward()\n",
    "        optimizer.step()\n",
    "\n",
    "        total_train_loss += loss.item()\n",
    "\n",
    "    avg_train_loss = total_train_loss / len(train_loader)\n",
    "    train_losses.append(avg_train_loss)\n",
    "\n",
    "    # --- Validation ---\n",
    "    model.eval()\n",
    "    total_val_loss = 0.0\n",
    "\n",
    "    with torch.no_grad():\n",
    "        for user, pos, neg in val_loader:\n",
    "            user, pos, neg = user.to(device), pos.to(device), neg.to(device)\n",
    "\n",
    "            pos_score = model(user, pos)\n",
    "            neg_score = model(user, neg)\n",
    "\n",
    "            val_loss = -F.logsigmoid(pos_score - neg_score).mean()\n",
    "            total_val_loss += val_loss.item()\n",
    "\n",
    "    avg_val_loss = total_val_loss / len(val_loader)\n",
    "    val_losses.append(avg_val_loss)\n",
    "\n",
    "    print(f\"Epoch {epoch+1}/{epochs} | Train Loss: {avg_train_loss:.4f} | Val Loss: {avg_val_loss:.4f}\")\n",
    "\n",
    "plt.plot(train_losses, label=\"Train Loss\")\n",
    "plt.plot(val_losses, label=\"Val Loss\")\n",
    "plt.xlabel(\"Epoch\")\n",
    "plt.ylabel(\"BPR Loss\")\n",
    "plt.title(\"Training & Validation BPR Loss\")\n",
    "plt.legend()\n",
    "plt.grid(True)\n",
    "plt.show()\n"
   ]
  },
  {
   "cell_type": "code",
   "execution_count": 212,
   "id": "ed442077",
   "metadata": {},
   "outputs": [
    {
     "name": "stdout",
     "output_type": "stream",
     "text": [
      "      MovieID                                          Title  similarity\n",
      "0           0                               Toy Story (1995)    1.000000\n",
      "114       114                   Anne Frank Remembered (1995)    0.548046\n",
      "901       901                     Maltese Falcon, The (1941)    0.543904\n",
      "910       910  Sunset Blvd. (a.k.a. Sunset Boulevard) (1950)    0.538334\n",
      "1055     1055                        Murder, My Sweet (1944)    0.527369\n",
      "1324     1324                                  Carrie (1976)    0.496787\n",
      "1664     1664                              Mouse Hunt (1997)    0.488045\n",
      "2256     2256                                 Orgazmo (1997)    0.469403\n",
      "2871     2871                                   Gilda (1946)    0.461813\n",
      "2971     2971                               Meatballs (1979)    0.460504\n",
      "3630     3630                                 Starman (1984)    0.460175\n"
     ]
    },
    {
     "name": "stderr",
     "output_type": "stream",
     "text": [
      "/var/folders/pt/4cr2zr794g717_kmql57h7qw0000gn/T/ipykernel_67461/1490599772.py:13: SettingWithCopyWarning: \n",
      "A value is trying to be set on a copy of a slice from a DataFrame.\n",
      "Try using .loc[row_indexer,col_indexer] = value instead\n",
      "\n",
      "See the caveats in the documentation: https://pandas.pydata.org/pandas-docs/stable/user_guide/indexing.html#returning-a-view-versus-a-copy\n",
      "  similar_movies_df['similarity'] = scores\n"
     ]
    }
   ],
   "source": [
    "from torch.nn import functional as F\n",
    "toy_story_emb = model.item_embeddings.weight[0]               # shape: [32]   \n",
    "item_embs = F.normalize(model.item_embeddings.weight, dim=1)  # shape: [3883, 32]\n",
    "toy_story_emb = toy_story_emb / toy_story_emb.norm()       # shape: [32]\n",
    "similarities = item_embs @ toy_story_emb  # shape: [3883]\n",
    "# Step 4: Get top-k most similar item indices (excluding itself if needed)\n",
    "topk = torch.topk(similarities, k=10 + 1)\n",
    "indices = topk.indices.tolist()\n",
    "# Look them up in the movies DataFrame\n",
    "similar_movies_df = movies[movies['MovieID'].isin(indices)]\n",
    "# Optional: Sort by similarity score\n",
    "scores = similarities[indices].tolist()\n",
    "similar_movies_df['similarity'] = scores\n",
    "similar_movies_df = similar_movies_df.sort_values(by='similarity', ascending=False)\n",
    "\n",
    "print(similar_movies_df[['MovieID', 'Title', 'similarity']])"
   ]
  },
  {
   "cell_type": "markdown",
   "id": "2f1ad9e7",
   "metadata": {},
   "source": [
    "# Now lets add features to deepMF"
   ]
  },
  {
   "cell_type": "markdown",
   "id": "08d1b295",
   "metadata": {},
   "source": [
    "Wrap the model in a scorer. This way the evaluation pipeline doesn't need to reason about features.\n"
   ]
  },
  {
   "cell_type": "code",
   "execution_count": null,
   "id": "b6406e85",
   "metadata": {},
   "outputs": [],
   "source": []
  },
  {
   "cell_type": "code",
   "execution_count": null,
   "id": "051d37ae",
   "metadata": {},
   "outputs": [],
   "source": []
  },
  {
   "cell_type": "code",
   "execution_count": null,
   "id": "d2cb912e",
   "metadata": {},
   "outputs": [],
   "source": []
  }
 ],
 "metadata": {
  "kernelspec": {
   "display_name": "rec",
   "language": "python",
   "name": "python3"
  },
  "language_info": {
   "codemirror_mode": {
    "name": "ipython",
    "version": 3
   },
   "file_extension": ".py",
   "mimetype": "text/x-python",
   "name": "python",
   "nbconvert_exporter": "python",
   "pygments_lexer": "ipython3",
   "version": "3.11.11"
  }
 },
 "nbformat": 4,
 "nbformat_minor": 5
}
