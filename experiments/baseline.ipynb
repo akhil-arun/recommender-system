{
 "cells": [
  {
   "cell_type": "code",
   "execution_count": 2,
   "id": "16f033e5",
   "metadata": {},
   "outputs": [
    {
     "name": "stdout",
     "output_type": "stream",
     "text": [
      "The autoreload extension is already loaded. To reload it, use:\n",
      "  %reload_ext autoreload\n",
      "/Users/rishisadhir/Documents/OMSC/DL\n"
     ]
    }
   ],
   "source": [
    "%load_ext autoreload\n",
    "%autoreload 2\n",
    "%cd .."
   ]
  },
  {
   "cell_type": "code",
   "execution_count": null,
   "id": "9f588d97",
   "metadata": {},
   "outputs": [],
   "source": [
    "import matplotlib.pyplot as plt\n",
    "\n",
    "import torch\n",
    "import torch.optim as optim\n",
    "from torch.utils.data import DataLoader\n",
    "\n",
    "# Data pipeline\n",
    "from data_utils.preprocess import (\n",
    "    load_movielens, clean_and_filter,\n",
    "    get_user_sequences, split_sequences,\n",
    "    build_examples, pad_sequences\n",
    ")\n",
    "\n",
    "# Dataset wrapper\n",
    "from data_utils.datasets import MFTrainDataset\n",
    "\n",
    "# Model and evaluation\n",
    "from models.id_only_mf import MatrixFactorization\n",
    "from evaluation import evaluate_ranking_model"
   ]
  },
  {
   "cell_type": "code",
   "execution_count": 3,
   "id": "c943a8cc",
   "metadata": {},
   "outputs": [
    {
     "name": "stdout",
     "output_type": "stream",
     "text": [
      "Running on mps\n"
     ]
    }
   ],
   "source": [
    "device = torch.device(\"mps\") if torch.backends.mps.is_available() else torch.device(\"cpu\")\n",
    "print(\"Running on\", device)"
   ]
  },
  {
   "cell_type": "markdown",
   "id": "c5ee0eab",
   "metadata": {},
   "source": [
    "## Data preprocessing\n",
    "\n",
    "1.\tLoad raw data\n",
    "Reads MovieLens “ratings”, “users” and “movies” files into pandas DataFrames.\n",
    "2.\tClean & filter\n",
    "• Drops ratings for nonexistent movies\n",
    "• Keeps only ratings ≥ threshold (default 4)\n",
    "• Converts Unix timestamps to datetime\n",
    "3.\tBuild user timelines\n",
    "Sorts each user’s interactions by time and collects their movie‑ID sequence.\n",
    "4.\tSplit sequences\n",
    "For each user with ≥ 3 events, chops their list into train, validation and test segments (by ratios 0.8/0.1/0.1).\n",
    "5.\tConstruct training examples\n",
    "For every prefix of length ≥ 2 in each user’s train split, emits one example comprising:\n",
    "    - the prefix\n",
    "    - the next (positive) item\n",
    "    - K randomly sampled negatives (items the user never saw)\n",
    "6.\tPad & mask\n",
    "Right‐pad each prefix to a fixed length (max_len, default 50) with 0s, and build a matching binary mask.\n",
    "7.\tBuild side‐feature tables\n",
    "    - Users: bucket ages, drop ZIP, one‐hot encode gender & occupation\n",
    "    - Movies: one‐hot encode genres, extract release year from title\n",
    "\n",
    "At the end you have:\n",
    "- A list of prefix / positive / negative examples, all padded for model input\n",
    "- Dense user and movie feature tables for any tabular model components."
   ]
  },
  {
   "cell_type": "code",
   "execution_count": 15,
   "id": "7b9267dd",
   "metadata": {},
   "outputs": [
    {
     "name": "stdout",
     "output_type": "stream",
     "text": [
      "Train examples: 445746,  Val examples: 51222\n"
     ]
    }
   ],
   "source": [
    "data_dir = \"./data\"\n",
    "# 1) load & filter\n",
    "ratings, users, movies = load_movielens(data_dir)\n",
    "ratings, users, movies = clean_and_filter(ratings, users, movies, rating_threshold=4)\n",
    "\n",
    "# 2) build per-user sequences & splits\n",
    "user_seqs   = get_user_sequences(ratings)\n",
    "user_splits = split_sequences(user_seqs, train_ratio=0.8, val_ratio=0.1)\n",
    "\n",
    "# 3) global item set\n",
    "all_movies = set(movies[\"MovieID\"].unique())\n",
    "\n",
    "# 4) build examples for train/val\n",
    "train_exs = build_examples(user_splits, all_movies, K=5, split=\"train\")\n",
    "val_exs   = build_examples(user_splits, all_movies, K=5, split=\"val\")\n",
    "\n",
    "# 5) pad to fixed length\n",
    "max_len   = 50\n",
    "train_exs = pad_sequences(train_exs, max_len=max_len)\n",
    "val_exs   = pad_sequences(val_exs,   max_len=max_len)\n",
    "\n",
    "print(f\"Train examples: {len(train_exs)},  Val examples: {len(val_exs)}\")"
   ]
  },
  {
   "cell_type": "markdown",
   "id": "1754ea00",
   "metadata": {},
   "source": [
    "## Matrix Factorization (MF)\n",
    "\n",
    "- **Goal**  \n",
    "  Approximate the user–item interaction matrix \\(R\\) by two low‑rank factors:  \n",
    "  $$R \\approx U\\,V^{T}$$\n",
    "\n",
    "- **Embeddings**  \n",
    "  - $U \\in \\mathbb{R}^{n_{\\text{users}}\\times k}$: each row $u_{i}$ is a $k$‑dimensional user vector  \n",
    "  - $V \\in \\mathbb{R}^{n_{\\text{items}}\\times k}$: each row $v_{j}$ is a $k$‑dimensional item vector  \n",
    "\n",
    "- **Prediction**  \n",
    "  $$\\hat r_{i,j} = u_{i}\\cdot v_{j}\n",
    "    = \\sum_{\\ell=1}^{k} U_{i,\\ell}\\,V_{j,\\ell}$$\n",
    "\n",
    "- **Training objectives**  \n",
    "  - **Pointwise (MSE)**  \n",
    "    $$\\min_{U,V}\\;\\sum_{(i,j)\\in\\mathcal{D}}\n",
    "      \\bigl(r_{i,j} - \\hat r_{i,j}\\bigr)^{2}\n",
    "      + \\lambda\\bigl(\\lVert u_{i}\\rVert^{2} + \\lVert v_{j}\\rVert^{2}\\bigr)$$  \n",
    "  - **Pairwise (BPR)**  \n",
    "    $$\\min_{U,V}\\;\n",
    "      -\\sum_{(i,p,n)} \\ln\\sigma\\bigl(\\hat r_{i,p} - \\hat r_{i,n}\\bigr)$$\n",
    "\n",
    "- **Why it works**  \n",
    "  1. Learns compact “taste” factors without explicit features  \n",
    "  2. Compresses a large, sparse matrix into dense vectors  \n",
    "  3. Enables very fast inference via a simple dot‑product  "
   ]
  },
  {
   "cell_type": "code",
   "execution_count": 17,
   "id": "c6ecec6c",
   "metadata": {},
   "outputs": [
    {
     "name": "stdout",
     "output_type": "stream",
     "text": [
      "Batches per epoch: 436\n"
     ]
    }
   ],
   "source": [
    "batch_size = 1024\n",
    "\n",
    "train_ds     = MFTrainDataset(train_exs, num_negatives=1)\n",
    "val_ds       = MFTrainDataset(val_exs,   num_negatives=1)\n",
    "\n",
    "train_loader = DataLoader(train_ds, batch_size=batch_size, shuffle=True,  num_workers=2)\n",
    "val_loader   = DataLoader(val_ds,   batch_size=batch_size, shuffle=False, num_workers=2)\n",
    "\n",
    "num_users = ratings[\"UserID\"].nunique()\n",
    "num_items = ratings[\"MovieID\"].nunique()\n",
    "\n",
    "mf        = MatrixFactorization(num_users, num_items, embedding_dim=32).to(device)\n",
    "optimizer = optim.Adam(mf.parameters(), lr=1e-3)\n",
    "\n",
    "def bpr_loss(pos_scores, neg_scores):\n",
    "    return -(pos_scores - neg_scores).sigmoid().log().mean()\n",
    "\n",
    "print(\"Batches per epoch:\", len(train_loader))\n"
   ]
  },
  {
   "cell_type": "code",
   "execution_count": 20,
   "id": "5e3b6f05",
   "metadata": {},
   "outputs": [
    {
     "name": "stdout",
     "output_type": "stream",
     "text": [
      "Epoch 1/15 — Train: 1.9805, Val: 2.2818\n",
      "Epoch 2/15 — Train: 1.8194, Val: 2.1819\n",
      "Epoch 3/15 — Train: 1.6704, Val: 2.0864\n",
      "Epoch 4/15 — Train: 1.5319, Val: 1.9939\n",
      "Epoch 5/15 — Train: 1.4020, Val: 1.9033\n",
      "Epoch 6/15 — Train: 1.2788, Val: 1.8135\n",
      "Epoch 7/15 — Train: 1.1610, Val: 1.7231\n",
      "Epoch 8/15 — Train: 1.0487, Val: 1.6314\n",
      "Epoch 9/15 — Train: 0.9400, Val: 1.5383\n",
      "Epoch 10/15 — Train: 0.8359, Val: 1.4450\n",
      "Epoch 11/15 — Train: 0.7386, Val: 1.3534\n",
      "Epoch 12/15 — Train: 0.6495, Val: 1.2661\n",
      "Epoch 13/15 — Train: 0.5704, Val: 1.1858\n",
      "Epoch 14/15 — Train: 0.5021, Val: 1.1140\n",
      "Epoch 15/15 — Train: 0.4451, Val: 1.0518\n"
     ]
    },
    {
     "data": {
      "image/png": "[encoded data removed]",
      "text/plain": [
       "<Figure size 640x480 with 1 Axes>"
      ]
     },
     "metadata": {},
     "output_type": "display_data"
    }
   ],
   "source": [
    "epochs = 15\n",
    "train_losses, val_losses = [], []\n",
    "\n",
    "for epoch in range(1, epochs+1):\n",
    "    # ——— train ———\n",
    "    mf.train()\n",
    "    tot_train = 0.0\n",
    "    for user, pos, neg in train_loader:\n",
    "        user, pos, neg = user.to(device), pos.to(device), neg.to(device)\n",
    "        optimizer.zero_grad()\n",
    "        loss = bpr_loss(mf(user, pos), mf(user, neg))\n",
    "        loss.backward()\n",
    "        optimizer.step()\n",
    "        tot_train += loss.item()\n",
    "    avg_train = tot_train / len(train_loader)\n",
    "    train_losses.append(avg_train)\n",
    "\n",
    "    # ——— val ———\n",
    "    mf.eval()\n",
    "    tot_val = 0.0\n",
    "    with torch.no_grad():\n",
    "        for user, pos, neg in val_loader:\n",
    "            user, pos, neg = user.to(device), pos.to(device), neg.to(device)\n",
    "            tot_val += bpr_loss(mf(user, pos), mf(user, neg)).item()\n",
    "    avg_val = tot_val / len(val_loader)\n",
    "    val_losses.append(avg_val)\n",
    "\n",
    "    print(f\"Epoch {epoch}/{epochs} — Train: {avg_train:.4f}, Val: {avg_val:.4f}\")\n",
    "\n",
    "# Cell 6: plot curves\n",
    "plt.plot(range(1, epochs+1), train_losses, label=\"Train Loss\")\n",
    "plt.plot(range(1, epochs+1), val_losses,   label=\"Val Loss\")\n",
    "plt.xlabel(\"Epoch\")\n",
    "plt.ylabel(\"BPR Loss\")\n",
    "plt.title(\"Training & Validation Loss Curve\")\n",
    "plt.legend()\n",
    "plt.show()"
   ]
  },
  {
   "cell_type": "markdown",
   "id": "4f32502b",
   "metadata": {},
   "source": [
    "## Evaluation Procedure\n",
    "\n",
    "### 1. Metrics definitions\n",
    "- **Hit@K**  \n",
    "  Returns 1 if the true (positive) item is ranked $\\le K$, else 0.\n",
    "- **NDCG@K**  \n",
    "  Returns $\\displaystyle \\frac{1}{\\log_{2}(\\mathrm{rank}+1)}$ if $\\mathrm{rank}\\le K$, else 0.\n",
    "- **MRR** (Mean Reciprocal Rank)  \n",
    "  $\\displaystyle \\mathrm{MRR} = \\frac{1}{\\mathrm{rank}}$\n",
    "- **MAP** (Mean Average Precision)  \n",
    "  For a single positive item, $\\mathrm{AP} = \\frac{1}{\\mathrm{rank}}$\n",
    "\n",
    "### 2. Negative sampling\n",
    "Given a user prefix (items in train + validation) and the global item set, sample $(\\mathrm{candidate\\_size} - 1)$ negatives uniformly from items the user hasn’t seen.\n",
    "\n",
    "### 3. Per‑user evaluation loop\n",
    "For each user with at least one test item:  \n",
    "1. **Build prefix** = `train_seq + val_seq`  \n",
    "2. **Held‑out positive** = `test_seq[0]`  \n",
    "3. **Sample negatives** (size = candidate_size – 1) excluding prefix & positive  \n",
    "4. **Candidates** = `[positive] + negatives`  \n",
    "5. **Score all candidates** in one forward pass:  \n",
    "   ```python\n",
    "   users_t = torch.tensor([user] * candidate_size, dtype=torch.long, device=device)\n",
    "   items_t = torch.tensor(candidates,         dtype=torch.long, device=device)\n",
    "   scores  = model(users_t, items_t).cpu().numpy()"
   ]
  },
  {
   "cell_type": "code",
   "execution_count": 21,
   "id": "a01d13b4",
   "metadata": {},
   "outputs": [
    {
     "name": "stdout",
     "output_type": "stream",
     "text": [
      "Evaluation Metrics:\n",
      "- Hit@10: 0.1750\n",
      "- NDCG@10: 0.0797\n",
      "- MRR: 0.0778\n",
      "- MAP: 0.0778\n"
     ]
    }
   ],
   "source": [
    "metrics = evaluate_ranking_model(\n",
    "    model=mf,\n",
    "    user_splits=user_splits,\n",
    "    global_items=all_movies,\n",
    "    device=device,\n",
    "    candidate_size=100,\n",
    "    k=10\n",
    ")\n",
    "\n",
    "print(\"Evaluation Metrics:\")\n",
    "for name, val in metrics.items():\n",
    "    print(f\"- {name}: {val:.4f}\")"
   ]
  }
 ],
 "metadata": {
  "kernelspec": {
   "display_name": "rec",
   "language": "python",
   "name": "python3"
  },
  "language_info": {
   "codemirror_mode": {
    "name": "ipython",
    "version": 3
   },
   "file_extension": ".py",
   "mimetype": "text/x-python",
   "name": "python",
   "nbconvert_exporter": "python",
   "pygments_lexer": "ipython3",
   "version": "3.11.11"
  }
 },
 "nbformat": 4,
 "nbformat_minor": 5
}
