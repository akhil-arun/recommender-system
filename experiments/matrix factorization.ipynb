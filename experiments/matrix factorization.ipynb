{
 "cells": [
  {
   "cell_type": "code",
   "execution_count": 33,
   "id": "16f033e5",
   "metadata": {
    "ExecuteTime": {
     "end_time": "2025-04-21T12:49:36.946970Z",
     "start_time": "2025-04-21T12:49:36.860735Z"
    }
   },
   "outputs": [
    {
     "name": "stdout",
     "output_type": "stream",
     "text": [
      "The autoreload extension is already loaded. To reload it, use:\n",
      "  %reload_ext autoreload\n"
     ]
    }
   ],
   "source": [
    "%load_ext autoreload\n",
    "%autoreload 2"
   ]
  },
  {
   "cell_type": "code",
   "execution_count": 34,
   "id": "a31c2d6c",
   "metadata": {
    "ExecuteTime": {
     "end_time": "2025-04-21T12:49:37.765421Z",
     "start_time": "2025-04-21T12:49:37.727124Z"
    }
   },
   "outputs": [],
   "source": [
    "import os, sys\n",
    "import json\n",
    "from data_utils.data_utils import set_seed\n",
    "set_seed(seed=42)\n",
    "# compute the absolute path to your project root:\n",
    "root = os.path.abspath(os.path.join(os.getcwd(), '..'))\n",
    "# insert it at the front of Python’s module search path:\n",
    "sys.path.insert(0, root)"
   ]
  },
  {
   "cell_type": "code",
   "execution_count": 35,
   "id": "9f588d97",
   "metadata": {
    "ExecuteTime": {
     "end_time": "2025-04-21T12:49:38.439136Z",
     "start_time": "2025-04-21T12:49:38.418988Z"
    }
   },
   "outputs": [],
   "source": [
    "import matplotlib.pyplot as plt\n",
    "from torch.utils.data import DataLoader\n",
    "import numpy as np\n",
    "\n",
    "import torch\n",
    "from torch.nn import functional as F\n",
    "import torch.optim as optim\n",
    "\n",
    "# Data pipeline\n",
    "from data_utils.preprocess import (\n",
    "    load_movielens, clean_and_filter,\n",
    "    get_user_sequences, split_sequences,\n",
    "    build_examples, pad_sequences,\n",
    "    build_user_table, build_movie_table\n",
    ")\n",
    "\n",
    "# Dataset wrapper\n",
    "from data_utils.datasets import MFTrainDataset, FeatureAwareDeepMFDataset\n",
    "\n",
    "# Model and evaluation\n",
    "from models.matrix_factorization import MatrixFactorization, DeepMF, FeatureAwareDeepMF\n",
    "from evaluation import evaluate_ranking_model, evaluate_featureaware_model"
   ]
  },
  {
   "cell_type": "code",
   "execution_count": 36,
   "id": "c943a8cc",
   "metadata": {
    "ExecuteTime": {
     "end_time": "2025-04-21T12:49:39.750496Z",
     "start_time": "2025-04-21T12:49:39.717838Z"
    }
   },
   "outputs": [
    {
     "name": "stdout",
     "output_type": "stream",
     "text": [
      "Running on mps\n"
     ]
    }
   ],
   "source": [
    "device = torch.device(\"mps\") if torch.backends.mps.is_available() else torch.device(\"cpu\")\n",
    "print(\"Running on\", device)"
   ]
  },
  {
   "cell_type": "markdown",
   "id": "c5ee0eab",
   "metadata": {},
   "source": [
    "## Data preprocessing\n",
    "\n",
    "1.\tLoad raw data\n",
    "Reads MovieLens “ratings”, “users” and “movies” files into pandas DataFrames.\n",
    "2.\tClean & filter\n",
    "• Drops ratings for nonexistent movies\n",
    "• Keeps only ratings ≥ threshold (default 4)\n",
    "• Converts Unix timestamps to datetime\n",
    "3.\tBuild user timelines\n",
    "Sorts each user’s interactions by time and collects their movie‑ID sequence.\n",
    "4.\tSplit sequences\n",
    "For each user with ≥ 3 events, chops their list into train, validation and test segments (by ratios 0.8/0.1/0.1).\n",
    "5.\tConstruct training examples\n",
    "For every prefix of length ≥ 2 in each user’s train split, emits one example comprising:\n",
    "    - the prefix\n",
    "    - the next (positive) item\n",
    "    - K randomly sampled negatives (items the user never saw)\n",
    "6.\tPad & mask\n",
    "Right‐pad each prefix to a fixed length (max_len, default 50) with 0s, and build a matching binary mask.\n",
    "7.\tBuild side‐feature tables\n",
    "    - Users: bucket ages, drop ZIP, one‐hot encode gender & occupation\n",
    "    - Movies: one‐hot encode genres, extract release year from title\n",
    "\n",
    "At the end you have:\n",
    "- A list of prefix / positive / negative examples, all padded for model input\n",
    "- Dense user and movie feature tables for any tabular model components."
   ]
  },
  {
   "cell_type": "code",
   "execution_count": 37,
   "id": "7b9267dd",
   "metadata": {
    "ExecuteTime": {
     "end_time": "2025-04-21T12:50:13.526383Z",
     "start_time": "2025-04-21T12:49:49.429780Z"
    }
   },
   "outputs": [
    {
     "name": "stdout",
     "output_type": "stream",
     "text": [
      "Train examples: 445746,  Val examples: 51222\n"
     ]
    }
   ],
   "source": [
    "data_dir = \"../data\"\n",
    "# 1) load & filter\n",
    "ratings, users, movies = load_movielens(data_dir)\n",
    "ratings, users, movies = clean_and_filter(ratings, users, movies, rating_threshold=4)\n",
    "\n",
    "# 2) build per-user sequences & splits\n",
    "user_seqs   = get_user_sequences(ratings)\n",
    "user_splits = split_sequences(user_seqs, train_ratio=0.8, val_ratio=0.1)\n",
    "\n",
    "# 3) global item set\n",
    "all_movies = set(movies[\"MovieID\"].unique())\n",
    "\n",
    "# 4) build examples for train/val\n",
    "train_exs = build_examples(user_splits, all_movies, K=5, split=\"train\")\n",
    "val_exs   = build_examples(user_splits, all_movies, K=5, split=\"val\")\n",
    "test_exs   = build_examples(user_splits, all_movies, K=5, split=\"test\")\n",
    "\n",
    "# 5) pad to fixed length\n",
    "max_len   = 50\n",
    "train_exs = pad_sequences(train_exs, max_len=max_len)\n",
    "val_exs   = pad_sequences(val_exs, max_len=max_len)\n",
    "test_exs  = pad_sequences(test_exs, max_len=max_len)\n",
    "\n",
    "print(f\"Train examples: {len(train_exs)},  Val examples: {len(val_exs)}\")"
   ]
  },
  {
   "cell_type": "code",
   "execution_count": 38,
   "outputs": [],
   "source": [
    "class NumpyEncoder(json.JSONEncoder):\n",
    "    def default(self, obj):\n",
    "        if isinstance(obj, np.ndarray):\n",
    "            return obj.tolist()\n",
    "        return json.JSONEncoder.default(self, obj)\n",
    "with open('train_data.json', 'w') as f:\n",
    "    json.dump(train_exs, f, cls=NumpyEncoder)\n",
    "with open('val_data.json', 'w') as f:\n",
    "    json.dump(val_exs, f, cls=NumpyEncoder)\n",
    "with open('test_data.json', 'w') as f:\n",
    "    json.dump(test_exs, f, cls=NumpyEncoder)"
   ],
   "metadata": {
    "collapsed": false,
    "ExecuteTime": {
     "end_time": "2025-04-21T12:50:37.964452Z",
     "start_time": "2025-04-21T12:50:13.527527Z"
    }
   },
   "id": "9331c41d83463ba0"
  },
  {
   "cell_type": "code",
   "execution_count": 6,
   "id": "ba9c793b",
   "metadata": {
    "ExecuteTime": {
     "end_time": "2025-04-20T19:41:52.886950Z",
     "start_time": "2025-04-20T19:41:52.870621Z"
    }
   },
   "outputs": [
    {
     "data": {
      "text/plain": [
       "{'UserID': 0,\n",
       " 'prefix': [3117, 1250],\n",
       " 'positive': 1672,\n",
       " 'negatives': [1588, 3108, 3238, 3076, 3030],\n",
       " 'padded_prefix': array([   0,    0,    0,    0,    0,    0,    0,    0,    0,    0,    0,\n",
       "           0,    0,    0,    0,    0,    0,    0,    0,    0,    0,    0,\n",
       "           0,    0,    0,    0,    0,    0,    0,    0,    0,    0,    0,\n",
       "           0,    0,    0,    0,    0,    0,    0,    0,    0,    0,    0,\n",
       "           0,    0,    0,    0, 3117, 1250]),\n",
       " 'mask': array([0, 0, 0, 0, 0, 0, 0, 0, 0, 0, 0, 0, 0, 0, 0, 0, 0, 0, 0, 0, 0, 0,\n",
       "        0, 0, 0, 0, 0, 0, 0, 0, 0, 0, 0, 0, 0, 0, 0, 0, 0, 0, 0, 0, 0, 0,\n",
       "        0, 0, 0, 0, 1, 1])}"
      ]
     },
     "execution_count": 6,
     "metadata": {},
     "output_type": "execute_result"
    }
   ],
   "source": [
    "train_exs[0]"
   ]
  },
  {
   "cell_type": "markdown",
   "id": "cd8b36c7",
   "metadata": {},
   "source": [
    "Each example in train_exs now has:\n",
    "- `ex[\"padded_prefix\"]` → np.array of shape (max_len,)\n",
    "- `ex[\"mask\"]`          → np.array of 0/1 mask of shape (max_len,)\n",
    "- `ex[\"positive\"]`      → scalar item ID\n",
    "- `ex[\"negatives\"]`     → list of K sampled negatives that are dense movie_ids"
   ]
  },
  {
   "cell_type": "markdown",
   "id": "1754ea00",
   "metadata": {},
   "source": [
    "## Matrix Factorization (MF)\n",
    "\n",
    "- **Goal**  \n",
    "  Approximate the user–item interaction matrix \\(R\\) by two low‑rank factors:  \n",
    "  $$R \\approx U\\,V^{T}$$\n",
    "\n",
    "- **Embeddings**  \n",
    "  - $U \\in \\mathbb{R}^{n_{\\text{users}}\\times k}$: each row $u_{i}$ is a $k$‑dimensional user vector  \n",
    "  - $V \\in \\mathbb{R}^{n_{\\text{items}}\\times k}$: each row $v_{j}$ is a $k$‑dimensional item vector  \n",
    "\n",
    "- **Prediction**  \n",
    "  $$\\hat r_{i,j} = u_{i}\\cdot v_{j}\n",
    "    = \\sum_{\\ell=1}^{k} U_{i,\\ell}\\,V_{j,\\ell}$$\n",
    "\n",
    "\n",
    "\n",
    "- **Training objectives**  \n",
    "  - **Pairwise (BPR)**  \n",
    "    $$\\min_{U,V}\\;\n",
    "      -\\sum_{(i,p,n)} \\ln\\sigma\\bigl(\\hat r_{i,p} - \\hat r_{i,n}\\bigr)$$\n",
    "\n",
    "- **Why it works**  \n",
    "  1. Learns compact “taste” factors without explicit features  \n",
    "  2. Compresses a large, sparse matrix into dense vectors  \n",
    "  3. Enables very fast inference via a simple dot‑product  "
   ]
  },
  {
   "cell_type": "code",
   "execution_count": 24,
   "id": "c6ecec6c",
   "metadata": {
    "ExecuteTime": {
     "end_time": "2025-04-20T21:56:45.974239Z",
     "start_time": "2025-04-20T21:56:45.940590Z"
    }
   },
   "outputs": [
    {
     "name": "stdout",
     "output_type": "stream",
     "text": [
      "{'UserID': 0, 'prefix': [3117, 1250, 1672, 1009, 1768, 3339, 2735, 1189, 1176, 257, 907, 604], 'positive': 2623, 'negatives': [1713, 1301, 2890, 3617, 1350], 'padded_prefix': array([   0,    0,    0,    0,    0,    0,    0,    0,    0,    0,    0,\n",
      "          0,    0,    0,    0,    0,    0,    0,    0,    0,    0,    0,\n",
      "          0,    0,    0,    0,    0,    0,    0,    0,    0,    0,    0,\n",
      "          0,    0,    0,    0,    0, 3117, 1250, 1672, 1009, 1768, 3339,\n",
      "       2735, 1189, 1176,  257,  907,  604]), 'mask': array([0, 0, 0, 0, 0, 0, 0, 0, 0, 0, 0, 0, 0, 0, 0, 0, 0, 0, 0, 0, 0, 0,\n",
      "       0, 0, 0, 0, 0, 0, 0, 0, 0, 0, 0, 0, 0, 0, 0, 0, 1, 1, 1, 1, 1, 1,\n",
      "       1, 1, 1, 1, 1, 1])}\n",
      "Batches per epoch: 436\n"
     ]
    }
   ],
   "source": [
    "batch_size = 1024\n",
    "\n",
    "train_ds = MFTrainDataset(train_exs, num_negatives=1)\n",
    "val_ds   = MFTrainDataset(val_exs,   num_negatives=1)\n",
    "\n",
    "train_loader = DataLoader(train_ds, batch_size=batch_size, shuffle=True,  num_workers=2)\n",
    "val_loader   = DataLoader(val_ds,   batch_size=batch_size, shuffle=False, num_workers=2)\n",
    "\n",
    "num_users = len(users)\n",
    "num_items = len(movies)\n",
    "\n",
    "mf        = MatrixFactorization(num_users, num_items, embedding_dim=32).to(device)\n",
    "optimizer = optim.Adam(mf.parameters(), lr=1e-3)\n",
    "\n",
    "def bpr_loss(pos_scores, neg_scores):\n",
    "    return -(pos_scores - neg_scores).sigmoid().log().mean()\n",
    "\n",
    "print(\"Batches per epoch:\", len(train_loader))\n"
   ]
  },
  {
   "cell_type": "code",
   "execution_count": 8,
   "id": "1a88ced1",
   "metadata": {
    "ExecuteTime": {
     "end_time": "2025-04-20T19:41:53.534799Z",
     "start_time": "2025-04-20T19:41:53.461465Z"
    }
   },
   "outputs": [
    {
     "data": {
      "text/plain": [
       "(3883, 3882, 0)"
      ]
     },
     "execution_count": 8,
     "metadata": {},
     "output_type": "execute_result"
    }
   ],
   "source": [
    "unique_ids = {\n",
    "    int(ex[\"positive\"]) for ex in train_exs\n",
    "}.union({\n",
    "    int(ex[\"negatives\"][0]) for ex in train_exs\n",
    "})\n",
    "len(unique_ids), max(unique_ids), min(unique_ids)"
   ]
  },
  {
   "cell_type": "code",
   "execution_count": 9,
   "id": "0b2bd74d",
   "metadata": {
    "ExecuteTime": {
     "end_time": "2025-04-20T19:41:53.568693Z",
     "start_time": "2025-04-20T19:41:53.532436Z"
    }
   },
   "outputs": [
    {
     "data": {
      "text/plain": [
       "(6035, 6039, 0)"
      ]
     },
     "execution_count": 9,
     "metadata": {},
     "output_type": "execute_result"
    }
   ],
   "source": [
    "unique_ids = {\n",
    "    int(ex[\"UserID\"]) for ex in train_exs\n",
    "}\n",
    "len(unique_ids), max(unique_ids), min(unique_ids)"
   ]
  },
  {
   "cell_type": "code",
   "execution_count": 10,
   "id": "5e3b6f05",
   "metadata": {
    "ExecuteTime": {
     "end_time": "2025-04-20T19:44:08.339979Z",
     "start_time": "2025-04-20T19:41:53.569539Z"
    }
   },
   "outputs": [
    {
     "name": "stdout",
     "output_type": "stream",
     "text": [
      "Epoch 1/3 — Train: 3.1637, Val: 3.0559\n",
      "Epoch 2/3 — Train: 2.9054, Val: 2.9122\n",
      "Epoch 3/3 — Train: 2.6680, Val: 2.7782\n"
     ]
    },
    {
     "data": {
      "image/png": "[encoded data removed]",
      "text/plain": [
       "<Figure size 640x480 with 1 Axes>"
      ]
     },
     "metadata": {},
     "output_type": "display_data"
    }
   ],
   "source": [
    "epochs = 3\n",
    "train_losses, val_losses = [], []\n",
    "\n",
    "for epoch in range(1, epochs+1):\n",
    "    # ——— train ———\n",
    "    mf.train()\n",
    "    tot_train = 0.0\n",
    "    for user, pos, neg in train_loader:\n",
    "        user, pos, neg = user.to(device), pos.to(device), neg.to(device)\n",
    "        optimizer.zero_grad()\n",
    "        loss = bpr_loss(mf(user, pos), mf(user, neg))\n",
    "        loss.backward()\n",
    "        optimizer.step()\n",
    "        tot_train += loss.item()\n",
    "    avg_train = tot_train / len(train_loader)\n",
    "    train_losses.append(avg_train)\n",
    "\n",
    "    # ——— val ———\n",
    "    mf.eval()\n",
    "    tot_val = 0.0\n",
    "    with torch.no_grad():\n",
    "        for user, pos, neg in val_loader:\n",
    "            user, pos, neg = user.to(device), pos.to(device), neg.to(device)\n",
    "            tot_val += bpr_loss(mf(user, pos), mf(user, neg)).item()\n",
    "    avg_val = tot_val / len(val_loader)\n",
    "    val_losses.append(avg_val)\n",
    "\n",
    "    print(f\"Epoch {epoch}/{epochs} — Train: {avg_train:.4f}, Val: {avg_val:.4f}\")\n",
    "\n",
    "# Cell 6: plot curves\n",
    "plt.plot(range(1, epochs+1), train_losses, label=\"Train Loss\")\n",
    "plt.plot(range(1, epochs+1), val_losses,   label=\"Val Loss\")\n",
    "plt.xlabel(\"Epoch\")\n",
    "plt.ylabel(\"BPR Loss\")\n",
    "plt.title(\"Training & Validation Loss Curve\")\n",
    "plt.legend()\n",
    "plt.show()"
   ]
  },
  {
   "cell_type": "markdown",
   "id": "4f32502b",
   "metadata": {},
   "source": [
    "### Evaluation Procedure\n",
    "\n",
    "#### 1. Metrics definitions\n",
    "- **Hit@K**  \n",
    "  Returns 1 if the true (positive) item is ranked $\\le K$, else 0.\n",
    "- **NDCG@K**  \n",
    "  Returns $\\displaystyle \\frac{1}{\\log_{2}(\\mathrm{rank}+1)}$ if $\\mathrm{rank}\\le K$, else 0.\n",
    "- **MRR** (Mean Reciprocal Rank)  \n",
    "  $\\displaystyle \\mathrm{MRR} = \\frac{1}{\\mathrm{rank}}$\n",
    "- **MAP** (Mean Average Precision)  \n",
    "  For a single positive item, $\\mathrm{AP} = \\frac{1}{\\mathrm{rank}}$\n",
    "\n",
    "#### 2. Negative sampling\n",
    "Given a user prefix (items in train + validation) and the global item set, sample $(\\mathrm{candidate\\_size} - 1)$ negatives uniformly from items the user hasn’t seen.\n",
    "\n",
    "#### 3. Per‑user evaluation loop\n",
    "For each user with at least one test item:  \n",
    "1. **Build prefix** = `train_seq + val_seq`  \n",
    "2. **Held‑out positive** = `test_seq[0]`  \n",
    "3. **Sample negatives** (size = candidate_size – 1) excluding prefix & positive  \n",
    "4. **Candidates** = `[positive] + negatives`  \n",
    "5. **Score all candidates** in one forward pass:  \n",
    "   ```python\n",
    "   users_t = torch.tensor([user] * candidate_size, dtype=torch.long, device=device)\n",
    "   items_t = torch.tensor(candidates,         dtype=torch.long, device=device)\n",
    "   scores  = model(users_t, items_t).cpu().numpy()"
   ]
  },
  {
   "cell_type": "code",
   "execution_count": 11,
   "id": "a01d13b4",
   "metadata": {
    "ExecuteTime": {
     "end_time": "2025-04-20T19:44:12.481884Z",
     "start_time": "2025-04-20T19:44:08.335824Z"
    }
   },
   "outputs": [
    {
     "name": "stdout",
     "output_type": "stream",
     "text": [
      "Evaluation Metrics:\n",
      "- Hit@10: 0.0938\n",
      "- NDCG@10: 0.0416\n",
      "- MRR: 0.0491\n",
      "- MAP: 0.0491\n"
     ]
    }
   ],
   "source": [
    "metrics = evaluate_ranking_model(\n",
    "    model=mf,\n",
    "    user_splits=user_splits,\n",
    "    global_items=all_movies,\n",
    "    device=device,\n",
    "    candidate_size=100,\n",
    "    k=10\n",
    ")\n",
    "\n",
    "print(\"Evaluation Metrics:\")\n",
    "for name, val in metrics.items():\n",
    "    print(f\"- {name}: {val:.4f}\")"
   ]
  },
  {
   "cell_type": "markdown",
   "id": "cc0ba196",
   "metadata": {},
   "source": [
    "Lets see which movies are similar to toy story"
   ]
  },
  {
   "cell_type": "code",
   "execution_count": 12,
   "id": "6be22f35",
   "metadata": {
    "ExecuteTime": {
     "end_time": "2025-04-20T19:44:14.555113Z",
     "start_time": "2025-04-20T19:44:12.480170Z"
    }
   },
   "outputs": [
    {
     "name": "stdout",
     "output_type": "stream",
     "text": [
      "      MovieID                          Title  similarity\n",
      "0           0               Toy Story (1995)    1.000000\n",
      "380       380             Bad Company (1995)    0.563862\n",
      "679       679            Country Life (1994)    0.551854\n",
      "1197     1197        Army of Darkness (1993)    0.509585\n",
      "1878     1878         West Side Story (1961)    0.490477\n",
      "2098     2098                   Blade (1998)    0.487420\n",
      "2235     2235       Love Is the Devil (1998)    0.486277\n",
      "2668     2668           Assassination (1987)    0.482867\n",
      "2878     2878              Goldfinger (1964)    0.478793\n",
      "3236     3236               Bluebeard (1944)    0.471882\n",
      "3521     3521  Lords of Flatbush, The (1974)    0.463763\n"
     ]
    },
    {
     "name": "stderr",
     "output_type": "stream",
     "text": [
      "/var/folders/bw/0d70cdj52fn0jt8hp7qxqj5r0000gn/T/ipykernel_95759/2661131617.py:12: SettingWithCopyWarning: \n",
      "A value is trying to be set on a copy of a slice from a DataFrame.\n",
      "Try using .loc[row_indexer,col_indexer] = value instead\n",
      "\n",
      "See the caveats in the documentation: https://pandas.pydata.org/pandas-docs/stable/user_guide/indexing.html#returning-a-view-versus-a-copy\n",
      "  similar_movies_df['similarity'] = scores\n"
     ]
    }
   ],
   "source": [
    "toy_story_emb = mf.item_embeddings.weight[0]               # shape: [32]   \n",
    "item_embs = F.normalize(mf.item_embeddings.weight, dim=1)  # shape: [3883, 32]\n",
    "toy_story_emb = toy_story_emb / toy_story_emb.norm()       # shape: [32]\n",
    "similarities = item_embs @ toy_story_emb  # shape: [3883]\n",
    "# Step 4: Get top-k most similar item indices (excluding itself if needed)\n",
    "topk = torch.topk(similarities, k=10 + 1)\n",
    "indices = topk.indices.tolist()\n",
    "# Look them up in the movies DataFrame\n",
    "similar_movies_df = movies[movies['MovieID'].isin(indices)]\n",
    "# Optional: Sort by similarity score\n",
    "scores = similarities[indices].tolist()\n",
    "similar_movies_df['similarity'] = scores\n",
    "similar_movies_df = similar_movies_df.sort_values(by='similarity', ascending=False)\n",
    "\n",
    "print(similar_movies_df[['MovieID', 'Title', 'similarity']])"
   ]
  },
  {
   "cell_type": "markdown",
   "id": "9aea7dcf",
   "metadata": {},
   "source": [
    "## Fancier matrix factorization\n",
    "\n",
    "We're now going to use an MLP instead of dot product. This brings us into deepMF territory. The set up is nearly identical so we can reuse the same data objects as before."
   ]
  },
  {
   "cell_type": "code",
   "execution_count": 13,
   "id": "013b5787",
   "metadata": {
    "ExecuteTime": {
     "end_time": "2025-04-20T19:46:22.466852Z",
     "start_time": "2025-04-20T19:44:14.556971Z"
    }
   },
   "outputs": [
    {
     "name": "stdout",
     "output_type": "stream",
     "text": [
      "Epoch 1/3 | Train Loss: 0.4706 | Val Loss: 0.4308\n",
      "Epoch 2/3 | Train Loss: 0.3070 | Val Loss: 0.3863\n",
      "Epoch 3/3 | Train Loss: 0.2856 | Val Loss: 0.3788\n"
     ]
    },
    {
     "data": {
      "image/png": "[encoded data removed]",
      "text/plain": [
       "<Figure size 640x480 with 1 Axes>"
      ]
     },
     "metadata": {},
     "output_type": "display_data"
    }
   ],
   "source": [
    "emb_dim = 32\n",
    "\n",
    "train_losses, val_losses = [], []\n",
    "model = DeepMF(num_users, num_items, emb_dim).to(device)\n",
    "optimizer = torch.optim.Adam(model.parameters(), lr=1e-3)\n",
    "\n",
    "epochs = 3\n",
    "\n",
    "for epoch in range(epochs):\n",
    "    # --- Training ---\n",
    "    model.train()\n",
    "    total_train_loss = 0.0\n",
    "\n",
    "    for user, pos, neg in train_loader:\n",
    "        user, pos, neg = user.to(device), pos.to(device), neg.to(device)\n",
    "\n",
    "        optimizer.zero_grad()\n",
    "        pos_score = model(user, pos)\n",
    "        neg_score = model(user, neg)\n",
    "\n",
    "        loss = -F.logsigmoid(pos_score - neg_score).mean()\n",
    "        loss.backward()\n",
    "        optimizer.step()\n",
    "\n",
    "        total_train_loss += loss.item()\n",
    "\n",
    "    avg_train_loss = total_train_loss / len(train_loader)\n",
    "    train_losses.append(avg_train_loss)\n",
    "\n",
    "    # --- Validation ---\n",
    "    model.eval()\n",
    "    total_val_loss = 0.0\n",
    "\n",
    "    with torch.no_grad():\n",
    "        for user, pos, neg in val_loader:\n",
    "            user, pos, neg = user.to(device), pos.to(device), neg.to(device)\n",
    "\n",
    "            pos_score = model(user, pos)\n",
    "            neg_score = model(user, neg)\n",
    "\n",
    "            val_loss = -F.logsigmoid(pos_score - neg_score).mean()\n",
    "            total_val_loss += val_loss.item()\n",
    "\n",
    "    avg_val_loss = total_val_loss / len(val_loader)\n",
    "    val_losses.append(avg_val_loss)\n",
    "\n",
    "    print(f\"Epoch {epoch+1}/{epochs} | Train Loss: {avg_train_loss:.4f} | Val Loss: {avg_val_loss:.4f}\")\n",
    "\n",
    "plt.plot(train_losses, label=\"Train Loss\")\n",
    "plt.plot(val_losses, label=\"Val Loss\")\n",
    "plt.xlabel(\"Epoch\")\n",
    "plt.ylabel(\"BPR Loss\")\n",
    "plt.title(\"Training & Validation BPR Loss\")\n",
    "plt.legend()\n",
    "plt.grid(True)\n",
    "plt.show()\n"
   ]
  },
  {
   "cell_type": "code",
   "execution_count": 14,
   "id": "cf1f05b1",
   "metadata": {
    "ExecuteTime": {
     "end_time": "2025-04-20T19:46:28.086737Z",
     "start_time": "2025-04-20T19:46:22.464979Z"
    }
   },
   "outputs": [
    {
     "name": "stdout",
     "output_type": "stream",
     "text": [
      "Evaluation Metrics:\n",
      "- Hit@10: 0.5360\n",
      "- NDCG@10: 0.2926\n",
      "- MRR: 0.2407\n",
      "- MAP: 0.2407\n"
     ]
    }
   ],
   "source": [
    "metrics = evaluate_ranking_model(\n",
    "    model=model,\n",
    "    user_splits=user_splits,\n",
    "    global_items=all_movies,\n",
    "    device=device,\n",
    "    candidate_size=100,\n",
    "    k=10\n",
    ")\n",
    "\n",
    "print(\"Evaluation Metrics:\")\n",
    "for name, val in metrics.items():\n",
    "    print(f\"- {name}: {val:.4f}\")"
   ]
  },
  {
   "cell_type": "code",
   "execution_count": 15,
   "id": "ed442077",
   "metadata": {
    "ExecuteTime": {
     "end_time": "2025-04-20T19:46:28.133480Z",
     "start_time": "2025-04-20T19:46:28.084711Z"
    }
   },
   "outputs": [
    {
     "name": "stdout",
     "output_type": "stream",
     "text": [
      "      MovieID                                             Title  similarity\n",
      "0           0                                  Toy Story (1995)    1.000000\n",
      "187       187                                   Reckless (1995)    0.626344\n",
      "437       437                         Dazed and Confused (1993)    0.609974\n",
      "1797     1797                               Big Hit, The (1998)    0.593871\n",
      "2592     2592                   It Came from Outer Space (1953)    0.568385\n",
      "2998     2998  Women on the Verge of a Nervous Breakdown (1988)    0.554196\n",
      "3135     3135                      Boys from Brazil, The (1978)    0.517042\n",
      "3161     3161                           Odessa File, The (1974)    0.514553\n",
      "3272     3272                             Born Yesterday (1950)    0.497850\n",
      "3381     3381                             Grumpy Old Men (1993)    0.495095\n",
      "3882     3882                             Contender, The (2000)    0.485137\n"
     ]
    },
    {
     "name": "stderr",
     "output_type": "stream",
     "text": [
      "/var/folders/bw/0d70cdj52fn0jt8hp7qxqj5r0000gn/T/ipykernel_95759/938465721.py:13: SettingWithCopyWarning: \n",
      "A value is trying to be set on a copy of a slice from a DataFrame.\n",
      "Try using .loc[row_indexer,col_indexer] = value instead\n",
      "\n",
      "See the caveats in the documentation: https://pandas.pydata.org/pandas-docs/stable/user_guide/indexing.html#returning-a-view-versus-a-copy\n",
      "  similar_movies_df['similarity'] = scores\n"
     ]
    }
   ],
   "source": [
    "from torch.nn import functional as F\n",
    "toy_story_emb = model.item_embeddings.weight[0]               # shape: [32]   \n",
    "item_embs = F.normalize(model.item_embeddings.weight, dim=1)  # shape: [3883, 32]\n",
    "toy_story_emb = toy_story_emb / toy_story_emb.norm()       # shape: [32]\n",
    "similarities = item_embs @ toy_story_emb  # shape: [3883]\n",
    "# Step 4: Get top-k most similar item indices (excluding itself if needed)\n",
    "topk = torch.topk(similarities, k=10 + 1)\n",
    "indices = topk.indices.tolist()\n",
    "# Look them up in the movies DataFrame\n",
    "similar_movies_df = movies[movies['MovieID'].isin(indices)]\n",
    "# Optional: Sort by similarity score\n",
    "scores = similarities[indices].tolist()\n",
    "similar_movies_df['similarity'] = scores\n",
    "similar_movies_df = similar_movies_df.sort_values(by='similarity', ascending=False)\n",
    "\n",
    "print(similar_movies_df[['MovieID', 'Title', 'similarity']])"
   ]
  },
  {
   "cell_type": "markdown",
   "id": "2f1ad9e7",
   "metadata": {},
   "source": [
    "# Now lets add features to deepMF"
   ]
  },
  {
   "cell_type": "code",
   "execution_count": 16,
   "id": "9276e8b7",
   "metadata": {
    "ExecuteTime": {
     "end_time": "2025-04-20T19:46:28.265796Z",
     "start_time": "2025-04-20T19:46:28.109043Z"
    }
   },
   "outputs": [],
   "source": [
    "user_feat, gender_vocab, occ_vocab = build_user_table(users)\n",
    "movie_genre_vec, movie_year, genre_vocab = build_movie_table(movies)"
   ]
  },
  {
   "cell_type": "code",
   "execution_count": 17,
   "id": "051d37ae",
   "metadata": {
    "ExecuteTime": {
     "end_time": "2025-04-20T19:46:28.285183Z",
     "start_time": "2025-04-20T19:46:28.266184Z"
    }
   },
   "outputs": [],
   "source": [
    "train_ds = FeatureAwareDeepMFDataset(train_exs, user_feat, movie_genre_vec, movie_year)\n",
    "val_ds   = FeatureAwareDeepMFDataset(val_exs,   user_feat, movie_genre_vec, movie_year)\n",
    "\n",
    "train_loader = DataLoader(train_ds, batch_size=512, shuffle=True, drop_last=True)\n",
    "val_loader   = DataLoader(val_ds,   batch_size=512, shuffle=False, drop_last=False)\n"
   ]
  },
  {
   "cell_type": "code",
   "execution_count": 18,
   "id": "d2cb912e",
   "metadata": {},
   "outputs": [
    {
     "name": "stdout",
     "output_type": "stream",
     "text": [
      "Epoch 1/5 | Train Loss: 0.3974 | Val Loss: 0.4013\n",
      "Epoch 2/5 | Train Loss: 0.2834 | Val Loss: 0.3739\n",
      "Epoch 3/5 | Train Loss: 0.2638 | Val Loss: 0.3765\n",
      "Epoch 4/5 | Train Loss: 0.2503 | Val Loss: 0.3746\n",
      "Epoch 5/5 | Train Loss: 0.2381 | Val Loss: 0.3800\n"
     ]
    }
   ],
   "source": [
    "model = FeatureAwareDeepMF(\n",
    "    num_users=len(user_feat),\n",
    "    num_items=len(movie_genre_vec),\n",
    "    num_genders=len(gender_vocab),\n",
    "    num_occs=len(occ_vocab),\n",
    "    num_genres=len(genre_vocab),\n",
    "    emb_dim=32\n",
    ").to(device)\n",
    "\n",
    "optimizer = torch.optim.Adam(model.parameters(), lr=1e-3)\n",
    "epochs = 5\n",
    "train_losses, val_losses = [], []\n",
    "\n",
    "for epoch in range(epochs):\n",
    "    model.train()\n",
    "    total_train_loss = 0\n",
    "\n",
    "    for u, pos, neg, gender, occ, year_pos, year_neg, age, _, genre_pos, genre_neg in train_loader:\n",
    "        u, pos, neg = u.to(device), pos.to(device), neg.to(device)\n",
    "        gender, occ = gender.to(device), occ.to(device)\n",
    "        year_pos, year_neg = year_pos.to(device), year_neg.to(device)\n",
    "        age = age.to(device)\n",
    "        genre_pos, genre_neg = genre_pos.to(device), genre_neg.to(device)\n",
    "\n",
    "        optimizer.zero_grad()\n",
    "        pos_scores = model(u, pos, gender, occ, year_pos, age, genre_pos)\n",
    "        neg_scores = model(u, neg, gender, occ, year_neg, age, genre_neg)\n",
    "\n",
    "        loss = bpr_loss(pos_scores, neg_scores)\n",
    "        loss.backward()\n",
    "        optimizer.step()\n",
    "\n",
    "        total_train_loss += loss.item()\n",
    "\n",
    "    train_losses.append(total_train_loss / len(train_loader))\n",
    "\n",
    "    # Validation\n",
    "    model.eval()\n",
    "    total_val_loss = 0\n",
    "    with torch.no_grad():\n",
    "        for u, pos, neg, gender, occ, year_pos, year_neg, age, _, genre_pos, genre_neg in val_loader:\n",
    "            u, pos, neg = u.to(device), pos.to(device), neg.to(device)\n",
    "            gender, occ = gender.to(device), occ.to(device)\n",
    "            year_pos, year_neg = year_pos.to(device), year_neg.to(device)\n",
    "            age = age.to(device)\n",
    "            genre_pos, genre_neg = genre_pos.to(device), genre_neg.to(device)\n",
    "\n",
    "            pos_scores = model(u, pos, gender, occ, year_pos, age, genre_pos)\n",
    "            neg_scores = model(u, neg, gender, occ, year_neg, age, genre_neg)\n",
    "\n",
    "            val_loss = bpr_loss(pos_scores, neg_scores)\n",
    "            total_val_loss += val_loss.item()\n",
    "\n",
    "    val_losses.append(total_val_loss / len(val_loader))\n",
    "\n",
    "    print(f\"Epoch {epoch+1}/{epochs} | Train Loss: {train_losses[-1]:.4f} | Val Loss: {val_losses[-1]:.4f}\")"
   ]
  },
  {
   "cell_type": "code",
   "execution_count": 19,
   "id": "fd5c737a",
   "metadata": {},
   "outputs": [
    {
     "data": {
      "image/png": "[encoded data removed]",
      "text/plain": [
       "<Figure size 640x480 with 1 Axes>"
      ]
     },
     "metadata": {},
     "output_type": "display_data"
    }
   ],
   "source": [
    "plt.plot(train_losses, label=\"Train Loss\")\n",
    "plt.plot(val_losses, label=\"Val Loss\")\n",
    "plt.xlabel(\"Epoch\")\n",
    "plt.ylabel(\"BPR Loss\")\n",
    "plt.title(\"Training & Validation Loss for FeatureAwareDeepMF\")\n",
    "plt.legend()\n",
    "plt.grid(True)\n",
    "plt.show()"
   ]
  },
  {
   "cell_type": "code",
   "execution_count": 20,
   "id": "daaf09fa",
   "metadata": {},
   "outputs": [
    {
     "name": "stdout",
     "output_type": "stream",
     "text": [
      "{'Hit@10': np.float64(0.5529411764705883), 'NDCG@10': np.float64(0.30162377238830895), 'MRR': np.float64(0.247152452012204), 'MAP': np.float64(0.247152452012204)}\n"
     ]
    }
   ],
   "source": [
    "metrics = evaluate_featureaware_model(\n",
    "    model,\n",
    "    user_splits,\n",
    "    set(movies[\"MovieID\"]),\n",
    "    user_feat,\n",
    "    movie_genre_vec,\n",
    "    movie_year,\n",
    "    device=device\n",
    ")\n",
    "print(metrics)"
   ]
  },
  {
   "cell_type": "code",
   "execution_count": 21,
   "id": "393c9683",
   "metadata": {},
   "outputs": [
    {
     "name": "stdout",
     "output_type": "stream",
     "text": [
      "      MovieID                                        Title  similarity\n",
      "0           0                             Toy Story (1995)    1.000000\n",
      "424       424                         Bronx Tale, A (1993)    0.581540\n",
      "680       680                  Operation Dumbo Drop (1995)    0.546793\n",
      "917       917                 Foreign Correspondent (1940)    0.545485\n",
      "1277     1277                           Real Genius (1985)    0.510163\n",
      "1319     1319                 Bride of Frankenstein (1935)    0.496354\n",
      "1562     1562                                 Mimic (1997)    0.487070\n",
      "1785     1785                        Kissing a Fool (1998)    0.464942\n",
      "1910     1910  Friday the 13th Part VI: Jason Lives (1986)    0.462963\n",
      "2220     2220                           Player, The (1992)    0.447323\n",
      "2970     2970                        Trading Places (1983)    0.447214\n"
     ]
    },
    {
     "name": "stderr",
     "output_type": "stream",
     "text": [
      "/var/folders/pt/4cr2zr794g717_kmql57h7qw0000gn/T/ipykernel_79467/2070559262.py:12: SettingWithCopyWarning: \n",
      "A value is trying to be set on a copy of a slice from a DataFrame.\n",
      "Try using .loc[row_indexer,col_indexer] = value instead\n",
      "\n",
      "See the caveats in the documentation: https://pandas.pydata.org/pandas-docs/stable/user_guide/indexing.html#returning-a-view-versus-a-copy\n",
      "  similar_movies_df['similarity'] = scores\n"
     ]
    }
   ],
   "source": [
    "toy_story_emb = model.item_embeddings.weight[0]               # shape: [32]   \n",
    "item_embs = F.normalize(model.item_embeddings.weight, dim=1)  # shape: [3883, 32]\n",
    "toy_story_emb = toy_story_emb / toy_story_emb.norm()       # shape: [32]\n",
    "similarities = item_embs @ toy_story_emb  # shape: [3883]\n",
    "# Step 4: Get top-k most similar item indices (excluding itself if needed)\n",
    "topk = torch.topk(similarities, k=10 + 1)\n",
    "indices = topk.indices.tolist()\n",
    "# Look them up in the movies DataFrame\n",
    "similar_movies_df = movies[movies['MovieID'].isin(indices)]\n",
    "# Optional: Sort by similarity score\n",
    "scores = similarities[indices].tolist()\n",
    "similar_movies_df['similarity'] = scores\n",
    "similar_movies_df = similar_movies_df.sort_values(by='similarity', ascending=False)\n",
    "\n",
    "print(similar_movies_df[['MovieID', 'Title', 'similarity']])"
   ]
  }
 ],
 "metadata": {
  "kernelspec": {
   "display_name": "Python 3 (ipykernel)",
   "language": "python",
   "name": "python3"
  },
  "language_info": {
   "codemirror_mode": {
    "name": "ipython",
    "version": 3
   },
   "file_extension": ".py",
   "mimetype": "text/x-python",
   "name": "python",
   "nbconvert_exporter": "python",
   "pygments_lexer": "ipython3",
   "version": "3.11.11"
  }
 },
 "nbformat": 4,
 "nbformat_minor": 5
}
