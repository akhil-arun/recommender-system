{
 "cells": [
  {
   "cell_type": "code",
   "execution_count": 1,
   "id": "16f033e5",
   "metadata": {},
   "outputs": [],
   "source": [
    "%load_ext autoreload\n",
    "%autoreload 2"
   ]
  },
  {
   "cell_type": "code",
   "execution_count": 2,
   "id": "a31c2d6c",
   "metadata": {},
   "outputs": [],
   "source": [
    "import os, sys\n",
    "# compute the absolute path to your project root:\n",
    "root = os.path.abspath(os.path.join(os.getcwd(), '..'))\n",
    "# insert it at the front of Python’s module search path:\n",
    "sys.path.insert(0, root)"
   ]
  },
  {
   "cell_type": "code",
   "execution_count": 3,
   "id": "9f588d97",
   "metadata": {},
   "outputs": [],
   "source": [
    "import matplotlib.pyplot as plt\n",
    "from torch.utils.data import DataLoader\n",
    "\n",
    "import torch\n",
    "from torch.nn import functional as F\n",
    "import torch.optim as optim\n",
    "\n",
    "# Data pipeline\n",
    "from data_utils.preprocess import (\n",
    "    load_movielens, clean_and_filter,\n",
    "    get_user_sequences, split_sequences,\n",
    "    build_examples, pad_sequences,\n",
    "    build_user_table, build_movie_table\n",
    ")\n",
    "\n",
    "# Dataset wrapper\n",
    "from data_utils.datasets import MFTrainDataset, FeatureAwareDeepMFDataset\n",
    "\n",
    "# Model and evaluation\n",
    "from models.matrix_factorization import MatrixFactorization, DeepMF, FeatureAwareDeepMF\n",
    "from evaluation import evaluate_ranking_model, evaluate_featureaware_model"
   ]
  },
  {
   "cell_type": "code",
   "execution_count": 4,
   "id": "c943a8cc",
   "metadata": {},
   "outputs": [
    {
     "name": "stdout",
     "output_type": "stream",
     "text": [
      "Running on mps\n"
     ]
    }
   ],
   "source": [
    "device = torch.device(\"mps\") if torch.backends.mps.is_available() else torch.device(\"cpu\")\n",
    "print(\"Running on\", device)"
   ]
  },
  {
   "cell_type": "markdown",
   "id": "c5ee0eab",
   "metadata": {},
   "source": [
    "## Data preprocessing\n",
    "\n",
    "1.\tLoad raw data\n",
    "Reads MovieLens “ratings”, “users” and “movies” files into pandas DataFrames.\n",
    "2.\tClean & filter\n",
    "• Drops ratings for nonexistent movies\n",
    "• Keeps only ratings ≥ threshold (default 4)\n",
    "• Converts Unix timestamps to datetime\n",
    "3.\tBuild user timelines\n",
    "Sorts each user’s interactions by time and collects their movie‑ID sequence.\n",
    "4.\tSplit sequences\n",
    "For each user with ≥ 3 events, chops their list into train, validation and test segments (by ratios 0.8/0.1/0.1).\n",
    "5.\tConstruct training examples\n",
    "For every prefix of length ≥ 2 in each user’s train split, emits one example comprising:\n",
    "    - the prefix\n",
    "    - the next (positive) item\n",
    "    - K randomly sampled negatives (items the user never saw)\n",
    "6.\tPad & mask\n",
    "Right‐pad each prefix to a fixed length (max_len, default 50) with 0s, and build a matching binary mask.\n",
    "7.\tBuild side‐feature tables\n",
    "    - Users: bucket ages, drop ZIP, one‐hot encode gender & occupation\n",
    "    - Movies: one‐hot encode genres, extract release year from title\n",
    "\n",
    "At the end you have:\n",
    "- A list of prefix / positive / negative examples, all padded for model input\n",
    "- Dense user and movie feature tables for any tabular model components."
   ]
  },
  {
   "cell_type": "code",
   "execution_count": 5,
   "id": "7b9267dd",
   "metadata": {},
   "outputs": [
    {
     "name": "stdout",
     "output_type": "stream",
     "text": [
      "Train examples: 445746,  Val examples: 51222\n"
     ]
    }
   ],
   "source": [
    "data_dir = \"../data\"\n",
    "# 1) load & filter\n",
    "ratings, users, movies = load_movielens(data_dir)\n",
    "ratings, users, movies = clean_and_filter(ratings, users, movies, rating_threshold=4)\n",
    "\n",
    "# 2) build per-user sequences & splits\n",
    "user_seqs   = get_user_sequences(ratings)\n",
    "user_splits = split_sequences(user_seqs, train_ratio=0.8, val_ratio=0.1)\n",
    "\n",
    "# 3) global item set\n",
    "all_movies = set(movies[\"MovieID\"].unique())\n",
    "\n",
    "# 4) build examples for train/val\n",
    "train_exs = build_examples(user_splits, all_movies, K=5, split=\"train\")\n",
    "val_exs   = build_examples(user_splits, all_movies, K=5, split=\"val\")\n",
    "test_exs   = build_examples(user_splits, all_movies, K=5, split=\"test\")\n",
    "\n",
    "# 5) pad to fixed length\n",
    "max_len   = 50\n",
    "train_exs = pad_sequences(train_exs, max_len=max_len)\n",
    "val_exs   = pad_sequences(val_exs, max_len=max_len)\n",
    "test_exs  = pad_sequences(test_exs, max_len=max_len)\n",
    "\n",
    "print(f\"Train examples: {len(train_exs)},  Val examples: {len(val_exs)}\")"
   ]
  },
  {
   "cell_type": "code",
   "execution_count": 6,
   "id": "ba9c793b",
   "metadata": {},
   "outputs": [
    {
     "data": {
      "text/plain": [
       "{'UserID': 0,\n",
       " 'prefix': [3117, 1250],\n",
       " 'positive': 1672,\n",
       " 'negatives': [3529, 1182, 1203, 932, 3503],\n",
       " 'padded_prefix': array([   0,    0,    0,    0,    0,    0,    0,    0,    0,    0,    0,\n",
       "           0,    0,    0,    0,    0,    0,    0,    0,    0,    0,    0,\n",
       "           0,    0,    0,    0,    0,    0,    0,    0,    0,    0,    0,\n",
       "           0,    0,    0,    0,    0,    0,    0,    0,    0,    0,    0,\n",
       "           0,    0,    0,    0, 3117, 1250]),\n",
       " 'mask': array([0, 0, 0, 0, 0, 0, 0, 0, 0, 0, 0, 0, 0, 0, 0, 0, 0, 0, 0, 0, 0, 0,\n",
       "        0, 0, 0, 0, 0, 0, 0, 0, 0, 0, 0, 0, 0, 0, 0, 0, 0, 0, 0, 0, 0, 0,\n",
       "        0, 0, 0, 0, 1, 1])}"
      ]
     },
     "execution_count": 6,
     "metadata": {},
     "output_type": "execute_result"
    }
   ],
   "source": [
    "train_exs[0]"
   ]
  },
  {
   "cell_type": "markdown",
   "id": "cd8b36c7",
   "metadata": {},
   "source": [
    "Each example in train_exs now has:\n",
    "- `ex[\"padded_prefix\"]` → np.array of shape (max_len,)\n",
    "- `ex[\"mask\"]`          → np.array of 0/1 mask of shape (max_len,)\n",
    "- `ex[\"positive\"]`      → scalar item ID\n",
    "- `ex[\"negatives\"]`     → list of K sampled negatives that are dense movie_ids"
   ]
  },
  {
   "cell_type": "markdown",
   "id": "1754ea00",
   "metadata": {},
   "source": [
    "## Matrix Factorization (MF)\n",
    "\n",
    "- **Goal**  \n",
    "  Approximate the user–item interaction matrix \\(R\\) by two low‑rank factors:  \n",
    "  $$R \\approx U\\,V^{T}$$\n",
    "\n",
    "- **Embeddings**  \n",
    "  - $U \\in \\mathbb{R}^{n_{\\text{users}}\\times k}$: each row $u_{i}$ is a $k$‑dimensional user vector  \n",
    "  - $V \\in \\mathbb{R}^{n_{\\text{items}}\\times k}$: each row $v_{j}$ is a $k$‑dimensional item vector  \n",
    "\n",
    "- **Prediction**  \n",
    "  $$\\hat r_{i,j} = u_{i}\\cdot v_{j}\n",
    "    = \\sum_{\\ell=1}^{k} U_{i,\\ell}\\,V_{j,\\ell}$$\n",
    "\n",
    "- **Training objectives**  \n",
    "  - **Pairwise (BPR)**  \n",
    "    $$\\min_{U,V}\\;\n",
    "      -\\sum_{(i,p,n)} \\ln\\sigma\\bigl(\\hat r_{i,p} - \\hat r_{i,n}\\bigr)$$\n",
    "\n",
    "- **Why it works**  \n",
    "  1. Learns compact “taste” factors without explicit features  \n",
    "  2. Compresses a large, sparse matrix into dense vectors  \n",
    "  3. Enables very fast inference via a simple dot‑product  "
   ]
  },
  {
   "cell_type": "code",
   "execution_count": 7,
   "id": "c6ecec6c",
   "metadata": {},
   "outputs": [
    {
     "name": "stdout",
     "output_type": "stream",
     "text": [
      "Batches per epoch: 436\n"
     ]
    }
   ],
   "source": [
    "batch_size = 1024\n",
    "\n",
    "train_ds = MFTrainDataset(train_exs, num_negatives=1)\n",
    "val_ds   = MFTrainDataset(val_exs,   num_negatives=1)\n",
    "\n",
    "train_loader = DataLoader(train_ds, batch_size=batch_size, shuffle=True,  num_workers=2)\n",
    "val_loader   = DataLoader(val_ds,   batch_size=batch_size, shuffle=False, num_workers=2)\n",
    "\n",
    "num_users = len(users)\n",
    "num_items = len(movies)\n",
    "\n",
    "mf        = MatrixFactorization(num_users, num_items, embedding_dim=32).to(device)\n",
    "optimizer = optim.Adam(mf.parameters(), lr=1e-3)\n",
    "\n",
    "def bpr_loss(pos_scores, neg_scores):\n",
    "    return -(pos_scores - neg_scores).sigmoid().log().mean()\n",
    "\n",
    "print(\"Batches per epoch:\", len(train_loader))\n"
   ]
  },
  {
   "cell_type": "code",
   "execution_count": 8,
   "id": "1a88ced1",
   "metadata": {},
   "outputs": [
    {
     "data": {
      "text/plain": [
       "(3883, 3882, 0)"
      ]
     },
     "execution_count": 8,
     "metadata": {},
     "output_type": "execute_result"
    }
   ],
   "source": [
    "unique_ids = {\n",
    "    int(ex[\"positive\"]) for ex in train_exs\n",
    "}.union({\n",
    "    int(ex[\"negatives\"][0]) for ex in train_exs\n",
    "})\n",
    "len(unique_ids), max(unique_ids), min(unique_ids)"
   ]
  },
  {
   "cell_type": "code",
   "execution_count": 9,
   "id": "0b2bd74d",
   "metadata": {},
   "outputs": [
    {
     "data": {
      "text/plain": [
       "(6035, 6039, 0)"
      ]
     },
     "execution_count": 9,
     "metadata": {},
     "output_type": "execute_result"
    }
   ],
   "source": [
    "unique_ids = {\n",
    "    int(ex[\"UserID\"]) for ex in train_exs\n",
    "}\n",
    "len(unique_ids), max(unique_ids), min(unique_ids)"
   ]
  },
  {
   "cell_type": "code",
   "execution_count": 10,
   "id": "5e3b6f05",
   "metadata": {},
   "outputs": [
    {
     "name": "stdout",
     "output_type": "stream",
     "text": [
      "Epoch 1/3 — Train: 3.1785, Val: 3.1098\n",
      "Epoch 2/3 — Train: 2.9203, Val: 2.9652\n",
      "Epoch 3/3 — Train: 2.6839, Val: 2.8305\n"
     ]
    },
    {
     "data": {
      "image/png": "[encoded data removed]",
      "text/plain": [
       "<Figure size 640x480 with 1 Axes>"
      ]
     },
     "metadata": {},
     "output_type": "display_data"
    }
   ],
   "source": [
    "epochs = 3\n",
    "train_losses, val_losses = [], []\n",
    "\n",
    "for epoch in range(1, epochs+1):\n",
    "    # ——— train ———\n",
    "    mf.train()\n",
    "    tot_train = 0.0\n",
    "    for user, pos, neg in train_loader:\n",
    "        user, pos, neg = user.to(device), pos.to(device), neg.to(device)\n",
    "        optimizer.zero_grad()\n",
    "        loss = bpr_loss(mf(user, pos), mf(user, neg))\n",
    "        loss.backward()\n",
    "        optimizer.step()\n",
    "        tot_train += loss.item()\n",
    "    avg_train = tot_train / len(train_loader)\n",
    "    train_losses.append(avg_train)\n",
    "\n",
    "    # ——— val ———\n",
    "    mf.eval()\n",
    "    tot_val = 0.0\n",
    "    with torch.no_grad():\n",
    "        for user, pos, neg in val_loader:\n",
    "            user, pos, neg = user.to(device), pos.to(device), neg.to(device)\n",
    "            tot_val += bpr_loss(mf(user, pos), mf(user, neg)).item()\n",
    "    avg_val = tot_val / len(val_loader)\n",
    "    val_losses.append(avg_val)\n",
    "\n",
    "    print(f\"Epoch {epoch}/{epochs} — Train: {avg_train:.4f}, Val: {avg_val:.4f}\")\n",
    "\n",
    "# Cell 6: plot curves\n",
    "plt.plot(range(1, epochs+1), train_losses, label=\"Train Loss\")\n",
    "plt.plot(range(1, epochs+1), val_losses,   label=\"Val Loss\")\n",
    "plt.xlabel(\"Epoch\")\n",
    "plt.ylabel(\"BPR Loss\")\n",
    "plt.title(\"Training & Validation Loss Curve\")\n",
    "plt.legend()\n",
    "plt.show()"
   ]
  },
  {
   "cell_type": "markdown",
   "id": "4f32502b",
   "metadata": {},
   "source": [
    "### Evaluation Procedure\n",
    "\n",
    "#### 1. Metrics definitions\n",
    "- **Hit@K**  \n",
    "  Returns 1 if the true (positive) item is ranked $\\le K$, else 0.\n",
    "- **NDCG@K**  \n",
    "  Returns $\\displaystyle \\frac{1}{\\log_{2}(\\mathrm{rank}+1)}$ if $\\mathrm{rank}\\le K$, else 0.\n",
    "- **MRR** (Mean Reciprocal Rank)  \n",
    "  $\\displaystyle \\mathrm{MRR} = \\frac{1}{\\mathrm{rank}}$\n",
    "- **MAP** (Mean Average Precision)  \n",
    "  For a single positive item, $\\mathrm{AP} = \\frac{1}{\\mathrm{rank}}$\n",
    "\n",
    "#### 2. Negative sampling\n",
    "Given a user prefix (items in train + validation) and the global item set, sample $(\\mathrm{candidate\\_size} - 1)$ negatives uniformly from items the user hasn’t seen.\n",
    "\n",
    "#### 3. Per‑user evaluation loop\n",
    "For each user with at least one test item:  \n",
    "1. **Build prefix** = `train_seq + val_seq`  \n",
    "2. **Held‑out positive** = `test_seq[0]`  \n",
    "3. **Sample negatives** (size = candidate_size – 1) excluding prefix & positive  \n",
    "4. **Candidates** = `[positive] + negatives`  \n",
    "5. **Score all candidates** in one forward pass:  \n",
    "   ```python\n",
    "   users_t = torch.tensor([user] * candidate_size, dtype=torch.long, device=device)\n",
    "   items_t = torch.tensor(candidates,         dtype=torch.long, device=device)\n",
    "   scores  = model(users_t, items_t).cpu().numpy()"
   ]
  },
  {
   "cell_type": "code",
   "execution_count": 11,
   "id": "a01d13b4",
   "metadata": {},
   "outputs": [
    {
     "name": "stdout",
     "output_type": "stream",
     "text": [
      "Evaluation Metrics:\n",
      "- Hit@10: 0.0921\n",
      "- NDCG@10: 0.0398\n",
      "- MRR: 0.0475\n",
      "- MAP: 0.0475\n"
     ]
    }
   ],
   "source": [
    "metrics = evaluate_ranking_model(\n",
    "    model=mf,\n",
    "    user_splits=user_splits,\n",
    "    global_items=all_movies,\n",
    "    device=device,\n",
    "    candidate_size=100,\n",
    "    k=10\n",
    ")\n",
    "\n",
    "print(\"Evaluation Metrics:\")\n",
    "for name, val in metrics.items():\n",
    "    print(f\"- {name}: {val:.4f}\")"
   ]
  },
  {
   "cell_type": "markdown",
   "id": "cc0ba196",
   "metadata": {},
   "source": [
    "Lets see which movies are similar to toy story"
   ]
  },
  {
   "cell_type": "code",
   "execution_count": 12,
   "id": "6be22f35",
   "metadata": {},
   "outputs": [
    {
     "name": "stdout",
     "output_type": "stream",
     "text": [
      "      MovieID                                            Title  similarity\n",
      "0           0                                 Toy Story (1995)    1.000000\n",
      "56         56                     Home for the Holidays (1995)    0.551822\n",
      "713       713  Haunted World of Edward D. Wood Jr., The (1995)    0.527052\n",
      "1000     1000                          Parent Trap, The (1961)    0.524944\n",
      "1433     1433                            That Darn Cat! (1997)    0.517895\n",
      "1434     1434                            Vegas Vacation (1997)    0.511102\n",
      "1448     1448                             Private Parts (1997)    0.510816\n",
      "1547     1547                      George of the Jungle (1997)    0.506639\n",
      "2193     2193                       About Last Night... (1986)    0.503374\n",
      "3342     3342                                Babymother (1998)    0.500553\n",
      "3750     3750             Thomas and the Magic Railroad (2000)    0.497589\n"
     ]
    },
    {
     "name": "stderr",
     "output_type": "stream",
     "text": [
      "/var/folders/pt/4cr2zr794g717_kmql57h7qw0000gn/T/ipykernel_79467/2216239250.py:12: SettingWithCopyWarning: \n",
      "A value is trying to be set on a copy of a slice from a DataFrame.\n",
      "Try using .loc[row_indexer,col_indexer] = value instead\n",
      "\n",
      "See the caveats in the documentation: https://pandas.pydata.org/pandas-docs/stable/user_guide/indexing.html#returning-a-view-versus-a-copy\n",
      "  similar_movies_df['similarity'] = scores\n"
     ]
    }
   ],
   "source": [
    "toy_story_emb = mf.item_embeddings.weight[0]               # shape: [32]   \n",
    "item_embs = F.normalize(mf.item_embeddings.weight, dim=1)  # shape: [3883, 32]\n",
    "toy_story_emb = toy_story_emb / toy_story_emb.norm()       # shape: [32]\n",
    "similarities = item_embs @ toy_story_emb  # shape: [3883]\n",
    "# Step 4: Get top-k most similar item indices (excluding itself if needed)\n",
    "topk = torch.topk(similarities, k=10 + 1)\n",
    "indices = topk.indices.tolist()\n",
    "# Look them up in the movies DataFrame\n",
    "similar_movies_df = movies[movies['MovieID'].isin(indices)]\n",
    "# Optional: Sort by similarity score\n",
    "scores = similarities[indices].tolist()\n",
    "similar_movies_df['similarity'] = scores\n",
    "similar_movies_df = similar_movies_df.sort_values(by='similarity', ascending=False)\n",
    "\n",
    "print(similar_movies_df[['MovieID', 'Title', 'similarity']])"
   ]
  },
  {
   "cell_type": "markdown",
   "id": "9aea7dcf",
   "metadata": {},
   "source": [
    "## Fancier matrix factorization\n",
    "\n",
    "We're now going to use an MLP instead of dot product. This brings us into deepMF territory. The set up is nearly identical so we can reuse the same data objects as before."
   ]
  },
  {
   "cell_type": "code",
   "execution_count": 13,
   "id": "013b5787",
   "metadata": {},
   "outputs": [
    {
     "name": "stdout",
     "output_type": "stream",
     "text": [
      "Epoch 1/3 | Train Loss: 0.4677 | Val Loss: 0.4315\n",
      "Epoch 2/3 | Train Loss: 0.3048 | Val Loss: 0.3924\n",
      "Epoch 3/3 | Train Loss: 0.2845 | Val Loss: 0.3812\n"
     ]
    },
    {
     "data": {
      "image/png": "[encoded data removed]",
      "text/plain": [
       "<Figure size 640x480 with 1 Axes>"
      ]
     },
     "metadata": {},
     "output_type": "display_data"
    }
   ],
   "source": [
    "emb_dim = 32\n",
    "\n",
    "train_losses, val_losses = [], []\n",
    "model = DeepMF(num_users, num_items, emb_dim).to(device)\n",
    "optimizer = torch.optim.Adam(model.parameters(), lr=1e-3)\n",
    "\n",
    "epochs = 3\n",
    "\n",
    "for epoch in range(epochs):\n",
    "    # --- Training ---\n",
    "    model.train()\n",
    "    total_train_loss = 0.0\n",
    "\n",
    "    for user, pos, neg in train_loader:\n",
    "        user, pos, neg = user.to(device), pos.to(device), neg.to(device)\n",
    "\n",
    "        optimizer.zero_grad()\n",
    "        pos_score = model(user, pos)\n",
    "        neg_score = model(user, neg)\n",
    "\n",
    "        loss = -F.logsigmoid(pos_score - neg_score).mean()\n",
    "        loss.backward()\n",
    "        optimizer.step()\n",
    "\n",
    "        total_train_loss += loss.item()\n",
    "\n",
    "    avg_train_loss = total_train_loss / len(train_loader)\n",
    "    train_losses.append(avg_train_loss)\n",
    "\n",
    "    # --- Validation ---\n",
    "    model.eval()\n",
    "    total_val_loss = 0.0\n",
    "\n",
    "    with torch.no_grad():\n",
    "        for user, pos, neg in val_loader:\n",
    "            user, pos, neg = user.to(device), pos.to(device), neg.to(device)\n",
    "\n",
    "            pos_score = model(user, pos)\n",
    "            neg_score = model(user, neg)\n",
    "\n",
    "            val_loss = -F.logsigmoid(pos_score - neg_score).mean()\n",
    "            total_val_loss += val_loss.item()\n",
    "\n",
    "    avg_val_loss = total_val_loss / len(val_loader)\n",
    "    val_losses.append(avg_val_loss)\n",
    "\n",
    "    print(f\"Epoch {epoch+1}/{epochs} | Train Loss: {avg_train_loss:.4f} | Val Loss: {avg_val_loss:.4f}\")\n",
    "\n",
    "plt.plot(train_losses, label=\"Train Loss\")\n",
    "plt.plot(val_losses, label=\"Val Loss\")\n",
    "plt.xlabel(\"Epoch\")\n",
    "plt.ylabel(\"BPR Loss\")\n",
    "plt.title(\"Training & Validation BPR Loss\")\n",
    "plt.legend()\n",
    "plt.grid(True)\n",
    "plt.show()\n"
   ]
  },
  {
   "cell_type": "code",
   "execution_count": 14,
   "id": "cf1f05b1",
   "metadata": {},
   "outputs": [
    {
     "name": "stdout",
     "output_type": "stream",
     "text": [
      "Evaluation Metrics:\n",
      "- Hit@10: 0.5382\n",
      "- NDCG@10: 0.2966\n",
      "- MRR: 0.2454\n",
      "- MAP: 0.2454\n"
     ]
    }
   ],
   "source": [
    "metrics = evaluate_ranking_model(\n",
    "    model=model,\n",
    "    user_splits=user_splits,\n",
    "    global_items=all_movies,\n",
    "    device=device,\n",
    "    candidate_size=100,\n",
    "    k=10\n",
    ")\n",
    "\n",
    "print(\"Evaluation Metrics:\")\n",
    "for name, val in metrics.items():\n",
    "    print(f\"- {name}: {val:.4f}\")"
   ]
  },
  {
   "cell_type": "code",
   "execution_count": 15,
   "id": "ed442077",
   "metadata": {},
   "outputs": [
    {
     "name": "stdout",
     "output_type": "stream",
     "text": [
      "      MovieID                                      Title  similarity\n",
      "0           0                           Toy Story (1995)    1.000000\n",
      "770       770              Independence Day (ID4) (1996)    0.603814\n",
      "1085     1085                             Top Gun (1986)    0.596194\n",
      "1132     1132                 Wrong Trousers, The (1993)    0.576420\n",
      "1200     1200  Killer, The (Die xue shuang xiong) (1989)    0.561321\n",
      "1246     1246                          Unforgiven (1992)    0.545300\n",
      "1372     1372                       Jerry Maguire (1996)    0.522185\n",
      "2072     2072                   American Tail, An (1986)    0.515297\n",
      "2260     2260                  American History X (1998)    0.498058\n",
      "2603     2603               Thirteenth Floor, The (1999)    0.489310\n",
      "3867     3867                             Runaway (1984)    0.476176\n"
     ]
    },
    {
     "name": "stderr",
     "output_type": "stream",
     "text": [
      "/var/folders/pt/4cr2zr794g717_kmql57h7qw0000gn/T/ipykernel_79467/1490599772.py:13: SettingWithCopyWarning: \n",
      "A value is trying to be set on a copy of a slice from a DataFrame.\n",
      "Try using .loc[row_indexer,col_indexer] = value instead\n",
      "\n",
      "See the caveats in the documentation: https://pandas.pydata.org/pandas-docs/stable/user_guide/indexing.html#returning-a-view-versus-a-copy\n",
      "  similar_movies_df['similarity'] = scores\n"
     ]
    }
   ],
   "source": [
    "from torch.nn import functional as F\n",
    "toy_story_emb = model.item_embeddings.weight[0]               # shape: [32]   \n",
    "item_embs = F.normalize(model.item_embeddings.weight, dim=1)  # shape: [3883, 32]\n",
    "toy_story_emb = toy_story_emb / toy_story_emb.norm()       # shape: [32]\n",
    "similarities = item_embs @ toy_story_emb  # shape: [3883]\n",
    "# Step 4: Get top-k most similar item indices (excluding itself if needed)\n",
    "topk = torch.topk(similarities, k=10 + 1)\n",
    "indices = topk.indices.tolist()\n",
    "# Look them up in the movies DataFrame\n",
    "similar_movies_df = movies[movies['MovieID'].isin(indices)]\n",
    "# Optional: Sort by similarity score\n",
    "scores = similarities[indices].tolist()\n",
    "similar_movies_df['similarity'] = scores\n",
    "similar_movies_df = similar_movies_df.sort_values(by='similarity', ascending=False)\n",
    "\n",
    "print(similar_movies_df[['MovieID', 'Title', 'similarity']])"
   ]
  },
  {
   "cell_type": "markdown",
   "id": "2f1ad9e7",
   "metadata": {},
   "source": [
    "# Now lets add features to deepMF"
   ]
  },
  {
   "cell_type": "code",
   "execution_count": 16,
   "id": "9276e8b7",
   "metadata": {},
   "outputs": [],
   "source": [
    "user_feat, gender_vocab, occ_vocab = build_user_table(users)\n",
    "movie_genre_vec, movie_year, genre_vocab = build_movie_table(movies)"
   ]
  },
  {
   "cell_type": "code",
   "execution_count": 17,
   "id": "051d37ae",
   "metadata": {},
   "outputs": [],
   "source": [
    "train_ds = FeatureAwareDeepMFDataset(train_exs, user_feat, movie_genre_vec, movie_year)\n",
    "val_ds   = FeatureAwareDeepMFDataset(val_exs,   user_feat, movie_genre_vec, movie_year)\n",
    "\n",
    "train_loader = DataLoader(train_ds, batch_size=512, shuffle=True, drop_last=True)\n",
    "val_loader   = DataLoader(val_ds,   batch_size=512, shuffle=False, drop_last=False)"
   ]
  },
  {
   "cell_type": "code",
   "execution_count": 18,
   "id": "d2cb912e",
   "metadata": {},
   "outputs": [
    {
     "name": "stdout",
     "output_type": "stream",
     "text": [
      "Epoch 1/5 | Train Loss: 0.3974 | Val Loss: 0.4013\n",
      "Epoch 2/5 | Train Loss: 0.2834 | Val Loss: 0.3739\n",
      "Epoch 3/5 | Train Loss: 0.2638 | Val Loss: 0.3765\n",
      "Epoch 4/5 | Train Loss: 0.2503 | Val Loss: 0.3746\n",
      "Epoch 5/5 | Train Loss: 0.2381 | Val Loss: 0.3800\n"
     ]
    }
   ],
   "source": [
    "model = FeatureAwareDeepMF(\n",
    "    num_users=len(user_feat),\n",
    "    num_items=len(movie_genre_vec),\n",
    "    num_genders=len(gender_vocab),\n",
    "    num_occs=len(occ_vocab),\n",
    "    num_genres=len(genre_vocab),\n",
    "    emb_dim=32\n",
    ").to(device)\n",
    "\n",
    "optimizer = torch.optim.Adam(model.parameters(), lr=1e-3)\n",
    "epochs = 5\n",
    "train_losses, val_losses = [], []\n",
    "\n",
    "for epoch in range(epochs):\n",
    "    model.train()\n",
    "    total_train_loss = 0\n",
    "\n",
    "    for u, pos, neg, gender, occ, year_pos, year_neg, age, _, genre_pos, genre_neg in train_loader:\n",
    "        u, pos, neg = u.to(device), pos.to(device), neg.to(device)\n",
    "        gender, occ = gender.to(device), occ.to(device)\n",
    "        year_pos, year_neg = year_pos.to(device), year_neg.to(device)\n",
    "        age = age.to(device)\n",
    "        genre_pos, genre_neg = genre_pos.to(device), genre_neg.to(device)\n",
    "\n",
    "        optimizer.zero_grad()\n",
    "        pos_scores = model(u, pos, gender, occ, year_pos, age, genre_pos)\n",
    "        neg_scores = model(u, neg, gender, occ, year_neg, age, genre_neg)\n",
    "\n",
    "        loss = bpr_loss(pos_scores, neg_scores)\n",
    "        loss.backward()\n",
    "        optimizer.step()\n",
    "\n",
    "        total_train_loss += loss.item()\n",
    "\n",
    "    train_losses.append(total_train_loss / len(train_loader))\n",
    "\n",
    "    # Validation\n",
    "    model.eval()\n",
    "    total_val_loss = 0\n",
    "    with torch.no_grad():\n",
    "        for u, pos, neg, gender, occ, year_pos, year_neg, age, _, genre_pos, genre_neg in val_loader:\n",
    "            u, pos, neg = u.to(device), pos.to(device), neg.to(device)\n",
    "            gender, occ = gender.to(device), occ.to(device)\n",
    "            year_pos, year_neg = year_pos.to(device), year_neg.to(device)\n",
    "            age = age.to(device)\n",
    "            genre_pos, genre_neg = genre_pos.to(device), genre_neg.to(device)\n",
    "\n",
    "            pos_scores = model(u, pos, gender, occ, year_pos, age, genre_pos)\n",
    "            neg_scores = model(u, neg, gender, occ, year_neg, age, genre_neg)\n",
    "\n",
    "            val_loss = bpr_loss(pos_scores, neg_scores)\n",
    "            total_val_loss += val_loss.item()\n",
    "\n",
    "    val_losses.append(total_val_loss / len(val_loader))\n",
    "\n",
    "    print(f\"Epoch {epoch+1}/{epochs} | Train Loss: {train_losses[-1]:.4f} | Val Loss: {val_losses[-1]:.4f}\")"
   ]
  },
  {
   "cell_type": "code",
   "execution_count": 19,
   "id": "fd5c737a",
   "metadata": {},
   "outputs": [
    {
     "data": {
      "image/png": "[encoded data removed]",
      "text/plain": [
       "<Figure size 640x480 with 1 Axes>"
      ]
     },
     "metadata": {},
     "output_type": "display_data"
    }
   ],
   "source": [
    "plt.plot(train_losses, label=\"Train Loss\")\n",
    "plt.plot(val_losses, label=\"Val Loss\")\n",
    "plt.xlabel(\"Epoch\")\n",
    "plt.ylabel(\"BPR Loss\")\n",
    "plt.title(\"Training & Validation Loss for FeatureAwareDeepMF\")\n",
    "plt.legend()\n",
    "plt.grid(True)\n",
    "plt.show()"
   ]
  },
  {
   "cell_type": "code",
   "execution_count": 20,
   "id": "daaf09fa",
   "metadata": {},
   "outputs": [
    {
     "name": "stdout",
     "output_type": "stream",
     "text": [
      "{'Hit@10': np.float64(0.5529411764705883), 'NDCG@10': np.float64(0.30162377238830895), 'MRR': np.float64(0.247152452012204), 'MAP': np.float64(0.247152452012204)}\n"
     ]
    }
   ],
   "source": [
    "metrics = evaluate_featureaware_model(\n",
    "    model,\n",
    "    user_splits,\n",
    "    set(movies[\"MovieID\"]),\n",
    "    user_feat,\n",
    "    movie_genre_vec,\n",
    "    movie_year,\n",
    "    device=device\n",
    ")\n",
    "print(metrics)"
   ]
  },
  {
   "cell_type": "code",
   "execution_count": 21,
   "id": "393c9683",
   "metadata": {},
   "outputs": [
    {
     "name": "stdout",
     "output_type": "stream",
     "text": [
      "      MovieID                                        Title  similarity\n",
      "0           0                             Toy Story (1995)    1.000000\n",
      "424       424                         Bronx Tale, A (1993)    0.581540\n",
      "680       680                  Operation Dumbo Drop (1995)    0.546793\n",
      "917       917                 Foreign Correspondent (1940)    0.545485\n",
      "1277     1277                           Real Genius (1985)    0.510163\n",
      "1319     1319                 Bride of Frankenstein (1935)    0.496354\n",
      "1562     1562                                 Mimic (1997)    0.487070\n",
      "1785     1785                        Kissing a Fool (1998)    0.464942\n",
      "1910     1910  Friday the 13th Part VI: Jason Lives (1986)    0.462963\n",
      "2220     2220                           Player, The (1992)    0.447323\n",
      "2970     2970                        Trading Places (1983)    0.447214\n"
     ]
    },
    {
     "name": "stderr",
     "output_type": "stream",
     "text": [
      "/var/folders/pt/4cr2zr794g717_kmql57h7qw0000gn/T/ipykernel_79467/2070559262.py:12: SettingWithCopyWarning: \n",
      "A value is trying to be set on a copy of a slice from a DataFrame.\n",
      "Try using .loc[row_indexer,col_indexer] = value instead\n",
      "\n",
      "See the caveats in the documentation: https://pandas.pydata.org/pandas-docs/stable/user_guide/indexing.html#returning-a-view-versus-a-copy\n",
      "  similar_movies_df['similarity'] = scores\n"
     ]
    }
   ],
   "source": [
    "toy_story_emb = model.item_embeddings.weight[0]               # shape: [32]   \n",
    "item_embs = F.normalize(model.item_embeddings.weight, dim=1)  # shape: [3883, 32]\n",
    "toy_story_emb = toy_story_emb / toy_story_emb.norm()       # shape: [32]\n",
    "similarities = item_embs @ toy_story_emb  # shape: [3883]\n",
    "# Step 4: Get top-k most similar item indices (excluding itself if needed)\n",
    "topk = torch.topk(similarities, k=10 + 1)\n",
    "indices = topk.indices.tolist()\n",
    "# Look them up in the movies DataFrame\n",
    "similar_movies_df = movies[movies['MovieID'].isin(indices)]\n",
    "# Optional: Sort by similarity score\n",
    "scores = similarities[indices].tolist()\n",
    "similar_movies_df['similarity'] = scores\n",
    "similar_movies_df = similar_movies_df.sort_values(by='similarity', ascending=False)\n",
    "\n",
    "print(similar_movies_df[['MovieID', 'Title', 'similarity']])"
   ]
  }
 ],
 "metadata": {
  "kernelspec": {
   "display_name": "rec",
   "language": "python",
   "name": "python3"
  },
  "language_info": {
   "codemirror_mode": {
    "name": "ipython",
    "version": 3
   },
   "file_extension": ".py",
   "mimetype": "text/x-python",
   "name": "python",
   "nbconvert_exporter": "python",
   "pygments_lexer": "ipython3",
   "version": "3.11.11"
  }
 },
 "nbformat": 4,
 "nbformat_minor": 5
}
