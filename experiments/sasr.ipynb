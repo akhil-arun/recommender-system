{
 "cells": [
  {
   "cell_type": "code",
   "execution_count": 19,
   "id": "initial_id",
   "metadata": {
    "collapsed": true,
    "ExecuteTime": {
     "end_time": "2025-04-22T12:29:40.787053Z",
     "start_time": "2025-04-22T12:29:40.751460Z"
    }
   },
   "outputs": [
    {
     "name": "stdout",
     "output_type": "stream",
     "text": [
      "The autoreload extension is already loaded. To reload it, use:\n",
      "  %reload_ext autoreload\n"
     ]
    }
   ],
   "source": [
    "%load_ext autoreload\n",
    "%autoreload 2\n",
    "%reload_ext autoreload"
   ]
  },
  {
   "cell_type": "code",
   "execution_count": 20,
   "outputs": [],
   "source": [
    "import os, sys\n",
    "import json\n",
    "from data_utils.data_utils import set_seed\n",
    "set_seed(seed=42)\n",
    "# compute the absolute path to your project root:\n",
    "root = os.path.abspath(os.path.join(os.getcwd(), '..'))\n",
    "# insert it at the front of Python’s module search path:\n",
    "sys.path.insert(0, root)"
   ],
   "metadata": {
    "collapsed": false,
    "ExecuteTime": {
     "end_time": "2025-04-22T12:29:43.670877Z",
     "start_time": "2025-04-22T12:29:41.730366Z"
    }
   },
   "id": "654cfcf99cfa7fc6"
  },
  {
   "cell_type": "code",
   "execution_count": 21,
   "outputs": [],
   "source": [
    "import matplotlib.pyplot as plt\n",
    "from torch.utils.data import DataLoader\n",
    "import numpy as np\n",
    "\n",
    "import torch\n",
    "import json\n",
    "from torch.nn import functional as F\n",
    "import torch.optim as optim\n",
    "\n",
    "# Dataset wrapper\n",
    "from data_utils.datasets import SASRTrainDataset\n",
    "\n",
    "# Model and evaluation\n",
    "from models.sasr import SASR\n",
    "from evaluation import evaluate_ranking_model, evaluate_featureaware_model"
   ],
   "metadata": {
    "collapsed": false,
    "ExecuteTime": {
     "end_time": "2025-04-22T12:29:43.695750Z",
     "start_time": "2025-04-22T12:29:43.671497Z"
    }
   },
   "id": "a9157eaa05df52f7"
  },
  {
   "cell_type": "code",
   "execution_count": 22,
   "outputs": [
    {
     "name": "stdout",
     "output_type": "stream",
     "text": [
      "Running on mps\n"
     ]
    }
   ],
   "source": [
    "device = torch.device(\"mps\") if torch.backends.mps.is_available() else torch.device(\"cpu\")\n",
    "print(\"Running on\", device)"
   ],
   "metadata": {
    "collapsed": false,
    "ExecuteTime": {
     "end_time": "2025-04-22T12:29:43.718085Z",
     "start_time": "2025-04-22T12:29:43.694129Z"
    }
   },
   "id": "d0094ab43d7d47"
  },
  {
   "cell_type": "code",
   "execution_count": 55,
   "outputs": [
    {
     "name": "stdout",
     "output_type": "stream",
     "text": [
      "{'UserID': 0, 'prefix': [3117, 1250], 'positive': 1672, 'negatives': [2620, 456, 102, 3038, 1126], 'padded_prefix': [0, 0, 0, 0, 0, 0, 0, 0, 0, 0, 0, 0, 0, 0, 0, 0, 0, 0, 0, 0, 0, 0, 0, 0, 0, 0, 0, 0, 0, 0, 0, 0, 0, 0, 0, 0, 0, 0, 0, 0, 0, 0, 0, 0, 0, 0, 0, 0, 3117, 1250], 'mask': [0, 0, 0, 0, 0, 0, 0, 0, 0, 0, 0, 0, 0, 0, 0, 0, 0, 0, 0, 0, 0, 0, 0, 0, 0, 0, 0, 0, 0, 0, 0, 0, 0, 0, 0, 0, 0, 0, 0, 0, 0, 0, 0, 0, 0, 0, 0, 0, 1, 1]}\n"
     ]
    }
   ],
   "source": [
    "from data_utils.preprocess import load_movielens, get_user_sequences, split_sequences\n",
    "import json\n",
    "\n",
    "def load_json_from_file(file_path):\n",
    "    \"\"\"\n",
    "    Loads JSON data from a file.\n",
    "\n",
    "    Args:\n",
    "        file_path (str): The path to the JSON file.\n",
    "\n",
    "    Returns:\n",
    "        dict: A dictionary representing the JSON data, or None if an error occurs.\n",
    "    \"\"\"\n",
    "    try:\n",
    "        with open(file_path, 'r') as file:\n",
    "            data = json.load(file)\n",
    "            return data\n",
    "    except FileNotFoundError:\n",
    "        print(f\"Error: File not found at '{file_path}'\")\n",
    "        return None\n",
    "    except json.JSONDecodeError:\n",
    "        print(f\"Error: Invalid JSON format in '{file_path}'\")\n",
    "        return None\n",
    "\n",
    "file_path = '../data/'\n",
    "\n",
    "\n",
    "ratings, users, movies = load_movielens(file_path)\n",
    "user_seqs = get_user_sequences(ratings)\n",
    "\n",
    "user_splits = split_sequences(user_seqs, train_ratio=0.8, val_ratio=0.1)\n",
    "\n",
    "train_exs = load_json_from_file(f'{file_path}train_data.json')\n",
    "val_exs = load_json_from_file(f'{file_path}val_data.json')\n",
    "test_exs = load_json_from_file(f'{file_path}test_data.json')\n",
    "\n",
    "all_movies = set(movies[\"MovieID\"].unique())\n",
    "all_users = set(users[\"UserID\"].unique())\n",
    "num_total_movies = len(all_movies)\n",
    "num_total_users = len(all_users)\n",
    "\n",
    "print(train_exs[0])\n"
   ],
   "metadata": {
    "collapsed": false,
    "ExecuteTime": {
     "end_time": "2025-04-23T12:23:13.675314Z",
     "start_time": "2025-04-23T12:22:53.000638Z"
    }
   },
   "id": "5b5dc813dd369c46"
  },
  {
   "cell_type": "code",
   "execution_count": 106,
   "outputs": [],
   "source": [
    "batch_size = 1024\n",
    "\n",
    "train_ds = SASRTrainDataset(train_exs, num_negatives=1)\n",
    "val_ds   = SASRTrainDataset(val_exs,   num_negatives=1)\n",
    "\n",
    "sasr = SASR(num_total_users, num_total_movies).to(device)\n",
    "\n",
    "train_loader = DataLoader(train_ds, batch_size=batch_size, shuffle=True,  num_workers=2)\n",
    "val_loader   = DataLoader(val_ds,   batch_size=batch_size, shuffle=False, num_workers=2)\n",
    "optimizer = optim.Adam(sasr.parameters(), lr=1e-3)\n",
    "\n",
    "def bpr_loss(sasr, encoded_seq_next, pos, neg):\n",
    "    \n",
    "    pos_scores = torch.sum(encoded_seq_next * sasr.item_embeddings(pos), -1)\n",
    "    neg_scores = torch.sum(encoded_seq_next * sasr.item_embeddings(neg), -1)\n",
    "    \n",
    "    return -(pos_scores - neg_scores).sigmoid().log().mean()"
   ],
   "metadata": {
    "collapsed": false,
    "ExecuteTime": {
     "end_time": "2025-04-24T01:35:50.711085Z",
     "start_time": "2025-04-24T01:35:50.618640Z"
    }
   },
   "id": "f8fcbb4e0a13601e"
  },
  {
   "cell_type": "code",
   "execution_count": 110,
   "outputs": [
    {
     "name": "stdout",
     "output_type": "stream",
     "text": [
      "Epoch 1/1 — Train: 0.4891, Val: 0.4535\n"
     ]
    },
    {
     "data": {
      "text/plain": "<Figure size 640x480 with 1 Axes>",
      "image/png": "[encoded data removed]"
     },
     "metadata": {},
     "output_type": "display_data"
    }
   ],
   "source": [
    "epochs = 1\n",
    "train_losses, val_losses = [], []\n",
    "\n",
    "for epoch in range(1, epochs+1):\n",
    "    # ——— train ———\n",
    "    sasr.train()\n",
    "    tot_train = 0.0\n",
    "    for user, pos, neg, prefix in train_loader:\n",
    "        user, pos, neg, prefix = (user.to(device), pos.to(device), neg.to(device), prefix.to(device))\n",
    "        optimizer.zero_grad()\n",
    "        encoded_seq_next = sasr(user, prefix)[:, -1, :]\n",
    "        loss = bpr_loss(sasr, encoded_seq_next, pos, neg)\n",
    "        loss.backward()\n",
    "        optimizer.step()\n",
    "        tot_train += loss.item()\n",
    "    avg_train = tot_train / len(train_loader)\n",
    "    train_losses.append(avg_train)\n",
    "\n",
    "    # ——— val ———\n",
    "    sasr.eval()\n",
    "    tot_val = 0.0\n",
    "    with torch.no_grad():\n",
    "        for user, pos, neg, prefix in val_loader:\n",
    "            user, pos, neg, prefix = user.to(device), pos.to(device), neg.to(device), prefix.to(device)\n",
    "            encoded_seq_next = sasr(user, prefix)[:, -1, :]\n",
    "            tot_val += bpr_loss(sasr, encoded_seq_next, pos, neg).item()\n",
    "    avg_val = tot_val / len(val_loader)\n",
    "    val_losses.append(avg_val)\n",
    "\n",
    "    print(f\"Epoch {epoch}/{epochs} — Train: {avg_train:.4f}, Val: {avg_val:.4f}\")\n",
    "\n",
    "# Cell 6: plot curves\n",
    "plt.plot(range(1, epochs+1), train_losses, label=\"Train Loss\")\n",
    "plt.plot(range(1, epochs+1), val_losses,   label=\"Val Loss\")\n",
    "plt.xlabel(\"Epoch\")\n",
    "plt.ylabel(\"BPR Loss\")\n",
    "plt.title(\"Training & Validation Loss Curve\")\n",
    "plt.legend()\n",
    "plt.show()"
   ],
   "metadata": {
    "collapsed": false,
    "ExecuteTime": {
     "end_time": "2025-04-24T01:52:03.913934Z",
     "start_time": "2025-04-24T01:47:56.239999Z"
    }
   },
   "id": "7b52176991e37cb9"
  },
  {
   "cell_type": "code",
   "execution_count": null,
   "outputs": [],
   "source": [
    "metrics = evaluate_ranking_model(\n",
    "    model=sasr,\n",
    "    user_splits=user_splits,\n",
    "    global_items=all_movies,\n",
    "    device=device,\n",
    "    candidate_size=100,\n",
    "    k=10,\n",
    "    model_type='sasr'\n",
    ")\n",
    "\n",
    "print(\"Evaluation Metrics:\")\n",
    "for name, val in metrics.items():\n",
    "    print(f\"- {name}: {val:.4f}\")"
   ],
   "metadata": {
    "collapsed": false,
    "is_executing": true
   },
   "id": "99981ba034e59cf4"
  },
  {
   "cell_type": "code",
   "execution_count": 155,
   "outputs": [
    {
     "name": "stdout",
     "output_type": "stream",
     "text": [
      "      MovieID                           Title  similarity\n",
      "0           1                Toy Story (1995)    1.000000\n",
      "281       284             New York Cop (1996)    0.459784\n",
      "336       340                 War, The (1994)    0.435410\n",
      "683       692                     Solo (1996)    0.422883\n",
      "1575     1617        L.A. Confidential (1997)    0.414121\n",
      "1864     1933  Life of Émile Zola, The (1937)    0.402022\n",
      "2295     2364        Godzilla (Gojira) (1984)    0.390662\n",
      "2556     2625     Black Mask (Hak hap) (1996)    0.385866\n",
      "2638     2707           Arlington Road (1999)    0.372948\n",
      "3078     3147          Green Mile, The (1999)    0.364207\n",
      "3475     3544         Shakes the Clown (1991)    0.353726\n"
     ]
    },
    {
     "name": "stderr",
     "output_type": "stream",
     "text": [
      "/var/folders/bw/0d70cdj52fn0jt8hp7qxqj5r0000gn/T/ipykernel_1818/3642352183.py:20: SettingWithCopyWarning: \n",
      "A value is trying to be set on a copy of a slice from a DataFrame.\n",
      "Try using .loc[row_indexer,col_indexer] = value instead\n",
      "\n",
      "See the caveats in the documentation: https://pandas.pydata.org/pandas-docs/stable/user_guide/indexing.html#returning-a-view-versus-a-copy\n",
      "  similar_movies_df['similarity'] = scores\n"
     ]
    }
   ],
   "source": [
    "toy_story_emb = sasr.item_embeddings.weight[1]               # shape: [32]\n",
    "item_embs = F.normalize(sasr.item_embeddings.weight, dim=1)  # shape: [3883, 32]\n",
    "toy_story_emb = toy_story_emb / toy_story_emb.norm()       # shape: [32]\n",
    "similarities = item_embs @ toy_story_emb  # shape: [3883]\n",
    "# Step 4: Get top-k most similar item indices (excluding itself if needed)\n",
    "topk = torch.topk(similarities, k=10 + 1)\n",
    "\n",
    "## Adding 1 here because 0 is my padding index\n",
    "movie_id_to_index = {movie_id: i + 1 for i, movie_id in enumerate(movies['MovieID'].unique())}\n",
    "index_to_movie_id = {v: k for k, v in movie_id_to_index.items()}\n",
    "\n",
    "indices = topk.indices.tolist()\n",
    "# # Look them up in the movies DataFrame\n",
    "mapped_movies = []\n",
    "for values in indices:\n",
    "    mapped_movies.append(index_to_movie_id[values])\n",
    "similar_movies_df = movies[movies['MovieID'].isin(mapped_movies)]\n",
    "# # Optional: Sort by similarity score\n",
    "scores = similarities[indices].tolist()\n",
    "similar_movies_df['similarity'] = scores\n",
    "similar_movies_df = similar_movies_df.sort_values(by='similarity', ascending=False)\n",
    "\n",
    "print(similar_movies_df[['MovieID', 'Title', 'similarity']])"
   ],
   "metadata": {
    "collapsed": false,
    "ExecuteTime": {
     "end_time": "2025-04-25T01:03:47.687701Z",
     "start_time": "2025-04-25T01:03:47.549448Z"
    }
   },
   "id": "b6e5c4fcb6ef4b11"
  },
  {
   "cell_type": "code",
   "execution_count": null,
   "outputs": [],
   "source": [],
   "metadata": {
    "collapsed": false
   },
   "id": "2f820a30854c4ad1"
  }
 ],
 "metadata": {
  "kernelspec": {
   "display_name": "Python 3",
   "language": "python",
   "name": "python3"
  },
  "language_info": {
   "codemirror_mode": {
    "name": "ipython",
    "version": 2
   },
   "file_extension": ".py",
   "mimetype": "text/x-python",
   "name": "python",
   "nbconvert_exporter": "python",
   "pygments_lexer": "ipython2",
   "version": "2.7.6"
  }
 },
 "nbformat": 4,
 "nbformat_minor": 5
}
