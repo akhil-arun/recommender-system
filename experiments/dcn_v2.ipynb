{
 "cells": [
  {
   "cell_type": "code",
   "execution_count": 231,
   "metadata": {},
   "outputs": [
    {
     "name": "stdout",
     "output_type": "stream",
     "text": [
      "The autoreload extension is already loaded. To reload it, use:\n",
      "  %reload_ext autoreload\n",
      "/Users/harshadakumbhare/Documents/GitHub/akshaydaf/recommender-system\n"
     ]
    }
   ],
   "source": [
    "%load_ext autoreload\n",
    "%autoreload 2\n",
    "\n",
    "import os, sys\n",
    "# compute the absolute path to your project root:\n",
    "root = os.path.abspath(os.path.join(os.getcwd(), '..'))\n",
    "print(root)\n",
    "# insert it at the front of Python’s module search path:\n",
    "sys.path.insert(0, root)\n"
   ]
  },
  {
   "cell_type": "code",
   "execution_count": 232,
   "metadata": {},
   "outputs": [],
   "source": [
    "# Load and clean data.\n",
    "import pandas as pd\n",
    "from data_utils.preprocess import (\n",
    "    load_movielens, clean_and_filter\n",
    ")\n",
    "\n",
    "# users_df = pd.read_csv('data/users.dat', delimiter='::', engine='python', names=['uid', 'gender', 'age', 'occupation', 'zip'])\n",
    "# movies_df = pd.read_csv('data/movies.dat', delimiter='::', engine='python', names=['movie_id', 'title', 'genre'], encoding='latin-1')\n",
    "# ratings_df = pd.read_csv('data/ratings.dat', delimiter='::', engine='python', names=['uid', 'movie_id', 'rating', 'ts'])\n",
    "\n",
    "data_dir = \"../data\"\n",
    "# 1) load & filter\n",
    "ratings, users, movies = load_movielens(data_dir)\n",
    "# Keep all ratings for training DCN v2 model.\n",
    "ratings, users, movies = clean_and_filter(ratings, users, movies, rating_threshold=0)"
   ]
  },
  {
   "cell_type": "code",
   "execution_count": 233,
   "metadata": {},
   "outputs": [
    {
     "data": {
      "text/html": [
       "<div>\n",
       "<style scoped>\n",
       "    .dataframe tbody tr th:only-of-type {\n",
       "        vertical-align: middle;\n",
       "    }\n",
       "\n",
       "    .dataframe tbody tr th {\n",
       "        vertical-align: top;\n",
       "    }\n",
       "\n",
       "    .dataframe thead th {\n",
       "        text-align: right;\n",
       "    }\n",
       "</style>\n",
       "<table border=\"1\" class=\"dataframe\">\n",
       "  <thead>\n",
       "    <tr style=\"text-align: right;\">\n",
       "      <th></th>\n",
       "      <th>UserID</th>\n",
       "      <th>Gender</th>\n",
       "      <th>Age</th>\n",
       "      <th>Occupation</th>\n",
       "      <th>Zip-code</th>\n",
       "      <th>AgeEncoded</th>\n",
       "      <th>GenderEncoded</th>\n",
       "      <th>Zip-codeEncoded</th>\n",
       "    </tr>\n",
       "  </thead>\n",
       "  <tbody>\n",
       "    <tr>\n",
       "      <th>0</th>\n",
       "      <td>0</td>\n",
       "      <td>F</td>\n",
       "      <td>1</td>\n",
       "      <td>10</td>\n",
       "      <td>48067</td>\n",
       "      <td>0</td>\n",
       "      <td>0</td>\n",
       "      <td>48067</td>\n",
       "    </tr>\n",
       "    <tr>\n",
       "      <th>1</th>\n",
       "      <td>1</td>\n",
       "      <td>M</td>\n",
       "      <td>56</td>\n",
       "      <td>16</td>\n",
       "      <td>70072</td>\n",
       "      <td>6</td>\n",
       "      <td>1</td>\n",
       "      <td>70072</td>\n",
       "    </tr>\n",
       "    <tr>\n",
       "      <th>2</th>\n",
       "      <td>2</td>\n",
       "      <td>M</td>\n",
       "      <td>25</td>\n",
       "      <td>15</td>\n",
       "      <td>55117</td>\n",
       "      <td>2</td>\n",
       "      <td>1</td>\n",
       "      <td>55117</td>\n",
       "    </tr>\n",
       "    <tr>\n",
       "      <th>3</th>\n",
       "      <td>3</td>\n",
       "      <td>M</td>\n",
       "      <td>45</td>\n",
       "      <td>7</td>\n",
       "      <td>02460</td>\n",
       "      <td>4</td>\n",
       "      <td>1</td>\n",
       "      <td>2460</td>\n",
       "    </tr>\n",
       "    <tr>\n",
       "      <th>4</th>\n",
       "      <td>4</td>\n",
       "      <td>M</td>\n",
       "      <td>25</td>\n",
       "      <td>20</td>\n",
       "      <td>55455</td>\n",
       "      <td>2</td>\n",
       "      <td>1</td>\n",
       "      <td>55455</td>\n",
       "    </tr>\n",
       "  </tbody>\n",
       "</table>\n",
       "</div>"
      ],
      "text/plain": [
       "   UserID Gender  Age  Occupation Zip-code  AgeEncoded  GenderEncoded  \\\n",
       "0       0      F    1          10    48067           0              0   \n",
       "1       1      M   56          16    70072           6              1   \n",
       "2       2      M   25          15    55117           2              1   \n",
       "3       3      M   45           7    02460           4              1   \n",
       "4       4      M   25          20    55455           2              1   \n",
       "\n",
       "   Zip-codeEncoded  \n",
       "0            48067  \n",
       "1            70072  \n",
       "2            55117  \n",
       "3             2460  \n",
       "4            55455  "
      ]
     },
     "execution_count": 233,
     "metadata": {},
     "output_type": "execute_result"
    }
   ],
   "source": [
    "# User preprocessing.\n",
    "\n",
    "age_mapping = {\n",
    "    1: 0,\n",
    "    18: 1,\n",
    "    25: 2,\n",
    "    35: 3,\n",
    "    45: 4,\n",
    "    50: 5,\n",
    "    56: 6\n",
    "}\n",
    "\n",
    "users['AgeEncoded'] = users['Age'].map(age_mapping)\n",
    "\n",
    "gender_mapping = {\n",
    "    'F' : 0,\n",
    "    'M' : 1,\n",
    "}\n",
    "\n",
    "users['GenderEncoded'] = users['Gender'].map(gender_mapping)\n",
    "\n",
    "users['Zip-codeEncoded'] = users['Zip-code'].str[:5].astype(int)\n",
    "\n",
    "users.head()\n",
    "\n",
    "# Final features: uid, age_encoded, gender_encoded, zip_encoded, occupation, "
   ]
  },
  {
   "cell_type": "code",
   "execution_count": 234,
   "metadata": {},
   "outputs": [
    {
     "data": {
      "text/html": [
       "<div>\n",
       "<style scoped>\n",
       "    .dataframe tbody tr th:only-of-type {\n",
       "        vertical-align: middle;\n",
       "    }\n",
       "\n",
       "    .dataframe tbody tr th {\n",
       "        vertical-align: top;\n",
       "    }\n",
       "\n",
       "    .dataframe thead th {\n",
       "        text-align: right;\n",
       "    }\n",
       "</style>\n",
       "<table border=\"1\" class=\"dataframe\">\n",
       "  <thead>\n",
       "    <tr style=\"text-align: right;\">\n",
       "      <th></th>\n",
       "      <th>MovieID</th>\n",
       "      <th>Title</th>\n",
       "      <th>Genres</th>\n",
       "      <th>GenresList</th>\n",
       "      <th>Action</th>\n",
       "      <th>Adventure</th>\n",
       "      <th>Animation</th>\n",
       "      <th>Children's</th>\n",
       "      <th>Comedy</th>\n",
       "      <th>Crime</th>\n",
       "      <th>...</th>\n",
       "      <th>Fantasy</th>\n",
       "      <th>Film-Noir</th>\n",
       "      <th>Horror</th>\n",
       "      <th>Musical</th>\n",
       "      <th>Mystery</th>\n",
       "      <th>Romance</th>\n",
       "      <th>Sci-Fi</th>\n",
       "      <th>Thriller</th>\n",
       "      <th>War</th>\n",
       "      <th>Western</th>\n",
       "    </tr>\n",
       "  </thead>\n",
       "  <tbody>\n",
       "    <tr>\n",
       "      <th>0</th>\n",
       "      <td>0</td>\n",
       "      <td>Toy Story (1995)</td>\n",
       "      <td>Animation|Children's|Comedy</td>\n",
       "      <td>[Animation, Children's, Comedy]</td>\n",
       "      <td>0</td>\n",
       "      <td>0</td>\n",
       "      <td>1</td>\n",
       "      <td>1</td>\n",
       "      <td>1</td>\n",
       "      <td>0</td>\n",
       "      <td>...</td>\n",
       "      <td>0</td>\n",
       "      <td>0</td>\n",
       "      <td>0</td>\n",
       "      <td>0</td>\n",
       "      <td>0</td>\n",
       "      <td>0</td>\n",
       "      <td>0</td>\n",
       "      <td>0</td>\n",
       "      <td>0</td>\n",
       "      <td>0</td>\n",
       "    </tr>\n",
       "    <tr>\n",
       "      <th>1</th>\n",
       "      <td>1</td>\n",
       "      <td>Jumanji (1995)</td>\n",
       "      <td>Adventure|Children's|Fantasy</td>\n",
       "      <td>[Adventure, Children's, Fantasy]</td>\n",
       "      <td>0</td>\n",
       "      <td>1</td>\n",
       "      <td>0</td>\n",
       "      <td>1</td>\n",
       "      <td>0</td>\n",
       "      <td>0</td>\n",
       "      <td>...</td>\n",
       "      <td>1</td>\n",
       "      <td>0</td>\n",
       "      <td>0</td>\n",
       "      <td>0</td>\n",
       "      <td>0</td>\n",
       "      <td>0</td>\n",
       "      <td>0</td>\n",
       "      <td>0</td>\n",
       "      <td>0</td>\n",
       "      <td>0</td>\n",
       "    </tr>\n",
       "    <tr>\n",
       "      <th>2</th>\n",
       "      <td>2</td>\n",
       "      <td>Grumpier Old Men (1995)</td>\n",
       "      <td>Comedy|Romance</td>\n",
       "      <td>[Comedy, Romance]</td>\n",
       "      <td>0</td>\n",
       "      <td>0</td>\n",
       "      <td>0</td>\n",
       "      <td>0</td>\n",
       "      <td>1</td>\n",
       "      <td>0</td>\n",
       "      <td>...</td>\n",
       "      <td>0</td>\n",
       "      <td>0</td>\n",
       "      <td>0</td>\n",
       "      <td>0</td>\n",
       "      <td>0</td>\n",
       "      <td>1</td>\n",
       "      <td>0</td>\n",
       "      <td>0</td>\n",
       "      <td>0</td>\n",
       "      <td>0</td>\n",
       "    </tr>\n",
       "    <tr>\n",
       "      <th>3</th>\n",
       "      <td>3</td>\n",
       "      <td>Waiting to Exhale (1995)</td>\n",
       "      <td>Comedy|Drama</td>\n",
       "      <td>[Comedy, Drama]</td>\n",
       "      <td>0</td>\n",
       "      <td>0</td>\n",
       "      <td>0</td>\n",
       "      <td>0</td>\n",
       "      <td>1</td>\n",
       "      <td>0</td>\n",
       "      <td>...</td>\n",
       "      <td>0</td>\n",
       "      <td>0</td>\n",
       "      <td>0</td>\n",
       "      <td>0</td>\n",
       "      <td>0</td>\n",
       "      <td>0</td>\n",
       "      <td>0</td>\n",
       "      <td>0</td>\n",
       "      <td>0</td>\n",
       "      <td>0</td>\n",
       "    </tr>\n",
       "    <tr>\n",
       "      <th>4</th>\n",
       "      <td>4</td>\n",
       "      <td>Father of the Bride Part II (1995)</td>\n",
       "      <td>Comedy</td>\n",
       "      <td>[Comedy]</td>\n",
       "      <td>0</td>\n",
       "      <td>0</td>\n",
       "      <td>0</td>\n",
       "      <td>0</td>\n",
       "      <td>1</td>\n",
       "      <td>0</td>\n",
       "      <td>...</td>\n",
       "      <td>0</td>\n",
       "      <td>0</td>\n",
       "      <td>0</td>\n",
       "      <td>0</td>\n",
       "      <td>0</td>\n",
       "      <td>0</td>\n",
       "      <td>0</td>\n",
       "      <td>0</td>\n",
       "      <td>0</td>\n",
       "      <td>0</td>\n",
       "    </tr>\n",
       "  </tbody>\n",
       "</table>\n",
       "<p>5 rows × 22 columns</p>\n",
       "</div>"
      ],
      "text/plain": [
       "   MovieID                               Title                        Genres  \\\n",
       "0        0                    Toy Story (1995)   Animation|Children's|Comedy   \n",
       "1        1                      Jumanji (1995)  Adventure|Children's|Fantasy   \n",
       "2        2             Grumpier Old Men (1995)                Comedy|Romance   \n",
       "3        3            Waiting to Exhale (1995)                  Comedy|Drama   \n",
       "4        4  Father of the Bride Part II (1995)                        Comedy   \n",
       "\n",
       "                         GenresList  Action  Adventure  Animation  Children's  \\\n",
       "0   [Animation, Children's, Comedy]       0          0          1           1   \n",
       "1  [Adventure, Children's, Fantasy]       0          1          0           1   \n",
       "2                 [Comedy, Romance]       0          0          0           0   \n",
       "3                   [Comedy, Drama]       0          0          0           0   \n",
       "4                          [Comedy]       0          0          0           0   \n",
       "\n",
       "   Comedy  Crime  ...  Fantasy  Film-Noir  Horror  Musical  Mystery  Romance  \\\n",
       "0       1      0  ...        0          0       0        0        0        0   \n",
       "1       0      0  ...        1          0       0        0        0        0   \n",
       "2       1      0  ...        0          0       0        0        0        1   \n",
       "3       1      0  ...        0          0       0        0        0        0   \n",
       "4       1      0  ...        0          0       0        0        0        0   \n",
       "\n",
       "   Sci-Fi  Thriller  War  Western  \n",
       "0       0         0    0        0  \n",
       "1       0         0    0        0  \n",
       "2       0         0    0        0  \n",
       "3       0         0    0        0  \n",
       "4       0         0    0        0  \n",
       "\n",
       "[5 rows x 22 columns]"
      ]
     },
     "execution_count": 234,
     "metadata": {},
     "output_type": "execute_result"
    }
   ],
   "source": [
    "# Movie pre processing\n",
    "\n",
    "movies['GenresList'] = movies['Genres'].str.split('|')\n",
    "movies_df_exploded = movies.explode('GenresList')\n",
    "one_hot = pd.get_dummies(movies_df_exploded['GenresList'], dtype=int)\n",
    "one_hot_exploded = one_hot.groupby(movies_df_exploded.index).max()\n",
    "movies = pd.concat([movies, one_hot_exploded], axis=1)\n",
    "\n",
    "movies.head()\n",
    "\n",
    "# movies.columns"
   ]
  },
  {
   "cell_type": "code",
   "execution_count": null,
   "metadata": {},
   "outputs": [
    {
     "name": "stdout",
     "output_type": "stream",
     "text": [
      "   uid  movie_id  rating         ts\n",
      "0    1      1193       5  978300760\n",
      "1    1       661       3  978302109\n",
      "2    1       914       3  978301968\n",
      "3    1      3408       4  978300275\n",
      "4    1      2355       5  978824291\n",
      "RatingEncoded\n",
      "1    575281\n",
      "0    163731\n",
      "Name: count, dtype: int64\n"
     ]
    }
   ],
   "source": [
    "# Rating preprocessing\n",
    "\n",
    "# drop rows with rating 3\n",
    "ratings = ratings[ratings['Rating'] != 3]\n",
    "\n",
    "ratings['RatingEncoded'] = ratings['Rating'].mask(ratings['Rating'] < 3, 0)\n",
    "ratings['RatingEncoded'] = ratings['RatingEncoded'].mask(ratings['Rating'] > 3, 1)\n",
    "\n",
    "\n",
    "\n",
    "print(ratings.head())\n",
    "print(ratings['RatingEncoded'].value_counts())\n",
    "\n"
   ]
  },
  {
   "cell_type": "code",
   "execution_count": 242,
   "metadata": {},
   "outputs": [
    {
     "name": "stdout",
     "output_type": "stream",
     "text": [
      "   UserID  MovieID  Rating    Timestamp            Datetime  RatingEncoded  \\\n",
      "0     0.0        0     5.0  978824268.0 2001-01-06 23:37:48            1.0   \n",
      "1     5.0        0     4.0  978237008.0 2000-12-31 04:30:08            1.0   \n",
      "2     7.0        0     4.0  978233496.0 2000-12-31 03:31:36            1.0   \n",
      "3     8.0        0     5.0  978225952.0 2000-12-31 01:25:52            1.0   \n",
      "4     9.0        0     5.0  978226474.0 2000-12-31 01:34:34            1.0   \n",
      "\n",
      "  Gender   Age  Occupation Zip-code  ...  Fantasy  Film-Noir  Horror Musical  \\\n",
      "0      F   1.0        10.0    48067  ...        0          0       0       0   \n",
      "1      F  50.0         9.0    55117  ...        0          0       0       0   \n",
      "2      M  25.0        12.0    11413  ...        0          0       0       0   \n",
      "3      M  25.0        17.0    61614  ...        0          0       0       0   \n",
      "4      F  35.0         1.0    95370  ...        0          0       0       0   \n",
      "\n",
      "  Mystery Romance  Sci-Fi  Thriller  War  Western  \n",
      "0       0       0       0         0    0        0  \n",
      "1       0       0       0         0    0        0  \n",
      "2       0       0       0         0    0        0  \n",
      "3       0       0       0         0    0        0  \n",
      "4       0       0       0         0    0        0  \n",
      "\n",
      "[5 rows x 34 columns]\n"
     ]
    }
   ],
   "source": [
    "# Merge and write datasets.\n",
    "\n",
    "user_ratings_df = pd.merge(ratings, users, on='UserID')\n",
    "\n",
    "# Merge right to keep all the movies. Some users may have NULL data. This is needed for evaluation.\n",
    "df = pd.merge(user_ratings_df, movies, on='MovieID', how='right')\n",
    "\n",
    "print(df.head())\n",
    "df.to_csv('../data/dataset_dcn_v2.csv')"
   ]
  },
  {
   "cell_type": "code",
   "execution_count": 249,
   "metadata": {},
   "outputs": [],
   "source": [
    "# Read data\n",
    "data = pd.read_csv('../data/dataset_dcn_v2.csv')\n",
    "\n",
    "\n",
    "user_columns = ['UserID', 'AgeEncoded', 'GenderEncoded', 'Zip-codeEncoded', 'Occupation']\n",
    "\n",
    "movies_columns = ['MovieID', 'Action', 'Adventure',\n",
    "       'Animation', 'Children\\'s', 'Comedy', 'Crime', 'Documentary', 'Drama',\n",
    "       'Fantasy', 'Film-Noir', 'Horror', 'Musical', 'Mystery', 'Romance',\n",
    "       'Sci-Fi', 'Thriller', 'War', 'Western']\n",
    "\n",
    "ratings_columns = ['RatingEncoded']\n",
    "\n",
    "# Training data\n",
    "training_columns = user_columns+movies_columns+ratings_columns\n",
    "training_df = data[training_columns]\n",
    "training_df = training_df.dropna()\n",
    "training_df = training_df.astype('int64')\n",
    "\n",
    "# Evaluation data.\n",
    "evaluation_columns = user_columns+movies_columns\n",
    "evaluation_df = data[evaluation_columns]\n"
   ]
  },
  {
   "cell_type": "code",
   "execution_count": 250,
   "metadata": {},
   "outputs": [],
   "source": [
    "training_df.dtypes\n",
    "\n",
    "training_df = training_df.sample(100000)\n"
   ]
  },
  {
   "cell_type": "code",
   "execution_count": 253,
   "metadata": {},
   "outputs": [
    {
     "name": "stdout",
     "output_type": "stream",
     "text": [
      "<config.Config object at 0x2b007f850>\n"
     ]
    },
    {
     "name": "stderr",
     "output_type": "stream",
     "text": [
      "100%|██████████| 196/196 [01:01<00:00,  3.20it/s]\n"
     ]
    },
    {
     "name": "stdout",
     "output_type": "stream",
     "text": [
      "[Epoch 1] Train Loss: 8.2659\n"
     ]
    },
    {
     "name": "stderr",
     "output_type": "stream",
     "text": [
      "100%|██████████| 196/196 [00:08<00:00, 24.16it/s]\n"
     ]
    },
    {
     "name": "stdout",
     "output_type": "stream",
     "text": [
      "{'loss': 0.002346870636343956, 'auc': 0.5491875410079956, 'accuracy': 0.7734599709510803, 'precision': 0.7772437334060669, 'recall': 0.9923419952392578}\n"
     ]
    },
    {
     "name": "stderr",
     "output_type": "stream",
     "text": [
      "100%|██████████| 196/196 [01:05<00:00,  2.98it/s]\n"
     ]
    },
    {
     "name": "stdout",
     "output_type": "stream",
     "text": [
      "[Epoch 2] Train Loss: 0.7639\n"
     ]
    },
    {
     "name": "stderr",
     "output_type": "stream",
     "text": [
      "100%|██████████| 196/196 [00:15<00:00, 12.85it/s]\n"
     ]
    },
    {
     "name": "stdout",
     "output_type": "stream",
     "text": [
      "{'loss': 0.0012273213922977448, 'auc': 0.5555386543273926, 'accuracy': 0.7434200048446655, 'precision': 0.7797008156776428, 'recall': 0.9327540397644043}\n"
     ]
    },
    {
     "name": "stderr",
     "output_type": "stream",
     "text": [
      "100%|██████████| 196/196 [00:39<00:00,  4.93it/s]\n"
     ]
    },
    {
     "name": "stdout",
     "output_type": "stream",
     "text": [
      "[Epoch 3] Train Loss: 0.5914\n"
     ]
    },
    {
     "name": "stderr",
     "output_type": "stream",
     "text": [
      "100%|██████████| 196/196 [00:06<00:00, 28.72it/s]\n"
     ]
    },
    {
     "name": "stdout",
     "output_type": "stream",
     "text": [
      "{'loss': 0.0010763820526003838, 'auc': 0.597252607345581, 'accuracy': 0.7773000001907349, 'precision': 0.7779251933097839, 'recall': 0.9977051615715027}\n"
     ]
    },
    {
     "name": "stderr",
     "output_type": "stream",
     "text": [
      "100%|██████████| 196/196 [00:41<00:00,  4.76it/s]\n"
     ]
    },
    {
     "name": "stdout",
     "output_type": "stream",
     "text": [
      "[Epoch 4] Train Loss: 0.5522\n"
     ]
    },
    {
     "name": "stderr",
     "output_type": "stream",
     "text": [
      "100%|██████████| 196/196 [00:06<00:00, 28.97it/s]\n"
     ]
    },
    {
     "name": "stdout",
     "output_type": "stream",
     "text": [
      "{'loss': 0.001082548856139183, 'auc': 0.6060603260993958, 'accuracy': 0.7777000069618225, 'precision': 0.777518093585968, 'recall': 0.9993682503700256}\n"
     ]
    },
    {
     "name": "stderr",
     "output_type": "stream",
     "text": [
      "100%|██████████| 196/196 [00:39<00:00,  4.96it/s]\n"
     ]
    },
    {
     "name": "stdout",
     "output_type": "stream",
     "text": [
      "[Epoch 5] Train Loss: 0.5337\n"
     ]
    },
    {
     "name": "stderr",
     "output_type": "stream",
     "text": [
      "100%|██████████| 196/196 [00:06<00:00, 29.52it/s]"
     ]
    },
    {
     "name": "stdout",
     "output_type": "stream",
     "text": [
      "{'loss': 0.0010224693968892097, 'auc': 0.6461194753646851, 'accuracy': 0.7777400016784668, 'precision': 0.7819039225578308, 'recall': 0.9894412755966187}\n"
     ]
    },
    {
     "name": "stderr",
     "output_type": "stream",
     "text": [
      "\n"
     ]
    }
   ],
   "source": [
    "\n",
    "from models.sequential_dcn_v2 import DCNV2_Sequential\n",
    "from models.vanilla_nn import TwoLayerNet\n",
    "from trainer import Trainer\n",
    "from data_utils.datasets import CustomDataset\n",
    "import torch\n",
    "from torch.utils.data import DataLoader, TensorDataset\n",
    "import argparse\n",
    "import yaml\n",
    "from config import Config\n",
    "import pandas as pd\n",
    "\n",
    "config_file = \"../configs/config_dcn_v2_sequential.yaml\"\n",
    "\n",
    "with open(config_file, 'r') as file:\n",
    "    config_dict = yaml.safe_load(file)\n",
    "    config = Config(config_dict=config_dict)\n",
    "print(config)\n",
    "target_column = 'RatingEncoded'\n",
    "df = training_df\n",
    "\n",
    "# Generate sparse input.\n",
    "sparse_feature_info = {\n",
    "    # name: (vocab_size, embed_size)\n",
    "    \"UserID\": (6500, 64),       # uid 1 6040 users, 64-dim embedding\n",
    "    \"MovieID\": (4000, 64),        # movie_id 1 3952 items, 64-dim embedding\n",
    "    \"Occupation\": (21, 8),        # occupation 0 20 items, 64-dim embedding\n",
    "    \"AgeEncoded\": (8, 4),        # age_encoded 1 7 age, 64-dim embedding\n",
    "    \"Zip-codeEncoded\": (100000, 128),        # zip_encoded 231 99945 zip, 64-dim embedding\n",
    "}\n",
    "sparse_columns = sparse_feature_info.keys()\n",
    "X_sparse_input = {\n",
    "    name: torch.tensor(df[name].values)\n",
    "    for name, (vocab_size, embed_size) in sparse_feature_info.items()\n",
    "}\n",
    "\n",
    "# Generate dense input.\n",
    "dense_columns = list(set(df.columns) - set(sparse_columns) - {target_column})\n",
    "num_dense_features = len(dense_columns)\n",
    "X_dense_input = torch.tensor(df[dense_columns].values)\n",
    "y = torch.tensor(df[target_column].values, dtype=torch.float32)\n",
    "\n",
    "dataset = CustomDataset(X_sparse_input, X_dense_input, y)\n",
    "loader = DataLoader(dataset, batch_size=config.train.batch_size, shuffle=True)\n",
    "\n",
    "\n",
    "model = DCNV2_Sequential(sparse_feature_info=sparse_feature_info, num_dense_features=num_dense_features,\n",
    "                         cross_layers=config.network.num_cross_layers, deep_hidden_dims=config.network.hidden_dims)\n",
    "\n",
    "trainer = Trainer(model, None, config, loader, float(config.train.lr))\n",
    "\n",
    "trainer.fit()\n"
   ]
  },
  {
   "cell_type": "code",
   "execution_count": null,
   "metadata": {},
   "outputs": [
    {
     "name": "stdout",
     "output_type": "stream",
     "text": [
      "Name: UserID 0 6039\n",
      "Name: MovieID 0 3882\n",
      "Name: Occupation 0 20\n",
      "Name: AgeEncoded 0 6\n",
      "Name: Zip-codeEncoded 231 99945\n"
     ]
    }
   ],
   "source": [
    "# for sparse encoding\n",
    "\n",
    "for name, (vocab_size, embed_size) in sparse_feature_info.items():\n",
    "    print(\"Name:\", name, training_df[name].min(), training_df[name].max())\n",
    "\n",
    "# Old\n",
    "# Name: uid 1 6040\n",
    "# Name: movie_id 1 3952\n",
    "# Name: occupation 0 20\n",
    "# Name: age_encoded 1 7\n",
    "# Name: zip_encoded 231 99945\n",
    "# Name: UserID 0 6039\n",
    "# Name: MovieID 0 3882\n",
    "# Name: Occupation 0 20\n",
    "# Name: AgeEncoded 0 6\n",
    "# Name: Zip-codeEncoded 231 99945\n"
   ]
  },
  {
   "cell_type": "code",
   "execution_count": null,
   "metadata": {},
   "outputs": [
    {
     "name": "stdout",
     "output_type": "stream",
     "text": [
      "Running on cpu\n",
      "X_sparse_input {'UserID': tensor([0, 0, 0, 0, 0, 0, 0, 0, 0, 0, 0, 0, 0, 0, 0, 0, 0, 0, 0, 0, 0, 0, 0, 0,\n",
      "        0, 0, 0, 0, 0, 0, 0, 0, 0, 0, 0, 0, 0, 0, 0, 0, 0, 0, 0, 0, 0, 0, 0, 0,\n",
      "        0, 0, 0, 0, 0, 0, 0, 0, 0, 0, 0, 0, 0, 0, 0, 0, 0, 0, 0, 0, 0, 0, 0, 0,\n",
      "        0, 0, 0, 0, 0, 0, 0, 0, 0, 0, 0, 0, 0, 0, 0, 0, 0, 0, 0, 0, 0, 0, 0, 0,\n",
      "        0, 0, 0, 0]), 'MovieID': tensor([3346,   15,   33,   40,  149,  165,  173,  182,  210,  311,  381,  424,\n",
      "         427,  441,  461,  475,  526,  540,  555,  615,  619,  642,  645,  670,\n",
      "         842,  869,  871, 1037, 1043, 1088, 1097, 1099, 1131, 1149, 1170, 1245,\n",
      "        1283, 1387, 1425, 1469, 1486, 1515, 1534, 1687, 1757, 1775, 1784, 1833,\n",
      "        2029, 2098, 2194, 2225, 2263, 2289, 2293, 2296, 2301, 2323, 2327, 2416,\n",
      "        2508, 2536, 2573, 2629, 2630, 2641, 2711, 2753, 2767, 2771, 2829, 2852,\n",
      "        2867, 2927, 2976, 3075, 3079, 3108, 3198, 3235, 3300, 3387, 3438, 3459,\n",
      "        3506, 3534, 3566, 3623, 3637, 3658, 3662, 3685, 3722, 3723, 3743, 3749,\n",
      "        3760, 3832, 3857, 3862]), 'Occupation': tensor([10, 10, 10, 10, 10, 10, 10, 10, 10, 10, 10, 10, 10, 10, 10, 10, 10, 10,\n",
      "        10, 10, 10, 10, 10, 10, 10, 10, 10, 10, 10, 10, 10, 10, 10, 10, 10, 10,\n",
      "        10, 10, 10, 10, 10, 10, 10, 10, 10, 10, 10, 10, 10, 10, 10, 10, 10, 10,\n",
      "        10, 10, 10, 10, 10, 10, 10, 10, 10, 10, 10, 10, 10, 10, 10, 10, 10, 10,\n",
      "        10, 10, 10, 10, 10, 10, 10, 10, 10, 10, 10, 10, 10, 10, 10, 10, 10, 10,\n",
      "        10, 10, 10, 10, 10, 10, 10, 10, 10, 10]), 'AgeEncoded': tensor([0, 0, 0, 0, 0, 0, 0, 0, 0, 0, 0, 0, 0, 0, 0, 0, 0, 0, 0, 0, 0, 0, 0, 0,\n",
      "        0, 0, 0, 0, 0, 0, 0, 0, 0, 0, 0, 0, 0, 0, 0, 0, 0, 0, 0, 0, 0, 0, 0, 0,\n",
      "        0, 0, 0, 0, 0, 0, 0, 0, 0, 0, 0, 0, 0, 0, 0, 0, 0, 0, 0, 0, 0, 0, 0, 0,\n",
      "        0, 0, 0, 0, 0, 0, 0, 0, 0, 0, 0, 0, 0, 0, 0, 0, 0, 0, 0, 0, 0, 0, 0, 0,\n",
      "        0, 0, 0, 0]), 'Zip-codeEncoded': tensor([48067, 48067, 48067, 48067, 48067, 48067, 48067, 48067, 48067, 48067,\n",
      "        48067, 48067, 48067, 48067, 48067, 48067, 48067, 48067, 48067, 48067,\n",
      "        48067, 48067, 48067, 48067, 48067, 48067, 48067, 48067, 48067, 48067,\n",
      "        48067, 48067, 48067, 48067, 48067, 48067, 48067, 48067, 48067, 48067,\n",
      "        48067, 48067, 48067, 48067, 48067, 48067, 48067, 48067, 48067, 48067,\n",
      "        48067, 48067, 48067, 48067, 48067, 48067, 48067, 48067, 48067, 48067,\n",
      "        48067, 48067, 48067, 48067, 48067, 48067, 48067, 48067, 48067, 48067,\n",
      "        48067, 48067, 48067, 48067, 48067, 48067, 48067, 48067, 48067, 48067,\n",
      "        48067, 48067, 48067, 48067, 48067, 48067, 48067, 48067, 48067, 48067,\n",
      "        48067, 48067, 48067, 48067, 48067, 48067, 48067, 48067, 48067, 48067])}\n",
      "X_dense_input tensor([[0, 0, 0,  ..., 0, 0, 0],\n",
      "        [0, 0, 0,  ..., 0, 0, 0],\n",
      "        [0, 0, 0,  ..., 0, 0, 0],\n",
      "        ...,\n",
      "        [0, 0, 0,  ..., 0, 0, 0],\n",
      "        [0, 0, 1,  ..., 0, 1, 0],\n",
      "        [0, 0, 0,  ..., 0, 1, 1]])\n",
      "scores [0.73742515 0.71522576 0.7150001  0.8985367  0.9985311  0.7836037\n",
      " 0.71555823 0.7223208  0.72230965 0.8234322  0.75936    0.71324843\n",
      " 0.7190947  0.71239626 0.76611376 0.71956617 0.71659774 0.99998\n",
      " 0.76439214 0.72382617 0.6254345  0.81006634 0.8337923  0.7308735\n",
      " 0.6854693  0.7108283  0.7271807  0.71836436 0.7136938  0.71659905\n",
      " 0.8537696  0.83360076 0.6832594  0.9558724  0.7195456  0.7161891\n",
      " 0.82492954 0.78192514 0.8160981  0.7195129  0.7285916  0.7117777\n",
      " 0.7089624  0.7396425  0.66379285 0.7181416  0.6702173  0.7507858\n",
      " 0.73510337 0.71798724 0.7153514  0.7162323  0.71709216 0.8095663\n",
      " 0.7386679  0.74882615 0.751565   0.5023909  0.88660794 0.85945\n",
      " 0.65434575 0.7152093  0.7212292  0.6664201  0.7175539  0.7585705\n",
      " 0.9267666  0.9856228  0.71517885 0.71285486 0.7567509  0.7168008\n",
      " 0.7098164  0.71616566 0.7137581  0.70451736 0.7246174  0.7988428\n",
      " 0.7107585  0.71744525 0.7164323  0.72012806 0.71650726 0.71190155\n",
      " 0.7547029  0.7304393  0.7156523  0.6693488  0.7686364  0.69878715\n",
      " 0.73951584 0.7128191  0.714872   0.9344367  0.7156878  0.833088\n",
      " 0.73731023 0.6946233  0.7576084  0.825651  ]\n"
     ]
    },
    {
     "data": {
      "text/plain": [
       "{'Hit@10': 0.11565865782932891,\n",
       " 'NDCG@10': 0.054842668114711314,\n",
       " 'MRR': 0.05986575571497283,\n",
       " 'MAP': 0.05986575571497283}"
      ]
     },
     "execution_count": 260,
     "metadata": {},
     "output_type": "execute_result"
    }
   ],
   "source": [
    "# Evaluate Model\n",
    "\n",
    "from data_utils.preprocess import get_user_sequences, split_sequences\n",
    "from evaluation import evaluate_DCNV2Model\n",
    "\n",
    "device = torch.device(\"mps\") if torch.backends.mps.is_available() else torch.device(\"cpu\")\n",
    "print(\"Running on\", device)\n",
    "\n",
    "# Keep rating > 4 to get positive ratings for evaluation data generation.\n",
    "ratings = ratings[ratings[\"Rating\"] >= 4].reset_index(\n",
    "        drop=True\n",
    "    )\n",
    "\n",
    "# build per-user sequences & splits\n",
    "user_seqs   = get_user_sequences(ratings)\n",
    "user_splits = split_sequences(user_seqs, train_ratio=0.8, val_ratio=0.1)\n",
    "\n",
    "\n",
    "\n",
    "# 3) global item set\n",
    "all_movies = set(movies[\"MovieID\"].unique())\n",
    "evaluate_DCNV2Model(model=model, user_splits=user_splits, global_items=all_movies, device=device, data=evaluation_df\n",
    "                    ,user_columns=user_columns, movies_columns=movies_columns, target_column=target_column,\n",
    "                    sparse_feature_info=sparse_feature_info) \n"
   ]
  }
 ],
 "metadata": {
  "kernelspec": {
   "display_name": "final_project",
   "language": "python",
   "name": "python3"
  },
  "language_info": {
   "codemirror_mode": {
    "name": "ipython",
    "version": 3
   },
   "file_extension": ".py",
   "mimetype": "text/x-python",
   "name": "python",
   "nbconvert_exporter": "python",
   "pygments_lexer": "ipython3",
   "version": "3.10.16"
  }
 },
 "nbformat": 4,
 "nbformat_minor": 2
}
