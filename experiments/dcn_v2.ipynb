{
 "cells": [
  {
   "cell_type": "code",
   "execution_count": null,
   "metadata": {},
   "outputs": [
    {
     "name": "stdout",
     "output_type": "stream",
     "text": [
      "The autoreload extension is already loaded. To reload it, use:\n",
      "  %reload_ext autoreload\n",
      "/Users/harshadakumbhare/Documents/GitHub/akshaydaf/recommender-system\n"
     ]
    }
   ],
   "source": [
    "# To run locally on Mac.\n",
    "\n",
    "%load_ext autoreload\n",
    "%autoreload 2\n",
    "\n",
    "import os, sys\n",
    "# compute the absolute path to your project root:\n",
    "root = os.path.abspath(os.path.join(os.getcwd(), '..'))\n",
    "print(root)\n",
    "# insert it at the front of Python’s module search path:\n",
    "sys.path.insert(0, root)\n",
    "data_dir = \"../data\"\n",
    "config_file = \"../configs/config_dcn_v2_sequential.yaml\"\n",
    "device_string = \"cpu\""
   ]
  },
  {
   "cell_type": "code",
   "execution_count": null,
   "metadata": {},
   "outputs": [],
   "source": [
    "# # To run in colab\n",
    "# from google.colab import drive\n",
    "# drive.mount('/content/drive/')\n",
    "\n",
    "# %cd '/content/drive/MyDrive/gatech_coursework/deep_learning_final_project/GitHub_akshaydaf/recommender-system'\n",
    "# data_dir = \"./data\"\n",
    "# config_file = \"./configs/config_dcn_v2_sequential.yaml\"\n",
    "# !pip install deepctr_torch\n",
    "# !pip install torchmetrics\n",
    "# device_string = \"cuda\""
   ]
  },
  {
   "cell_type": "code",
   "execution_count": 83,
   "metadata": {},
   "outputs": [],
   "source": [
    "# Load, clean and create train, val, test data\n",
    "import pandas as pd\n",
    "from data_utils.preprocess import (\n",
    "    load_movielens, clean_and_filter,\n",
    "    get_user_sequences, split_sequences,\n",
    "    build_examples\n",
    ")\n",
    "\n",
    "def users_preprocessing(users):\n",
    "    age_mapping = {\n",
    "        1: 0,\n",
    "        18: 1,\n",
    "        25: 2,\n",
    "        35: 3,\n",
    "        45: 4,\n",
    "        50: 5,\n",
    "        56: 6\n",
    "    }\n",
    "    users['AgeEncoded'] = users['Age'].map(age_mapping)\n",
    "\n",
    "    gender_mapping = {\n",
    "        'F' : 0,\n",
    "        'M' : 1,\n",
    "    }\n",
    "    users['GenderEncoded'] = users['Gender'].map(gender_mapping)\n",
    "\n",
    "    users['Zip-codeEncoded'] = users['Zip-code'].str[:5].astype(int)\n",
    "    users['Zip-codeEncoded'], unique_train_zips = pd.factorize(users['Zip-codeEncoded'])\n",
    "\n",
    "    user_columns = ['UserID', 'AgeEncoded', 'GenderEncoded', 'Zip-codeEncoded', 'Occupation']\n",
    "    return users[user_columns]\n",
    "\n",
    "\n",
    "def movies_preprocessing(movies):\n",
    "    movies['GenresList'] = movies['Genres'].str.split('|')\n",
    "    movies_df_exploded = movies.explode('GenresList')\n",
    "    one_hot = pd.get_dummies(movies_df_exploded['GenresList'], dtype=int)\n",
    "    one_hot_exploded = one_hot.groupby(movies_df_exploded.index).max()\n",
    "    movies = pd.concat([movies, one_hot_exploded], axis=1)\n",
    "\n",
    "    # Preprocess years\n",
    "    movies[[\"Title\", \"Year\"]] = movies[\"Title\"].str.extract(r'^(.*) \\((\\d{4})\\)$')\n",
    "    movies[\"Year\"] = pd.to_numeric(movies[\"Year\"], errors=\"coerce\")\n",
    "\n",
    "    median_year = int(movies[\"Year\"].median(skipna=True))\n",
    "    movies[\"Year\"] = movies[\"Year\"].fillna(median_year).astype(int)\n",
    "    movies['Year'], unique_train_years = pd.factorize(movies['Year'])\n",
    "\n",
    "    movies_columns = ['MovieID', 'Action', 'Adventure',\n",
    "       'Animation', 'Children\\'s', 'Comedy', 'Crime', 'Documentary', 'Drama',\n",
    "       'Fantasy', 'Film-Noir', 'Horror', 'Musical', 'Mystery', 'Romance',\n",
    "       'Sci-Fi', 'Thriller', 'War', 'Western', 'Year']\n",
    "    return movies[movies_columns]\n",
    "\n",
    "# 1) load & filter\n",
    "ratings, users, movies = load_movielens(data_dir)\n",
    "# Keep all ratings for training DCN v2 model.\n",
    "ratings, users, movies = clean_and_filter(ratings, users, movies, rating_threshold=4)\n",
    "\n",
    "user_seqs   = get_user_sequences(ratings)\n",
    "user_splits = split_sequences(user_seqs, train_ratio=0.8, val_ratio=0.1)\n",
    "\n",
    "# 3) global item set\n",
    "all_movies = set(movies[\"MovieID\"].unique())\n",
    "\n",
    "# 4) build examples for train/val\n",
    "train_exs = build_examples(user_splits, all_movies, K=5, split=\"train\")\n",
    "val_exs   = build_examples(user_splits, all_movies, K=5, split=\"val\")\n",
    "test_exs  = build_examples(user_splits, all_movies, K=5, split=\"test\")\n",
    "\n",
    "users = users_preprocessing(users)\n",
    "movies = movies_preprocessing(movies)"
   ]
  },
  {
   "cell_type": "code",
   "execution_count": 84,
   "metadata": {},
   "outputs": [],
   "source": [
    "# 5) build examples for train/val for DCN V2\n",
    "# \n",
    "def build_dcnv2_input(examples, users, movies):\n",
    "    df = pd.DataFrame()\n",
    "    for row in examples:\n",
    "        UserID = row['UserID']\n",
    "        positive = row['positive']\n",
    "        negative = row['negatives'][0]\n",
    "        combined = pd.concat([users[users['UserID']==UserID].reset_index(drop=True), movies[movies['MovieID']==positive].reset_index(drop=True)], axis=1)\n",
    "        combined['rating'] = 1\n",
    "        df = pd.concat([df, combined],ignore_index=True)\n",
    "        combined = pd.concat([users[users['UserID']==UserID].reset_index(drop=True), movies[movies['MovieID']==negative].reset_index(drop=True)], axis=1)\n",
    "        combined['rating'] = 0\n",
    "        df = pd.concat([df, combined],ignore_index=True)\n",
    "    return examples\n",
    "\n",
    "def build_dcnv2_input(examples, users, movies):\n",
    "    user_ids = []\n",
    "    movie_ids = []\n",
    "    ratings = []\n",
    "\n",
    "    for row in examples:\n",
    "        uid = row['UserID']\n",
    "        pos = row['positive']\n",
    "        neg = row['negatives'][0]\n",
    "\n",
    "        # Collect positive sample\n",
    "        user_ids.append(uid)\n",
    "        movie_ids.append(pos)\n",
    "        ratings.append(1)\n",
    "\n",
    "        # Collect negative sample\n",
    "        user_ids.append(uid)\n",
    "        movie_ids.append(neg)\n",
    "        ratings.append(0)\n",
    "\n",
    "    # Create DataFrame all at once\n",
    "    df = pd.DataFrame({\n",
    "        'UserID': user_ids,\n",
    "        'MovieID': movie_ids,\n",
    "        'Rating': ratings\n",
    "    })\n",
    "\n",
    "    # Merge user and movie features\n",
    "    df = df.merge(users, on='UserID', how='left')\n",
    "    df = df.merge(movies, on='MovieID', how='left')\n",
    "    return df\n",
    "\n",
    "\n",
    "train_df = build_dcnv2_input(train_exs, users, movies)\n",
    "val_df   = build_dcnv2_input(val_exs, users, movies)\n",
    "test_df   = build_dcnv2_input(test_exs, users, movies)\n"
   ]
  },
  {
   "cell_type": "code",
   "execution_count": null,
   "metadata": {},
   "outputs": [
    {
     "name": "stdout",
     "output_type": "stream",
     "text": [
      "Running on cpu\n"
     ]
    }
   ],
   "source": [
    "# Read config from file or here.\n",
    "from argparse import Namespace\n",
    "import torch\n",
    "from config import Config\n",
    "import yaml\n",
    "\n",
    "read_config_locally = False\n",
    "\n",
    "device = torch.device(device_string)\n",
    "print(\"Running on\", device)\n",
    "\n",
    "def dict_to_namespace(d):\n",
    "    return Namespace(**{k: dict_to_namespace(v) if isinstance(v, dict) else v for k, v in d.items()})\n",
    "\n",
    "if read_config_locally:\n",
    "    config = {\n",
    "        'train': {\n",
    "            'batch_size': 512,\n",
    "            'lr': 0.001,\n",
    "            'num_epochs': 5,\n",
    "            'device': device_string\n",
    "        },\n",
    "        'network': {\n",
    "            'model': 'dcn_v2_sequential',\n",
    "            'num_cross_layers': 3,\n",
    "            # 'hidden_dims': [128, 64, 32],\n",
    "            'hidden_dims': [64, 32],\n",
    "            'dropout': 0.2\n",
    "        }\n",
    "    }\n",
    "    config = dict_to_namespace(config)\n",
    "else:\n",
    "    with open(config_file, 'r') as file:\n",
    "        config_dict = yaml.safe_load(file)\n",
    "        config = Config(config_dict=config_dict)\n"
   ]
  },
  {
   "cell_type": "code",
   "execution_count": null,
   "metadata": {},
   "outputs": [
    {
     "name": "stdout",
     "output_type": "stream",
     "text": [
      "Trainer init device: cpu\n"
     ]
    },
    {
     "name": "stderr",
     "output_type": "stream",
     "text": [
      "100%|██████████| 1742/1742 [03:34<00:00,  8.14it/s]\n"
     ]
    },
    {
     "name": "stdout",
     "output_type": "stream",
     "text": [
      "[Epoch 1] Train Loss: 0.0009\n"
     ]
    },
    {
     "name": "stderr",
     "output_type": "stream",
     "text": [
      "100%|██████████| 201/201 [00:10<00:00, 19.47it/s]\n"
     ]
    },
    {
     "name": "stdout",
     "output_type": "stream",
     "text": [
      "{'loss': 0.0009894799184368176, 'auc': 0.8346841931343079, 'accuracy': 0.7586486339569092, 'precision': 0.7529643177986145, 'recall': 0.7698840498924255}\n"
     ]
    },
    {
     "name": "stderr",
     "output_type": "stream",
     "text": [
      "100%|██████████| 1742/1742 [04:26<00:00,  6.53it/s]\n"
     ]
    },
    {
     "name": "stdout",
     "output_type": "stream",
     "text": [
      "[Epoch 2] Train Loss: 0.0008\n"
     ]
    },
    {
     "name": "stderr",
     "output_type": "stream",
     "text": [
      "100%|██████████| 201/201 [00:10<00:00, 18.60it/s]\n"
     ]
    },
    {
     "name": "stdout",
     "output_type": "stream",
     "text": [
      "{'loss': 0.0009872573297490445, 'auc': 0.8370305299758911, 'accuracy': 0.760903537273407, 'precision': 0.7542811632156372, 'recall': 0.773925244808197}\n"
     ]
    },
    {
     "name": "stderr",
     "output_type": "stream",
     "text": [
      "100%|██████████| 1742/1742 [06:07<00:00,  4.74it/s]\n"
     ]
    },
    {
     "name": "stdout",
     "output_type": "stream",
     "text": [
      "[Epoch 3] Train Loss: 0.0007\n"
     ]
    },
    {
     "name": "stderr",
     "output_type": "stream",
     "text": [
      "100%|██████████| 201/201 [00:19<00:00, 10.31it/s]\n"
     ]
    },
    {
     "name": "stdout",
     "output_type": "stream",
     "text": [
      "{'loss': 0.001037804038583462, 'auc': 0.8361678719520569, 'accuracy': 0.7590000629425049, 'precision': 0.7575769424438477, 'recall': 0.7617624998092651}\n"
     ]
    },
    {
     "name": "stderr",
     "output_type": "stream",
     "text": [
      "100%|██████████| 1742/1742 [07:09<00:00,  4.05it/s]\n"
     ]
    },
    {
     "name": "stdout",
     "output_type": "stream",
     "text": [
      "[Epoch 4] Train Loss: 0.0006\n"
     ]
    },
    {
     "name": "stderr",
     "output_type": "stream",
     "text": [
      "100%|██████████| 201/201 [00:20<00:00,  9.67it/s]\n"
     ]
    },
    {
     "name": "stdout",
     "output_type": "stream",
     "text": [
      "{'loss': 0.0010822871940296354, 'auc': 0.8331815004348755, 'accuracy': 0.755476176738739, 'precision': 0.7544132471084595, 'recall': 0.7575650811195374}\n"
     ]
    },
    {
     "name": "stderr",
     "output_type": "stream",
     "text": [
      "100%|██████████| 1742/1742 [06:08<00:00,  4.73it/s]\n"
     ]
    },
    {
     "name": "stdout",
     "output_type": "stream",
     "text": [
      "[Epoch 5] Train Loss: 0.0006\n"
     ]
    },
    {
     "name": "stderr",
     "output_type": "stream",
     "text": [
      "100%|██████████| 201/201 [00:07<00:00, 27.80it/s]\n"
     ]
    },
    {
     "name": "stdout",
     "output_type": "stream",
     "text": [
      "{'loss': 0.0012180574398593554, 'auc': 0.8297886252403259, 'accuracy': 0.751083493232727, 'precision': 0.7557061910629272, 'recall': 0.7420444488525391}\n"
     ]
    },
    {
     "data": {
      "image/png": "[encoded data removed]",
      "text/plain": [
       "<Figure size 640x480 with 1 Axes>"
      ]
     },
     "metadata": {},
     "output_type": "display_data"
    }
   ],
   "source": [
    "\n",
    "from models.sequential_dcn_v2 import DCNV2_Sequential\n",
    "from models.vanilla_nn import TwoLayerNet\n",
    "from trainer import Trainer\n",
    "from data_utils.datasets import DCNV2Dataset\n",
    "from torch.utils.data import DataLoader, TensorDataset\n",
    "import argparse\n",
    "import pandas as pd\n",
    "\n",
    "target_column = 'Rating'\n",
    "train_df = train_df.astype(int)\n",
    "val_df = val_df.astype(int)\n",
    "\n",
    "def create_x_sparse_input(df, sparse_feature_info):\n",
    "    X_sparse_input = {\n",
    "        name: torch.tensor(df[name].values, device=device)\n",
    "        for name, (vocab_size, embed_size) in sparse_feature_info.items()\n",
    "    }\n",
    "    return X_sparse_input\n",
    "\n",
    "# Generate sparse input.\n",
    "sparse_feature_info = {\n",
    "    # name: (vocab_size, embed_size)\n",
    "    \"UserID\": (6500, 64),       # uid 1 6040 users, 64-dim embedding\n",
    "    \"MovieID\": (4000, 64),        # movie_id 1 3952 items, 64-dim embedding\n",
    "    \"Occupation\": (21, 8),        # occupation 0 20 items, 64-dim embedding\n",
    "    \"AgeEncoded\": (8, 4),        # age_encoded 1 7 age, 64-dim embedding\n",
    "    \"Zip-codeEncoded\": (3500, 64),       \n",
    "    \"Year\": (81, 8),       \n",
    "}\n",
    "\n",
    "# Generate dense input.\n",
    "dense_columns = list(set(train_df.columns) - set(sparse_feature_info.keys()) - {target_column})\n",
    "num_dense_features = len(dense_columns)\n",
    "\n",
    "train_X_dense_input = torch.tensor(train_df[dense_columns].values, device=device)\n",
    "train_y = torch.tensor(train_df[target_column].values, dtype=torch.float32, device=device)\n",
    "train_dataset = DCNV2Dataset(create_x_sparse_input(train_df, sparse_feature_info), train_X_dense_input, train_y)\n",
    "train_loader = DataLoader(train_dataset, batch_size=config.train.batch_size, shuffle=True)\n",
    "\n",
    "val_X_dense_input = torch.tensor(val_df[dense_columns].values, device=device)\n",
    "val_y = torch.tensor(val_df[target_column].values, dtype=torch.float32, device=device)\n",
    "val_dataset = DCNV2Dataset(create_x_sparse_input(val_df, sparse_feature_info), val_X_dense_input, val_y)\n",
    "val_loader = DataLoader(val_dataset, batch_size=config.train.batch_size, shuffle=True)\n",
    "\n",
    "\n",
    "model = DCNV2_Sequential(sparse_feature_info=sparse_feature_info, num_dense_features=num_dense_features,\n",
    "                         cross_layers=config.network.num_cross_layers, deep_hidden_dims=config.network.hidden_dims,\n",
    "                         dropout_rate=config.network.dropout, device = device)\n",
    "\n",
    "trainer = Trainer(model, None, config, train_loader=train_loader, lr=float(config.train.lr), val_loader=val_loader)\n",
    "\n",
    "trainer.fit()\n"
   ]
  },
  {
   "cell_type": "code",
   "execution_count": null,
   "metadata": {},
   "outputs": [
    {
     "name": "stdout",
     "output_type": "stream",
     "text": [
      "Feature name: UserID\n",
      "Tensor shape: torch.Size([100])\n",
      "Device: cpu\n",
      "tensor([0, 0, 0, 0, 0])\n",
      "Feature name: MovieID\n",
      "Tensor shape: torch.Size([100])\n",
      "Device: cpu\n",
      "tensor([2225, 2651,  459,  103, 3076])\n",
      "Feature name: Occupation\n",
      "Tensor shape: torch.Size([100])\n",
      "Device: cpu\n",
      "tensor([10, 10, 10, 10, 10])\n",
      "Feature name: AgeEncoded\n",
      "Tensor shape: torch.Size([100])\n",
      "Device: cpu\n",
      "tensor([0, 0, 0, 0, 0])\n",
      "Feature name: Zip-codeEncoded\n",
      "Tensor shape: torch.Size([100])\n",
      "Device: cpu\n",
      "tensor([0, 0, 0, 0, 0])\n",
      "Feature name: Year\n",
      "Tensor shape: torch.Size([100])\n",
      "Device: cpu\n",
      "tensor([41, 76,  4,  0, 76])\n",
      "torch.Size([100, 19])\n",
      "[0.7357631  0.22880332 0.00886033 0.37474313 0.19806252 0.00373534\n",
      " 0.3050484  0.26096797 0.11530426 0.08786086 0.31771463 0.1597677\n",
      " 0.11685704 0.16672562 0.63382363 0.1862734  0.45682192 0.03359089\n",
      " 0.00302638 0.45908466 0.11496966 0.80186343 0.00149845 0.34122795\n",
      " 0.5293562  0.6846504  0.03746635 0.0388747  0.21442103 0.69237936\n",
      " 0.15651695 0.08780502 0.06966848 0.90145177 0.03292287 0.39457852\n",
      " 0.71685326 0.18070933 0.03404941 0.5624992  0.20371276 0.01153396\n",
      " 0.1510243  0.03333254 0.01801259 0.02591407 0.0053862  0.00742875\n",
      " 0.7118781  0.01212005 0.03239279 0.1200619  0.12801328 0.08775303\n",
      " 0.01917478 0.9024823  0.01729674 0.05817999 0.6326143  0.00670954\n",
      " 0.02101319 0.01233113 0.13103546 0.08825266 0.0608845  0.30409113\n",
      " 0.00646701 0.12991042 0.69526356 0.1976211  0.5439167  0.54168624\n",
      " 0.00731204 0.32170704 0.14272258 0.32467195 0.05418438 0.02005679\n",
      " 0.06691524 0.34166297 0.29111803 0.02265785 0.05273266 0.11387675\n",
      " 0.15894844 0.88366246 0.51667696 0.20729882 0.03974488 0.35106438\n",
      " 0.2039144  0.4667801  0.04521237 0.6866558  0.00909569 0.00128252\n",
      " 0.01081222 0.01735832 0.00549713 0.04365712]\n"
     ]
    },
    {
     "data": {
      "text/plain": [
       "{'Hit@10': 0.5443247721623861,\n",
       " 'NDCG@10': 0.2991628685530117,\n",
       " 'MRR': 0.24677095003308439,\n",
       " 'MAP': 0.24677095003308439}"
      ]
     },
     "execution_count": 80,
     "metadata": {},
     "output_type": "execute_result"
    }
   ],
   "source": [
    "# Evaluate Model\n",
    "from evaluation import evaluate_DCNV2Model\n",
    "\n",
    "all_movies = set(movies[\"MovieID\"].unique())\n",
    "evaluate_DCNV2Model(model=model, user_splits=user_splits, global_items=all_movies, device=device, users=users, movies=movies,\n",
    "                    sparse_feature_info=sparse_feature_info) \n"
   ]
  }
 ],
 "metadata": {
  "kernelspec": {
   "display_name": "final_project",
   "language": "python",
   "name": "python3"
  },
  "language_info": {
   "codemirror_mode": {
    "name": "ipython",
    "version": 3
   },
   "file_extension": ".py",
   "mimetype": "text/x-python",
   "name": "python",
   "nbconvert_exporter": "python",
   "pygments_lexer": "ipython3",
   "version": "3.10.16"
  }
 },
 "nbformat": 4,
 "nbformat_minor": 2
}
